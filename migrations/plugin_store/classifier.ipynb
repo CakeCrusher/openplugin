{
 "cells": [
  {
   "attachments": {},
   "cell_type": "markdown",
   "metadata": {},
   "source": [
    "# How this filter works\n",
    "- 1. Assign `all_plugins.json` and to variable `all_plugins` to it\n",
    "- 2. Create `blacklist_list` dict\n",
    "  - 1. Get blacklist from `blacklist.json`\n",
    "  - 2. Since `blacklist.json` is a nested dict, only get the leaf arrays and aggregate them into a single array. Set this array to `blacklist_list`\n",
    "- 3. Assign `plugins_info.json` to variable `plugins_info`\n",
    "- 4. Initiate a dict called inital_screening. Execute an initial screening of plugins with the following loop:\n",
    "  - 1. Create a dict called `plugin_info` with the item `{namespace: plugin[\"namespace\"], image: plugin[\"manifest\"].get(\"logo_url\", None), description_for_human: plugin[\"manifest\"][\"description_for_human\"], description_for_model[plugin[\"manifest\"][\"description_for_model\"]], openapi_url: plugin[\"manifest\"][\"api\"][\"url\"]}`\n",
    "  - 2. Check if `auth` is `\"none\"`\n",
    "    - 1. If passes then add the following items to `plugin_info` to `{auth: false}`\n",
    "    - 2. If fails then add the following items to `plugin_info` to `{auth: true}`\n",
    "  - 3. Check that `namespace` is not it `blacklist_list`\n",
    "    - 1. If passes then add the following items to `plugin_info` to `{blacklisted: false}`\n",
    "    - 2. If fails then add the following items to `plugin_info` to `{blacklisted: true}`\n",
    "  - 4. Add `plugin_info` to `plugins_info` with key of the namespace\n",
    "- 5. Iterate through `plugins_info` and do the following:\n",
    "  - 1. Check if `plugin_info[\"openapi_url\"]` can be called without error\n",
    "    - 1. If passes then add the following items to `plugin_info` to `{whitelisted: true}`\n",
    "    - 2. If fails then add the following items to `plugin_info` to `{whitelisted: false}`\n",
    "- 6. iterate through `openplugin_classes` to do a complete prompted test.\n",
    "  - 1. generate a stimulous prompt to test the plugin\n",
    "  - 2. use stimulous prompt to see if plugin can be called without error\n",
    "- 7. Creaate a status for all plugins\n",
    "  - 1. all plugins start with status `unsupported`\n",
    "  - 2. if plugin `not openplugin_info[\"auth\"] and not openplugin_info[\"blacklisted\"] and openplugin_info[\"whitelisted\"]` then status is `tentative`\n",
    "  - 3. if plugin has `openplugin_info[\"stimulous_prompt\"] and openplugin_info[\"stimulated\"]` the status is `supported`\n",
    "- 8. Create a file called `openplugins_compressed.json` and save only plugins that are `tentative` or `supported`\n",
    "  - 1. Create a dict called `openplugins_compressed`\n",
    "  - 2. Iterate through `plugins_info` and do the following:\n",
    "    - 1. Check if `plugin_info[\"status\"]` is `tentative` or `supported`\n",
    "      - 1. If passes then add item {[namespace]: \"https://\" + openplugin_info[\"domain\"]} to `openplugins_compressed`\n",
    "- 9. create `PLUGINS.md` table based on `openplugins_compressed`"
   ]
  },
  {
   "cell_type": "code",
   "execution_count": 1,
   "metadata": {},
   "outputs": [],
   "source": [
    "import json\n",
    "import os\n",
    "import re\n",
    "import requests\n",
    "from openplugincore import OpenPlugin\n",
    "import openai\n",
    "OPENAI_API_KEY = os.getenv(\"OPENAI_API_KEY\")\n",
    "openai.api_key = OPENAI_API_KEY"
   ]
  },
  {
   "cell_type": "code",
   "execution_count": 2,
   "metadata": {},
   "outputs": [],
   "source": [
    "# handling isinstance_loop failure\n",
    "with open('log.txt', 'r') as file:\n",
    "    lines = file.read().splitlines()\n",
    "    if lines:\n",
    "        last_line = lines[-1]\n",
    "        index_break, faulty_namespace = last_line.split()\n",
    "        index_break = int(index_break)\n",
    "    else:\n",
    "        index_break, faulty_namespace = 1, None\n",
    "if faulty_namespace:\n",
    "    with open('blacklist.json', 'r') as file:\n",
    "        blacklist = json.load(file)\n",
    "    blacklist[\"isinstance_loop\"].append(faulty_namespace)\n",
    "    with open('blacklist.json', 'w') as file:\n",
    "        json.dump(blacklist, file, indent=2)\n"
   ]
  },
  {
   "cell_type": "code",
   "execution_count": 3,
   "metadata": {},
   "outputs": [
    {
     "name": "stdout",
     "output_type": "stream",
     "text": [
      "Number of plugins: 615\n",
      "First plugin: {\n",
      "  \"id\": \"plugin-985f0d2e-45f1-495c-b293-72ec96b1857f\",\n",
      "  \"domain\": \"diary-chatgptplugin.derekxwang.com\",\n",
      "  \"namespace\": \"diary\",\n",
      "  \"status\": \"approved\",\n",
      "  \"manifest\": {\n",
      "    \"schema_version\": \"v1\",\n",
      "    \"name_for_model\": \"diary\",\n",
      "    \"name_for_human\": \"Diary\",\n",
      "    \"description_for_model\": \"This plugin offers prompts for seamless diary management, coupled with a wealth of useful information related to maintaining a diary. It is particularly useful when users are working on their diaries and journals.\",\n",
      "    \"description_for_human\": \"Kickstart your diary journey. Keeping a diary is designed to be effortless and beneficial.\",\n",
      "    \"auth\": {\n",
      "      \"type\": \"service_http\",\n",
      "      \"instructions\": \"\",\n",
      "      \"authorization_type\": \"bearer\",\n",
      "      \"verification_tokens\": {\n",
      "        \"openai\": \"6f4a6ab634264bda98df697b672b90c9\"\n",
      "      }\n",
      "    },\n",
      "    \"api\": {\n",
      "      \"type\": \"openapi\",\n",
      "      \"url\": \"https://diary-chatgptplugin.derekxwang.com/.well-known/openapi.yaml\"\n",
      "    },\n",
      "    \"logo_url\": \"https://diary-chatgptplugin.derekxwang.com/.well-known/logo.png\",\n",
      "    \"contact_email\": \"derekxinzhewang@gmail.com\",\n",
      "    \"legal_info_url\": \"https://diary.derekxwang.com/chatgptplugin/legal\"\n",
      "  },\n",
      "  \"oauth_client_id\": null,\n",
      "  \"user_settings\": {\n",
      "    \"is_installed\": false,\n",
      "    \"is_authenticated\": true\n",
      "  },\n",
      "  \"categories\": [\n",
      "    {\n",
      "      \"id\": \"newly_added\",\n",
      "      \"title\": \"New\"\n",
      "    }\n",
      "  ]\n",
      "}\n"
     ]
    }
   ],
   "source": [
    "# 1. Assign `all_plugins.json` to variable `all_plugins`\n",
    "pypi_client_path = 'all_plugins.json'\n",
    "\n",
    "with open(pypi_client_path, 'r', encoding='utf-8') as f:\n",
    "    lines = f.readlines()\n",
    "\n",
    "# Concatenate lines into a single JSON document\n",
    "json_content = ''.join(lines)\n",
    "\n",
    "try:\n",
    "    all_plugins = json.loads(json_content)\n",
    "except json.JSONDecodeError as e:\n",
    "    print(f\"JSONDecodeError: {e}\")\n",
    "\n",
    "print(f\"Number of plugins: {len(all_plugins)}\\nFirst plugin: {json.dumps(all_plugins[0], indent=2)}\")"
   ]
  },
  {
   "cell_type": "code",
   "execution_count": 4,
   "metadata": {},
   "outputs": [
    {
     "name": "stdout",
     "output_type": "stream",
     "text": [
      "Number of blacklisted plugins: 33\n",
      "Blacklist list: ['Coursera', 'video_insights', 'KAYAK', 'ArtCollection', 'AskMarcie', 'Avalara', 'BOXIL_SaaS', 'Broadway', 'BubbleGoods', 'ChatWithBible', 'ChatWithQuran', 'CryptoPrices', 'FreshTech', 'ABCmouse', 'staypia', 'DAIZY', 'Company_Transcripts', 'Bohita', 'CheckTheChain', 'Checkers', 'CloudDiagramGen', 'Diagrams', 'Creaticode_Extension_of_MIT_Scratch', 'Alchemy', 'ContentApp', 'Etihad_Airline', 'HaffPrice', 'JetBookClick', 'Product_Comparison', 'SEO', 'TestosteronBoostDiet', 'i_am_rich', 'universal']\n"
     ]
    }
   ],
   "source": [
    "# 2. Create `blacklist_list` dict\n",
    "with open('blacklist.json', 'r', encoding='utf-8') as f:\n",
    "    blacklist = json.load(f)\n",
    "def aggregate_items(json_object):\n",
    "    aggregate_list = []\n",
    "    for key in json_object:\n",
    "        aggregate_list.extend(json_object[key])\n",
    "    return aggregate_list\n",
    "blacklist_list = aggregate_items(blacklist)\n",
    "print(f\"Number of blacklisted plugins: {len(blacklist_list)}\\nBlacklist list: {blacklist_list}\")"
   ]
  },
  {
   "cell_type": "code",
   "execution_count": 5,
   "metadata": {},
   "outputs": [
    {
     "name": "stdout",
     "output_type": "stream",
     "text": [
      "Number of plugins in openplugins_info: 609\n",
      "First plugin in openplugins_info: {\n",
      "  \"auth\": false,\n",
      "  \"blacklisted\": true,\n",
      "  \"description_for_human\": \"Provides fun and educational learning activities for children 2-8 years old.\",\n",
      "  \"description_for_model\": \"Assistant uses the ABCmouse plugin to get relevant learning activity suggestions for any child 2-8 years of age. Assistant will reply with the following 3 paragraphs 1) Activity Search Results [image] and [url] 2) Activity Learning Objectives [description] and [learning_objective] 3) Followup Questions. The first paragraph contains a list of the activities [url] with their learning attributes listed clearly and concisely as bullet points under the product [description], together with a link to the activity [url] and an explanation [learning_objective]. Links will always be returned and should be shown to the user. Assistant suggestions consider only the most important objectives of the activities [description, learning_objective] that will help them fit the users request, and each activity [url] mention is brief, short and concise. In the third paragraph assistant always asks helpful follow-up questions and end with a question mark. When assistant is asking a follow-up question, it uses its learning activity expertise to provide information pertaining to the subject of the user\\u2019s request that may guide them in their search for the right activity.\",\n",
      "  \"domain\": \"ai.abcmouse.com\",\n",
      "  \"image\": \"https://ai.abcmouse.com/logo.png\",\n",
      "  \"namespace\": \"ABCmouse\",\n",
      "  \"openapi_url\": \"https://ai.abcmouse.com/openapi.yml\",\n",
      "  \"status\": \"unsupported\",\n",
      "  \"stimulated\": false,\n",
      "  \"stimulous_prompt\": null,\n",
      "  \"whitelisted\": true\n",
      "}\n"
     ]
    }
   ],
   "source": [
    "# 3. Assign `plugins_info.json` to variable `plugins_info`\n",
    "with open('openplugins_info.json', 'r', encoding='utf-8') as f:\n",
    "    openplugins_info: dict = json.load(f)\n",
    "first_openplugin_info = list(openplugins_info.keys())[0]\n",
    "\n",
    "print(f\"Number of plugins in openplugins_info: {len(openplugins_info)}\\nFirst plugin in openplugins_info: {json.dumps(openplugins_info[first_openplugin_info], indent=2)}\")"
   ]
  },
  {
   "cell_type": "code",
   "execution_count": 10,
   "metadata": {},
   "outputs": [
    {
     "name": "stdout",
     "output_type": "stream",
     "text": [
      "Number of plugins in openplugins_info: 609\n",
      "First openplugin info: {\n",
      "  \"auth\": false,\n",
      "  \"blacklisted\": true,\n",
      "  \"description_for_human\": \"Provides fun and educational learning activities for children 2-8 years old.\",\n",
      "  \"description_for_model\": \"Assistant uses the ABCmouse plugin to get relevant learning activity suggestions for any child 2-8 years of age. Assistant will reply with the following 3 paragraphs 1) Activity Search Results [image] and [url] 2) Activity Learning Objectives [description] and [learning_objective] 3) Followup Questions. The first paragraph contains a list of the activities [url] with their learning attributes listed clearly and concisely as bullet points under the product [description], together with a link to the activity [url] and an explanation [learning_objective]. Links will always be returned and should be shown to the user. Assistant suggestions consider only the most important objectives of the activities [description, learning_objective] that will help them fit the users request, and each activity [url] mention is brief, short and concise. In the third paragraph assistant always asks helpful follow-up questions and end with a question mark. When assistant is asking a follow-up question, it uses its learning activity expertise to provide information pertaining to the subject of the user\\u2019s request that may guide them in their search for the right activity.\",\n",
      "  \"domain\": \"ai.abcmouse.com\",\n",
      "  \"image\": \"https://ai.abcmouse.com/logo.png\",\n",
      "  \"namespace\": \"ABCmouse\",\n",
      "  \"openapi_url\": \"https://ai.abcmouse.com/openapi.yml\",\n",
      "  \"status\": \"unsupported\",\n",
      "  \"stimulated\": false,\n",
      "  \"stimulous_prompt\": null,\n",
      "  \"whitelisted\": true\n",
      "}\n"
     ]
    }
   ],
   "source": [
    "# 4. Initiate a dict called inital_screening. Execute an initial screening of plugins with the following loop:\n",
    "for plugin in all_plugins:\n",
    "    openplugin_info = {\n",
    "        **openplugins_info.get(plugin['namespace'], {}),\n",
    "        'namespace': plugin['manifest']['name_for_model'],\n",
    "        'image': plugin['manifest'].get('logo_url', None),\n",
    "        'description_for_human': plugin['manifest'].get('description_for_human', None),\n",
    "        'description_for_model': plugin['manifest'].get('description_for_model', None),\n",
    "        'domain': plugin['domain'],\n",
    "        'openapi_url': plugin['manifest'].get('api', {}).get('url', None)\n",
    "    }\n",
    "    if plugin['manifest'].get('auth', {}).get('type', None) == 'none':\n",
    "        openplugin_info['auth'] = False\n",
    "    else:\n",
    "        openplugin_info['auth'] = True\n",
    "    if plugin['namespace'] not in blacklist_list:\n",
    "        openplugin_info['blacklisted'] = False\n",
    "    else:\n",
    "        openplugin_info['blacklisted'] = True\n",
    "    openplugins_info[plugin['namespace']] = openplugin_info\n",
    "with open('openplugins_info.json', 'w', encoding='utf-8') as f:\n",
    "    json.dump(openplugins_info, f, indent=2, sort_keys=True)\n",
    "first_openplugin_info = openplugins_info[list(openplugins_info.keys())[0]]\n",
    "print(f\"Number of plugins in openplugins_info: {len(openplugins_info)}\\nFirst openplugin info: {json.dumps(first_openplugin_info, indent=2)}\")\n"
   ]
  },
  {
   "cell_type": "code",
   "execution_count": 11,
   "metadata": {},
   "outputs": [
    {
     "name": "stderr",
     "output_type": "stream",
     "text": [
      "Attempting to load an OpenAPI 3.0.1 spec.  This may result in degraded performance. Convert your OpenAPI spec to 3.1.* spec for better support.\n"
     ]
    },
    {
     "name": "stdout",
     "output_type": "stream",
     "text": [
      "1 AFinChat  success\n"
     ]
    },
    {
     "name": "stderr",
     "output_type": "stream",
     "text": [
      "Attempting to load an OpenAPI 3.0.1 spec.  This may result in degraded performance. Convert your OpenAPI spec to 3.1.* spec for better support.\n",
      "Attempting to load an OpenAPI 3.0.1 spec.  This may result in degraded performance. Convert your OpenAPI spec to 3.1.* spec for better support.\n"
     ]
    },
    {
     "name": "stdout",
     "output_type": "stream",
     "text": [
      "2 AI2sql  success\n"
     ]
    },
    {
     "name": "stderr",
     "output_type": "stream",
     "text": [
      "Attempting to load an OpenAPI 3.0.1 spec.  This may result in degraded performance. Convert your OpenAPI spec to 3.1.* spec for better support.\n"
     ]
    },
    {
     "name": "stdout",
     "output_type": "stream",
     "text": [
      "3 AIMaster  success\n",
      "4 AINewsRoundup Error: 406 Client Error: Not Acceptable for url: https://ai-news.orrenprunckun.com/.well-known/ai-plugin.json\n"
     ]
    },
    {
     "name": "stderr",
     "output_type": "stream",
     "text": [
      "Attempting to load an OpenAPI 3.0.1 spec.  This may result in degraded performance. Convert your OpenAPI spec to 3.1.* spec for better support.\n"
     ]
    },
    {
     "name": "stdout",
     "output_type": "stream",
     "text": [
      "5 AIstrologer  success\n"
     ]
    },
    {
     "name": "stderr",
     "output_type": "stream",
     "text": [
      "Attempting to load an OpenAPI 3.0.1 spec.  This may result in degraded performance. Convert your OpenAPI spec to 3.1.* spec for better support.\n",
      "Attempting to load an OpenAPI 3.0.1 spec.  This may result in degraded performance. Convert your OpenAPI spec to 3.1.* spec for better support.\n",
      "Attempting to load an OpenAPI 3.0.1 spec.  This may result in degraded performance. Convert your OpenAPI spec to 3.1.* spec for better support.\n"
     ]
    },
    {
     "name": "stdout",
     "output_type": "stream",
     "text": [
      "6 AMAZON_product_desc_generator  success\n",
      "7 AbleStyle  success\n"
     ]
    },
    {
     "name": "stderr",
     "output_type": "stream",
     "text": [
      "Attempting to load an OpenAPI 3.0.2 spec.  This may result in degraded performance. Convert your OpenAPI spec to 3.1.* spec for better support.\n"
     ]
    },
    {
     "name": "stdout",
     "output_type": "stream",
     "text": [
      "8 AbridgedDueDiligence  success\n"
     ]
    },
    {
     "name": "stderr",
     "output_type": "stream",
     "text": [
      "Attempting to load an OpenAPI 3.0.1 spec.  This may result in degraded performance. Convert your OpenAPI spec to 3.1.* spec for better support.\n"
     ]
    },
    {
     "name": "stdout",
     "output_type": "stream",
     "text": [
      "9 Agones  success\n",
      "10 Ai_PDF  success\n"
     ]
    },
    {
     "name": "stderr",
     "output_type": "stream",
     "text": [
      "Attempting to load an OpenAPI 3.0.2 spec.  This may result in degraded performance. Convert your OpenAPI spec to 3.1.* spec for better support.\n"
     ]
    },
    {
     "name": "stdout",
     "output_type": "stream",
     "text": [
      "12 Algorithma  success\n"
     ]
    },
    {
     "name": "stderr",
     "output_type": "stream",
     "text": [
      "Attempting to load an OpenAPI 3.0.1 spec.  This may result in degraded performance. Convert your OpenAPI spec to 3.1.* spec for better support.\n"
     ]
    },
    {
     "name": "stdout",
     "output_type": "stream",
     "text": [
      "13 Ambition  success\n"
     ]
    },
    {
     "name": "stderr",
     "output_type": "stream",
     "text": [
      "Attempting to load an OpenAPI 3.0.0 spec.  This may result in degraded performance. Convert your OpenAPI spec to 3.1.* spec for better support.\n"
     ]
    },
    {
     "name": "stdout",
     "output_type": "stream",
     "text": [
      "14 ApexMap  success\n"
     ]
    },
    {
     "name": "stderr",
     "output_type": "stream",
     "text": [
      "Attempting to load an OpenAPI 3.0.3 spec.  This may result in degraded performance. Convert your OpenAPI spec to 3.1.* spec for better support.\n"
     ]
    },
    {
     "name": "stdout",
     "output_type": "stream",
     "text": [
      "15 AppyPieAIAppBuilder  success\n"
     ]
    },
    {
     "name": "stderr",
     "output_type": "stream",
     "text": [
      "Attempting to load an OpenAPI 3.0.1 spec.  This may result in degraded performance. Convert your OpenAPI spec to 3.1.* spec for better support.\n",
      "Attempting to load an OpenAPI 3.0.1 spec.  This may result in degraded performance. Convert your OpenAPI spec to 3.1.* spec for better support.\n"
     ]
    },
    {
     "name": "stdout",
     "output_type": "stream",
     "text": [
      "17 AskCars  success\n"
     ]
    },
    {
     "name": "stderr",
     "output_type": "stream",
     "text": [
      "Attempting to load an OpenAPI 3.0.1 spec.  This may result in degraded performance. Convert your OpenAPI spec to 3.1.* spec for better support.\n"
     ]
    },
    {
     "name": "stdout",
     "output_type": "stream",
     "text": [
      "19 AskTheCode  success\n",
      "Processing plugin 20 of 609\n",
      "20 AusPetrolPrices Error: 406 Client Error: Not Acceptable for url: https://petrolpricepredictor.com/.well-known/ai-plugin.json\n",
      "21 AusSurfReport Error: 406 Client Error: Not Acceptable for url: https://surfreport.orrenprunckun.com/.well-known/ai-plugin.json\n"
     ]
    },
    {
     "name": "stderr",
     "output_type": "stream",
     "text": [
      "Attempting to load an OpenAPI 3.0.1 spec.  This may result in degraded performance. Convert your OpenAPI spec to 3.1.* spec for better support.\n"
     ]
    },
    {
     "name": "stdout",
     "output_type": "stream",
     "text": [
      "22 Austrian_Bank_Rates  success\n"
     ]
    },
    {
     "name": "stderr",
     "output_type": "stream",
     "text": [
      "Attempting to load an OpenAPI 3.0.1 spec.  This may result in degraded performance. Convert your OpenAPI spec to 3.1.* spec for better support.\n"
     ]
    },
    {
     "name": "stdout",
     "output_type": "stream",
     "text": [
      "23 AutoInfra1  success\n"
     ]
    },
    {
     "name": "stderr",
     "output_type": "stream",
     "text": [
      "Attempting to load an OpenAPI 3.0.2 spec.  This may result in degraded performance. Convert your OpenAPI spec to 3.1.* spec for better support.\n"
     ]
    },
    {
     "name": "stdout",
     "output_type": "stream",
     "text": [
      "26 Bardeen  success\n",
      "27 BitcoinSentiment Error: 406 Client Error: Not Acceptable for url: https://bitcoin.orrenprunckun.com/.well-known/ai-plugin.json\n"
     ]
    },
    {
     "name": "stderr",
     "output_type": "stream",
     "text": [
      "Attempting to load an OpenAPI 3.0.1 spec.  This may result in degraded performance. Convert your OpenAPI spec to 3.1.* spec for better support.\n"
     ]
    },
    {
     "name": "stdout",
     "output_type": "stream",
     "text": [
      "30 BrowserPilot  success\n"
     ]
    },
    {
     "name": "stderr",
     "output_type": "stream",
     "text": [
      "Attempting to load an OpenAPI 3.0.1 spec.  This may result in degraded performance. Convert your OpenAPI spec to 3.1.* spec for better support.\n"
     ]
    },
    {
     "name": "stdout",
     "output_type": "stream",
     "text": [
      "32 ByByAI  success\n"
     ]
    },
    {
     "name": "stderr",
     "output_type": "stream",
     "text": [
      "Attempting to load an OpenAPI 3.0.1 spec.  This may result in degraded performance. Convert your OpenAPI spec to 3.1.* spec for better support.\n"
     ]
    },
    {
     "name": "stdout",
     "output_type": "stream",
     "text": [
      "33 C3_Glide  success\n",
      "34 CSVExport Error: 403 Client Error: Forbidden for url: https://csv-export-plugin.chatbot.so/.well-known/ai-plugin.json\n"
     ]
    },
    {
     "name": "stderr",
     "output_type": "stream",
     "text": [
      "Attempting to load an OpenAPI 3.0.1 spec.  This may result in degraded performance. Convert your OpenAPI spec to 3.1.* spec for better support.\n"
     ]
    },
    {
     "name": "stdout",
     "output_type": "stream",
     "text": [
      "35 CTCP  success\n",
      "36 CarYardBard Error: 403 Client Error: Forbidden for url: https://api.caryardbard.com/.well-known/ai-plugin.json\n"
     ]
    },
    {
     "name": "stderr",
     "output_type": "stream",
     "text": [
      "Attempting to load an OpenAPI 3.0.1 spec.  This may result in degraded performance. Convert your OpenAPI spec to 3.1.* spec for better support.\n"
     ]
    },
    {
     "name": "stdout",
     "output_type": "stream",
     "text": [
      "37 Catch_Them_All  success\n"
     ]
    },
    {
     "name": "stderr",
     "output_type": "stream",
     "text": [
      "Attempting to load an OpenAPI 3.0.0 spec.  This may result in degraded performance. Convert your OpenAPI spec to 3.1.* spec for better support.\n"
     ]
    },
    {
     "name": "stdout",
     "output_type": "stream",
     "text": [
      "38 ChargeMyEV  success\n"
     ]
    },
    {
     "name": "stderr",
     "output_type": "stream",
     "text": [
      "Attempting to load an OpenAPI 3.0.1 spec.  This may result in degraded performance. Convert your OpenAPI spec to 3.1.* spec for better support.\n"
     ]
    },
    {
     "name": "stdout",
     "output_type": "stream",
     "text": [
      "39 ChatOCR  success\n"
     ]
    },
    {
     "name": "stderr",
     "output_type": "stream",
     "text": [
      "Attempting to load an OpenAPI 3.0.1 spec.  This may result in degraded performance. Convert your OpenAPI spec to 3.1.* spec for better support.\n"
     ]
    },
    {
     "name": "stdout",
     "output_type": "stream",
     "text": [
      "41 ChatWithGit  success\n"
     ]
    },
    {
     "name": "stderr",
     "output_type": "stream",
     "text": [
      "Attempting to load an OpenAPI 3.0.3 spec.  This may result in degraded performance. Convert your OpenAPI spec to 3.1.* spec for better support.\n"
     ]
    },
    {
     "name": "stdout",
     "output_type": "stream",
     "text": [
      "45 Chess  success\n"
     ]
    },
    {
     "name": "stderr",
     "output_type": "stream",
     "text": [
      "Attempting to load an OpenAPI 3.0.2 spec.  This may result in degraded performance. Convert your OpenAPI spec to 3.1.* spec for better support.\n"
     ]
    },
    {
     "name": "stdout",
     "output_type": "stream",
     "text": [
      "46 Clay  success\n",
      "48 CodeCastWandbox Error: Unable to parse spec from source https://codecast-wandbox.thx.pw/openapi.yaml\n"
     ]
    },
    {
     "name": "stderr",
     "output_type": "stream",
     "text": [
      "Attempting to load an OpenAPI 3.0.1 spec.  This may result in degraded performance. Convert your OpenAPI spec to 3.1.* spec for better support.\n"
     ]
    },
    {
     "name": "stdout",
     "output_type": "stream",
     "text": [
      "49 CommonEvents  success\n",
      "50 CompaniesInTheUK Error: Unable to parse spec from source https://api.companiesintheuk.co.uk/openapi.yaml\n",
      "53 ContentRewriter Error: 406 Client Error: Not Acceptable for url: https://content-rewriter.orrenprunckun.com/.well-known/ai-plugin.json\n"
     ]
    },
    {
     "name": "stderr",
     "output_type": "stream",
     "text": [
      "Attempting to load an OpenAPI 3.0.1 spec.  This may result in degraded performance. Convert your OpenAPI spec to 3.1.* spec for better support.\n"
     ]
    },
    {
     "name": "stdout",
     "output_type": "stream",
     "text": [
      "54 Coupert  success\n"
     ]
    },
    {
     "name": "stderr",
     "output_type": "stream",
     "text": [
      "Attempting to load an OpenAPI 3.0.1 spec.  This may result in degraded performance. Convert your OpenAPI spec to 3.1.* spec for better support.\n"
     ]
    },
    {
     "name": "stdout",
     "output_type": "stream",
     "text": [
      "56 CranePumpsManuals  success\n"
     ]
    },
    {
     "name": "stderr",
     "output_type": "stream",
     "text": [
      "Attempting to load an OpenAPI 3.0.1 spec.  This may result in degraded performance. Convert your OpenAPI spec to 3.1.* spec for better support.\n"
     ]
    },
    {
     "name": "stdout",
     "output_type": "stream",
     "text": [
      "58 CreatuityStores  success\n"
     ]
    },
    {
     "name": "stderr",
     "output_type": "stream",
     "text": [
      "Attempting to load an OpenAPI 3.0.1 spec.  This may result in degraded performance. Convert your OpenAPI spec to 3.1.* spec for better support.\n"
     ]
    },
    {
     "name": "stdout",
     "output_type": "stream",
     "text": [
      "59 CreditYelp  success\n",
      "Processing plugin 60 of 609\n"
     ]
    },
    {
     "name": "stderr",
     "output_type": "stream",
     "text": [
      "Attempting to load an OpenAPI 3.0.0 spec.  This may result in degraded performance. Convert your OpenAPI spec to 3.1.* spec for better support.\n"
     ]
    },
    {
     "name": "stdout",
     "output_type": "stream",
     "text": [
      "60 CribbageScorer  success\n"
     ]
    },
    {
     "name": "stderr",
     "output_type": "stream",
     "text": [
      "Attempting to load an OpenAPI 3.0.2 spec.  This may result in degraded performance. Convert your OpenAPI spec to 3.1.* spec for better support.\n"
     ]
    },
    {
     "name": "stdout",
     "output_type": "stream",
     "text": [
      "62 CustomKnowledge Error: Unable to parse spec from source https://oracle.eesel.app/.well-known/openapi.yaml\n"
     ]
    },
    {
     "name": "stderr",
     "output_type": "stream",
     "text": [
      "Attempting to load an OpenAPI 3.0.1 spec.  This may result in degraded performance. Convert your OpenAPI spec to 3.1.* spec for better support.\n"
     ]
    },
    {
     "name": "stdout",
     "output_type": "stream",
     "text": [
      "64 Devhunt  success\n"
     ]
    },
    {
     "name": "stderr",
     "output_type": "stream",
     "text": [
      "Attempting to load an OpenAPI 3.0.1 spec.  This may result in degraded performance. Convert your OpenAPI spec to 3.1.* spec for better support.\n",
      "Attempting to load an OpenAPI 3.0.1 spec.  This may result in degraded performance. Convert your OpenAPI spec to 3.1.* spec for better support.\n"
     ]
    },
    {
     "name": "stdout",
     "output_type": "stream",
     "text": [
      "66 DoorDashNearbyStores  success\n"
     ]
    },
    {
     "name": "stderr",
     "output_type": "stream",
     "text": [
      "Attempting to load an OpenAPI 3.0.1 spec.  This may result in degraded performance. Convert your OpenAPI spec to 3.1.* spec for better support.\n"
     ]
    },
    {
     "name": "stdout",
     "output_type": "stream",
     "text": [
      "67 Dr_Thoths_Tarot  success\n"
     ]
    },
    {
     "name": "stderr",
     "output_type": "stream",
     "text": [
      "Attempting to load an OpenAPI 3.0.1 spec.  This may result in degraded performance. Convert your OpenAPI spec to 3.1.* spec for better support.\n"
     ]
    },
    {
     "name": "stdout",
     "output_type": "stream",
     "text": [
      "68 DreamInterpreter  success\n"
     ]
    },
    {
     "name": "stderr",
     "output_type": "stream",
     "text": [
      "Attempting to load an OpenAPI 3.0.2 spec.  This may result in degraded performance. Convert your OpenAPI spec to 3.1.* spec for better support.\n"
     ]
    },
    {
     "name": "stdout",
     "output_type": "stream",
     "text": [
      "69 DreamReader  success\n"
     ]
    },
    {
     "name": "stderr",
     "output_type": "stream",
     "text": [
      "Attempting to load an OpenAPI 3.0.1 spec.  This may result in degraded performance. Convert your OpenAPI spec to 3.1.* spec for better support.\n",
      "Attempting to load an OpenAPI 3.0.1 spec.  This may result in degraded performance. Convert your OpenAPI spec to 3.1.* spec for better support.\n"
     ]
    },
    {
     "name": "stdout",
     "output_type": "stream",
     "text": [
      "70 DuoduoEnglish  success\n"
     ]
    },
    {
     "name": "stderr",
     "output_type": "stream",
     "text": [
      "Attempting to load an OpenAPI 3.0.1 spec.  This may result in degraded performance. Convert your OpenAPI spec to 3.1.* spec for better support.\n"
     ]
    },
    {
     "name": "stdout",
     "output_type": "stream",
     "text": [
      "71 EasyProductSearch  success\n"
     ]
    },
    {
     "name": "stderr",
     "output_type": "stream",
     "text": [
      "Attempting to load an OpenAPI 3.0.1 spec.  This may result in degraded performance. Convert your OpenAPI spec to 3.1.* spec for better support.\n"
     ]
    },
    {
     "name": "stdout",
     "output_type": "stream",
     "text": [
      "72 Eduguide  success\n",
      "73 Eraser  success\n"
     ]
    },
    {
     "name": "stderr",
     "output_type": "stream",
     "text": [
      "Attempting to load an OpenAPI 3.0.1 spec.  This may result in degraded performance. Convert your OpenAPI spec to 3.1.* spec for better support.\n",
      "Attempting to load an OpenAPI 3.0.1 spec.  This may result in degraded performance. Convert your OpenAPI spec to 3.1.* spec for better support.\n"
     ]
    },
    {
     "name": "stdout",
     "output_type": "stream",
     "text": [
      "75 Experiences  success\n"
     ]
    },
    {
     "name": "stderr",
     "output_type": "stream",
     "text": [
      "Attempting to load an OpenAPI 3.0.2 spec.  This may result in degraded performance. Convert your OpenAPI spec to 3.1.* spec for better support.\n"
     ]
    },
    {
     "name": "stdout",
     "output_type": "stream",
     "text": [
      "76 FaceTheFacts  success\n"
     ]
    },
    {
     "name": "stderr",
     "output_type": "stream",
     "text": [
      "Attempting to load an OpenAPI 3.0.1 spec.  This may result in degraded performance. Convert your OpenAPI spec to 3.1.* spec for better support.\n"
     ]
    },
    {
     "name": "stdout",
     "output_type": "stream",
     "text": [
      "77 Ferryhopper  success\n"
     ]
    },
    {
     "name": "stderr",
     "output_type": "stream",
     "text": [
      "Attempting to load an OpenAPI 3.0.1 spec.  This may result in degraded performance. Convert your OpenAPI spec to 3.1.* spec for better support.\n"
     ]
    },
    {
     "name": "stdout",
     "output_type": "stream",
     "text": [
      "78 Figlet  success\n",
      "79 FinTorch_Trading_Assistant Error: Unable to parse spec from source /openapi.yaml\n",
      "Processing plugin 80 of 609\n",
      "80 Free_Kiddie_Books Error: Unable to parse spec from source /openapi.json\n"
     ]
    },
    {
     "name": "stderr",
     "output_type": "stream",
     "text": [
      "Attempting to load an OpenAPI 3.0.2 spec.  This may result in degraded performance. Convert your OpenAPI spec to 3.1.* spec for better support.\n"
     ]
    },
    {
     "name": "stdout",
     "output_type": "stream",
     "text": [
      "82 GameSight  success\n"
     ]
    },
    {
     "name": "stderr",
     "output_type": "stream",
     "text": [
      "Attempting to load an OpenAPI 3.0.0 spec.  This may result in degraded performance. Convert your OpenAPI spec to 3.1.* spec for better support.\n"
     ]
    },
    {
     "name": "stdout",
     "output_type": "stream",
     "text": [
      "83 Gate2AI  success\n",
      "84 GeoGuru Error: 502 Server Error: Bad Gateway for url: https://places.klarityai.com/.well-known/ai-plugin.json\n"
     ]
    },
    {
     "name": "stderr",
     "output_type": "stream",
     "text": [
      "Attempting to load an OpenAPI 3.0.2 spec.  This may result in degraded performance. Convert your OpenAPI spec to 3.1.* spec for better support.\n"
     ]
    },
    {
     "name": "stdout",
     "output_type": "stream",
     "text": [
      "85 GifApi  success\n",
      "86 Glowing Error: 404 Client Error: Not Found for url: https://stage.glowing.ai/.well-known/ai-plugin.json\n"
     ]
    },
    {
     "name": "stderr",
     "output_type": "stream",
     "text": [
      "Attempting to load an OpenAPI 3.0.1 spec.  This may result in degraded performance. Convert your OpenAPI spec to 3.1.* spec for better support.\n"
     ]
    },
    {
     "name": "stdout",
     "output_type": "stream",
     "text": [
      "87 Google_Ads_Shopping_Microsoft_Ads_pay_per_click  success\n",
      "89 HederaAccountInfo Error: Expecting value: line 1 column 1 (char 0)\n",
      "90 Horoscopes_by_Inner_Self Error: Expecting value: line 1 column 1 (char 0)\n",
      "91 HousePricesInTheUK Error: Unable to parse spec from source https://api.housepricesintheuk.co.uk/openapi.yaml\n"
     ]
    },
    {
     "name": "stderr",
     "output_type": "stream",
     "text": [
      "Attempting to load an OpenAPI 3.0.1 spec.  This may result in degraded performance. Convert your OpenAPI spec to 3.1.* spec for better support.\n"
     ]
    },
    {
     "name": "stdout",
     "output_type": "stream",
     "text": [
      "92 Humanize  success\n"
     ]
    },
    {
     "name": "stderr",
     "output_type": "stream",
     "text": [
      "Attempting to load an OpenAPI 3.0.1 spec.  This may result in degraded performance. Convert your OpenAPI spec to 3.1.* spec for better support.\n"
     ]
    },
    {
     "name": "stdout",
     "output_type": "stream",
     "text": [
      "93 IbottaShopping  success\n",
      "94 IdeaOrganiser Error: Unable to parse spec from source https://idea-organiser.thx.pw/openapi.yaml\n",
      "95 ImageEditor Error: Unable to parse spec from source /openapi.yaml\n"
     ]
    },
    {
     "name": "stderr",
     "output_type": "stream",
     "text": [
      "Attempting to load an OpenAPI 3.0.1 spec.  This may result in degraded performance. Convert your OpenAPI spec to 3.1.* spec for better support.\n"
     ]
    },
    {
     "name": "stdout",
     "output_type": "stream",
     "text": [
      "96 ImageSearch  success\n"
     ]
    },
    {
     "name": "stderr",
     "output_type": "stream",
     "text": [
      "Attempting to load an OpenAPI 3.0.2 spec.  This may result in degraded performance. Convert your OpenAPI spec to 3.1.* spec for better support.\n"
     ]
    },
    {
     "name": "stdout",
     "output_type": "stream",
     "text": [
      "97 IndoorPlants  success\n",
      "98 Instacart Error: 403 Client Error: Forbidden for url: https://www.instacart.com/.well-known/ai-plugin.json\n",
      "99 InterestRates Error: 406 Client Error: Not Acceptable for url: https://interest-rates.orrenprunckun.com/.well-known/ai-plugin.json\n",
      "Processing plugin 100 of 609\n"
     ]
    },
    {
     "name": "stderr",
     "output_type": "stream",
     "text": [
      "Attempting to load an OpenAPI 3.0.1 spec.  This may result in degraded performance. Convert your OpenAPI spec to 3.1.* spec for better support.\n",
      "Attempting to load an OpenAPI 3.0.2 spec.  This may result in degraded performance. Convert your OpenAPI spec to 3.1.* spec for better support.\n"
     ]
    },
    {
     "name": "stdout",
     "output_type": "stream",
     "text": [
      "100 IsotonixProducts  success\n",
      "102 JiggyBase_retrieval  success\n"
     ]
    },
    {
     "name": "stderr",
     "output_type": "stream",
     "text": [
      "Attempting to load an OpenAPI 3.0.0 spec.  This may result in degraded performance. Convert your OpenAPI spec to 3.1.* spec for better support.\n"
     ]
    },
    {
     "name": "stdout",
     "output_type": "stream",
     "text": [
      "103 JobInterview  success\n"
     ]
    },
    {
     "name": "stderr",
     "output_type": "stream",
     "text": [
      "Attempting to load an OpenAPI 3.0.1 spec.  This may result in degraded performance. Convert your OpenAPI spec to 3.1.* spec for better support.\n"
     ]
    },
    {
     "name": "stdout",
     "output_type": "stream",
     "text": [
      "105 KalendarAI  success\n"
     ]
    },
    {
     "name": "stderr",
     "output_type": "stream",
     "text": [
      "Attempting to load an OpenAPI 3.0.1 spec.  This may result in degraded performance. Convert your OpenAPI spec to 3.1.* spec for better support.\n"
     ]
    },
    {
     "name": "stdout",
     "output_type": "stream",
     "text": [
      "106 KlarnaProducts  success\n",
      "107 Kyujinbox Error: 404 Client Error: Not Found for url: https://xn--pckua2a7gp15o89zb.com/.well-known/ai-plugin.json\n"
     ]
    },
    {
     "name": "stderr",
     "output_type": "stream",
     "text": [
      "Attempting to load an OpenAPI 3.0.1 spec.  This may result in degraded performance. Convert your OpenAPI spec to 3.1.* spec for better support.\n"
     ]
    },
    {
     "name": "stdout",
     "output_type": "stream",
     "text": [
      "108 LGTM  success\n"
     ]
    },
    {
     "name": "stderr",
     "output_type": "stream",
     "text": [
      "Attempting to load an OpenAPI 3.0.2 spec.  This may result in degraded performance. Convert your OpenAPI spec to 3.1.* spec for better support.\n"
     ]
    },
    {
     "name": "stdout",
     "output_type": "stream",
     "text": [
      "109 LawyerPR_PreliminaryReview  success\n"
     ]
    },
    {
     "name": "stderr",
     "output_type": "stream",
     "text": [
      "Attempting to load an OpenAPI 3.0.1 spec.  This may result in degraded performance. Convert your OpenAPI spec to 3.1.* spec for better support.\n"
     ]
    },
    {
     "name": "stdout",
     "output_type": "stream",
     "text": [
      "110 LegalQA  success\n"
     ]
    },
    {
     "name": "stderr",
     "output_type": "stream",
     "text": [
      "Attempting to load an OpenAPI 3.0.2 spec.  This may result in degraded performance. Convert your OpenAPI spec to 3.1.* spec for better support.\n",
      "Attempting to load an OpenAPI 3.0.2 spec.  This may result in degraded performance. Convert your OpenAPI spec to 3.1.* spec for better support.\n"
     ]
    },
    {
     "name": "stdout",
     "output_type": "stream",
     "text": [
      "111 Likewise  success\n"
     ]
    },
    {
     "name": "stderr",
     "output_type": "stream",
     "text": [
      "Attempting to load an OpenAPI 3.0.2 spec.  This may result in degraded performance. Convert your OpenAPI spec to 3.1.* spec for better support.\n"
     ]
    },
    {
     "name": "stdout",
     "output_type": "stream",
     "text": [
      "112 Lingo  success\n"
     ]
    },
    {
     "name": "stderr",
     "output_type": "stream",
     "text": [
      "Attempting to load an OpenAPI 3.0.1 spec.  This may result in degraded performance. Convert your OpenAPI spec to 3.1.* spec for better support.\n"
     ]
    },
    {
     "name": "stdout",
     "output_type": "stream",
     "text": [
      "113 MLPaperReader  success\n",
      "114 Magnetis  success\n"
     ]
    },
    {
     "name": "stderr",
     "output_type": "stream",
     "text": [
      "Attempting to load an OpenAPI 3.0.1 spec.  This may result in degraded performance. Convert your OpenAPI spec to 3.1.* spec for better support.\n",
      "Attempting to load an OpenAPI 3.0.1 spec.  This may result in degraded performance. Convert your OpenAPI spec to 3.1.* spec for better support.\n"
     ]
    },
    {
     "name": "stdout",
     "output_type": "stream",
     "text": [
      "115 Maimovie Error: Could not resolve schema for media type: media_type_schema=None example=None examples=None encoding=None\n"
     ]
    },
    {
     "name": "stderr",
     "output_type": "stream",
     "text": [
      "Attempting to load an OpenAPI 3.0.1 spec.  This may result in degraded performance. Convert your OpenAPI spec to 3.1.* spec for better support.\n"
     ]
    },
    {
     "name": "stdout",
     "output_type": "stream",
     "text": [
      "116 Man_of_Many  success\n"
     ]
    },
    {
     "name": "stderr",
     "output_type": "stream",
     "text": [
      "Attempting to load an OpenAPI 3.0.2 spec.  This may result in degraded performance. Convert your OpenAPI spec to 3.1.* spec for better support.\n",
      "Attempting to load an OpenAPI 3.0.2 spec.  This may result in degraded performance. Convert your OpenAPI spec to 3.1.* spec for better support.\n"
     ]
    },
    {
     "name": "stdout",
     "output_type": "stream",
     "text": [
      "117 Manorlead  success\n"
     ]
    },
    {
     "name": "stderr",
     "output_type": "stream",
     "text": [
      "Attempting to load an OpenAPI 3.0.2 spec.  This may result in degraded performance. Convert your OpenAPI spec to 3.1.* spec for better support.\n"
     ]
    },
    {
     "name": "stdout",
     "output_type": "stream",
     "text": [
      "118 MantiumRetriever  success\n"
     ]
    },
    {
     "name": "stderr",
     "output_type": "stream",
     "text": [
      "Attempting to load an OpenAPI 3.0.1 spec.  This may result in degraded performance. Convert your OpenAPI spec to 3.1.* spec for better support.\n"
     ]
    },
    {
     "name": "stdout",
     "output_type": "stream",
     "text": [
      "119 MemeGenerator  success\n",
      "Processing plugin 120 of 609\n"
     ]
    },
    {
     "name": "stderr",
     "output_type": "stream",
     "text": [
      "Attempting to load an OpenAPI 3.0.2 spec.  This may result in degraded performance. Convert your OpenAPI spec to 3.1.* spec for better support.\n",
      "Attempting to load an OpenAPI 3.0.2 spec.  This may result in degraded performance. Convert your OpenAPI spec to 3.1.* spec for better support.\n"
     ]
    },
    {
     "name": "stdout",
     "output_type": "stream",
     "text": [
      "120 MermaidChart  success\n"
     ]
    },
    {
     "name": "stderr",
     "output_type": "stream",
     "text": [
      "Attempting to load an OpenAPI 3.0.1 spec.  This may result in degraded performance. Convert your OpenAPI spec to 3.1.* spec for better support.\n"
     ]
    },
    {
     "name": "stdout",
     "output_type": "stream",
     "text": [
      "121 MetaPath  success\n"
     ]
    },
    {
     "name": "stderr",
     "output_type": "stream",
     "text": [
      "Attempting to load an OpenAPI 3.0.1 spec.  This may result in degraded performance. Convert your OpenAPI spec to 3.1.* spec for better support.\n"
     ]
    },
    {
     "name": "stdout",
     "output_type": "stream",
     "text": [
      "122 Mino  success\n",
      "123 MixerBox_ChatMap_map  success\n",
      "124 MixerBox_ChatPDF_PDF_reader_analyzer  success\n",
      "125 MixerBox_ChatVideo_YouTube_video_summarizer  success\n"
     ]
    },
    {
     "name": "stderr",
     "output_type": "stream",
     "text": [
      "Attempting to load an OpenAPI 3.0.1 spec.  This may result in degraded performance. Convert your OpenAPI spec to 3.1.* spec for better support.\n"
     ]
    },
    {
     "name": "stdout",
     "output_type": "stream",
     "text": [
      "126 MixerBox_FreecableTV  success\n",
      "127 MixerBox_ImageGen_Al_image_generation  success\n"
     ]
    },
    {
     "name": "stderr",
     "output_type": "stream",
     "text": [
      "Attempting to load an OpenAPI 3.0.1 spec.  This may result in degraded performance. Convert your OpenAPI spec to 3.1.* spec for better support.\n"
     ]
    },
    {
     "name": "stdout",
     "output_type": "stream",
     "text": [
      "128 MixerBox_News  success\n",
      "129 MixerBox_OnePlayer_music Error: Unable to parse spec from source https://www.mbplayer.com/openapi.json\n",
      "130 MixerBox_PhotoMagic_AI_image_enhancer  success\n",
      "131 MixerBox_Podcasts  success\n",
      "132 MixerBox_Prompt_Pro_ideal_responses  success\n",
      "133 MixerBox_Scholar_academic_paper_search_engine  success\n"
     ]
    },
    {
     "name": "stderr",
     "output_type": "stream",
     "text": [
      "Attempting to load an OpenAPI 3.0.1 spec.  This may result in degraded performance. Convert your OpenAPI spec to 3.1.* spec for better support.\n"
     ]
    },
    {
     "name": "stdout",
     "output_type": "stream",
     "text": [
      "134 MixerBox_Translate_AI_language_tutor  success\n",
      "135 MixerBox_Weather  success\n",
      "136 MixerBox_WebSearchG_web_search  success\n"
     ]
    },
    {
     "name": "stderr",
     "output_type": "stream",
     "text": [
      "Attempting to load an OpenAPI 3.0.1 spec.  This may result in degraded performance. Convert your OpenAPI spec to 3.1.* spec for better support.\n"
     ]
    },
    {
     "name": "stdout",
     "output_type": "stream",
     "text": [
      "137 MyWritingCompanion  success\n",
      "138 NFTNewsRoundup Error: HTTPSConnectionPool(host='nftlinkroundup.com', port=443): Max retries exceeded with url: /.well-known/ai-plugin.json (Caused by NameResolutionError(\"<urllib3.connection.HTTPSConnection object at 0x000002144DFDCE50>: Failed to resolve 'nftlinkroundup.com' ([Errno 11002] getaddrinfo failed)\"))\n",
      "139 NFTs Error: 406 Client Error: Not Acceptable for url: https://nftflooralerts.com/.well-known/ai-plugin.json\n",
      "Processing plugin 140 of 609\n"
     ]
    },
    {
     "name": "stderr",
     "output_type": "stream",
     "text": [
      "Attempting to load an OpenAPI 3.0.0 spec.  This may result in degraded performance. Convert your OpenAPI spec to 3.1.* spec for better support.\n"
     ]
    },
    {
     "name": "stdout",
     "output_type": "stream",
     "text": [
      "140 Netlify  success\n"
     ]
    },
    {
     "name": "stderr",
     "output_type": "stream",
     "text": [
      "Attempting to load an OpenAPI 3.0.1 spec.  This may result in degraded performance. Convert your OpenAPI spec to 3.1.* spec for better support.\n"
     ]
    },
    {
     "name": "stdout",
     "output_type": "stream",
     "text": [
      "141 NewsPilot  success\n",
      "142 Now  success\n"
     ]
    },
    {
     "name": "stderr",
     "output_type": "stream",
     "text": [
      "Attempting to load an OpenAPI 3.0.1 spec.  This may result in degraded performance. Convert your OpenAPI spec to 3.1.* spec for better support.\n"
     ]
    },
    {
     "name": "stdout",
     "output_type": "stream",
     "text": [
      "143 Occupation_Skills_and_Course_Recommender  success\n"
     ]
    },
    {
     "name": "stderr",
     "output_type": "stream",
     "text": [
      "Attempting to load an OpenAPI 3.0.2 spec.  This may result in degraded performance. Convert your OpenAPI spec to 3.1.* spec for better support.\n"
     ]
    },
    {
     "name": "stdout",
     "output_type": "stream",
     "text": [
      "144 OfferZen_world  success\n"
     ]
    },
    {
     "name": "stderr",
     "output_type": "stream",
     "text": [
      "Attempting to load an OpenAPI 3.0.1 spec.  This may result in degraded performance. Convert your OpenAPI spec to 3.1.* spec for better support.\n"
     ]
    },
    {
     "name": "stdout",
     "output_type": "stream",
     "text": [
      "145 OptionsPro  success\n"
     ]
    },
    {
     "name": "stderr",
     "output_type": "stream",
     "text": [
      "Attempting to load an OpenAPI 3.0.1 spec.  This may result in degraded performance. Convert your OpenAPI spec to 3.1.* spec for better support.\n"
     ]
    },
    {
     "name": "stdout",
     "output_type": "stream",
     "text": [
      "146 Outschool  success\n"
     ]
    },
    {
     "name": "stderr",
     "output_type": "stream",
     "text": [
      "Attempting to load an OpenAPI 3.0.1 spec.  This may result in degraded performance. Convert your OpenAPI spec to 3.1.* spec for better support.\n",
      "Attempting to load an OpenAPI 3.0.1 spec.  This may result in degraded performance. Convert your OpenAPI spec to 3.1.* spec for better support.\n"
     ]
    },
    {
     "name": "stdout",
     "output_type": "stream",
     "text": [
      "147 OwlJourney  success\n"
     ]
    },
    {
     "name": "stderr",
     "output_type": "stream",
     "text": [
      "Attempting to load an OpenAPI 3.0.1 spec.  This may result in degraded performance. Convert your OpenAPI spec to 3.1.* spec for better support.\n",
      "Unsupported APIPropertyLocation \"header\" for parameter Authorization. Valid values are ['query', 'path'] Ignoring optional parameter\n",
      "Unsupported APIPropertyLocation \"header\" for parameter Authorization. Valid values are ['query', 'path'] Ignoring optional parameter\n",
      "Unsupported APIPropertyLocation \"header\" for parameter Authorization. Valid values are ['query', 'path'] Ignoring optional parameter\n",
      "Unsupported APIPropertyLocation \"header\" for parameter Authorization. Valid values are ['query', 'path'] Ignoring optional parameter\n",
      "Unsupported APIPropertyLocation \"header\" for parameter Authorization. Valid values are ['query', 'path'] Ignoring optional parameter\n",
      "Unsupported APIPropertyLocation \"header\" for parameter Authorization. Valid values are ['query', 'path'] Ignoring optional parameter\n",
      "Unsupported APIPropertyLocation \"header\" for parameter Authorization. Valid values are ['query', 'path'] Ignoring optional parameter\n",
      "Unsupported APIPropertyLocation \"header\" for parameter Authorization. Valid values are ['query', 'path'] Ignoring optional parameter\n",
      "Unsupported APIPropertyLocation \"header\" for parameter Authorization. Valid values are ['query', 'path'] Ignoring optional parameter\n",
      "Unsupported APIPropertyLocation \"header\" for parameter Authorization. Valid values are ['query', 'path'] Ignoring optional parameter\n",
      "Unsupported APIPropertyLocation \"header\" for parameter Authorization. Valid values are ['query', 'path'] Ignoring optional parameter\n",
      "Unsupported APIPropertyLocation \"header\" for parameter Authorization. Valid values are ['query', 'path'] Ignoring optional parameter\n"
     ]
    },
    {
     "name": "stdout",
     "output_type": "stream",
     "text": [
      "148 Owler  success\n",
      "149 PEForNFTs Error: 406 Client Error: Not Acceptable for url: https://nftvaluing.com/.well-known/ai-plugin.json\n"
     ]
    },
    {
     "name": "stderr",
     "output_type": "stream",
     "text": [
      "Attempting to load an OpenAPI 3.0.1 spec.  This may result in degraded performance. Convert your OpenAPI spec to 3.1.* spec for better support.\n"
     ]
    },
    {
     "name": "stdout",
     "output_type": "stream",
     "text": [
      "150 Paraphraser  success\n"
     ]
    },
    {
     "name": "stderr",
     "output_type": "stream",
     "text": [
      "Attempting to load an OpenAPI 3.0.2 spec.  This may result in degraded performance. Convert your OpenAPI spec to 3.1.* spec for better support.\n"
     ]
    },
    {
     "name": "stdout",
     "output_type": "stream",
     "text": [
      "151 People_Search  success\n"
     ]
    },
    {
     "name": "stderr",
     "output_type": "stream",
     "text": [
      "Attempting to load an OpenAPI 3.0.2 spec.  This may result in degraded performance. Convert your OpenAPI spec to 3.1.* spec for better support.\n"
     ]
    },
    {
     "name": "stdout",
     "output_type": "stream",
     "text": [
      "152 PixellowChatWithImage  success\n"
     ]
    },
    {
     "name": "stderr",
     "output_type": "stream",
     "text": [
      "Attempting to load an OpenAPI 3.0.1 spec.  This may result in degraded performance. Convert your OpenAPI spec to 3.1.* spec for better support.\n",
      "Attempting to load an OpenAPI 3.0.1 spec.  This may result in degraded performance. Convert your OpenAPI spec to 3.1.* spec for better support.\n"
     ]
    },
    {
     "name": "stdout",
     "output_type": "stream",
     "text": [
      "153 Planfit  success\n"
     ]
    },
    {
     "name": "stderr",
     "output_type": "stream",
     "text": [
      "Attempting to load an OpenAPI 3.0.0 spec.  This may result in degraded performance. Convert your OpenAPI spec to 3.1.* spec for better support.\n"
     ]
    },
    {
     "name": "stdout",
     "output_type": "stream",
     "text": [
      "154 PlaylistAI  success\n",
      "155 PlaylistFollow Error: 403 Client Error: Forbidden for url: https://68710b76-3f25-4983-88de-9d97e87ed0f0.playlistfollow.com/.well-known/ai-plugin.json\n"
     ]
    },
    {
     "name": "stderr",
     "output_type": "stream",
     "text": [
      "Attempting to load an OpenAPI 3.0.2 spec.  This may result in degraded performance. Convert your OpenAPI spec to 3.1.* spec for better support.\n"
     ]
    },
    {
     "name": "stdout",
     "output_type": "stream",
     "text": [
      "156 PlugFinder  success\n"
     ]
    },
    {
     "name": "stderr",
     "output_type": "stream",
     "text": [
      "Attempting to load an OpenAPI 3.0.0 spec.  This may result in degraded performance. Convert your OpenAPI spec to 3.1.* spec for better support.\n"
     ]
    },
    {
     "name": "stdout",
     "output_type": "stream",
     "text": [
      "157 Pluginpedia  success\n",
      "158 PodcastDatabase  success\n"
     ]
    },
    {
     "name": "stderr",
     "output_type": "stream",
     "text": [
      "Attempting to load an OpenAPI 3.0.0 spec.  This may result in degraded performance. Convert your OpenAPI spec to 3.1.* spec for better support.\n"
     ]
    },
    {
     "name": "stdout",
     "output_type": "stream",
     "text": [
      "159 PortfoliosLab  success\n",
      "Processing plugin 160 of 609\n"
     ]
    },
    {
     "name": "stderr",
     "output_type": "stream",
     "text": [
      "Attempting to load an OpenAPI 3.0.1 spec.  This may result in degraded performance. Convert your OpenAPI spec to 3.1.* spec for better support.\n"
     ]
    },
    {
     "name": "stdout",
     "output_type": "stream",
     "text": [
      "160 Preply  success\n"
     ]
    },
    {
     "name": "stderr",
     "output_type": "stream",
     "text": [
      "Attempting to load an OpenAPI 3.0.2 spec.  This may result in degraded performance. Convert your OpenAPI spec to 3.1.* spec for better support.\n"
     ]
    },
    {
     "name": "stdout",
     "output_type": "stream",
     "text": [
      "161 PrimeLoupe  success\n"
     ]
    },
    {
     "name": "stderr",
     "output_type": "stream",
     "text": [
      "Attempting to load an OpenAPI 3.0.1 spec.  This may result in degraded performance. Convert your OpenAPI spec to 3.1.* spec for better support.\n"
     ]
    },
    {
     "name": "stdout",
     "output_type": "stream",
     "text": [
      "163 Public  success\n"
     ]
    },
    {
     "name": "stderr",
     "output_type": "stream",
     "text": [
      "Attempting to load an OpenAPI 3.0.0 spec.  This may result in degraded performance. Convert your OpenAPI spec to 3.1.* spec for better support.\n"
     ]
    },
    {
     "name": "stdout",
     "output_type": "stream",
     "text": [
      "164 PuginAI  success\n"
     ]
    },
    {
     "name": "stderr",
     "output_type": "stream",
     "text": [
      "Attempting to load an OpenAPI 3.0.0 spec.  This may result in degraded performance. Convert your OpenAPI spec to 3.1.* spec for better support.\n"
     ]
    },
    {
     "name": "stdout",
     "output_type": "stream",
     "text": [
      "165 Puzzle_Constructor  success\n"
     ]
    },
    {
     "name": "stderr",
     "output_type": "stream",
     "text": [
      "Attempting to load an OpenAPI 3.0.1 spec.  This may result in degraded performance. Convert your OpenAPI spec to 3.1.* spec for better support.\n"
     ]
    },
    {
     "name": "stdout",
     "output_type": "stream",
     "text": [
      "166 QASMShor  success\n"
     ]
    },
    {
     "name": "stderr",
     "output_type": "stream",
     "text": [
      "Attempting to load an OpenAPI 3.0.1 spec.  This may result in degraded performance. Convert your OpenAPI spec to 3.1.* spec for better support.\n",
      "Attempting to load an OpenAPI 3.0.1 spec.  This may result in degraded performance. Convert your OpenAPI spec to 3.1.* spec for better support.\n"
     ]
    },
    {
     "name": "stdout",
     "output_type": "stream",
     "text": [
      "167 QEEQ  success\n",
      "168 QuakePH Error: 403 Client Error: Forbidden for url: https://quakeph-plugin.chatbot.so/.well-known/ai-plugin.json\n"
     ]
    },
    {
     "name": "stderr",
     "output_type": "stream",
     "text": [
      "Attempting to load an OpenAPI 3.0.1 spec.  This may result in degraded performance. Convert your OpenAPI spec to 3.1.* spec for better support.\n"
     ]
    },
    {
     "name": "stdout",
     "output_type": "stream",
     "text": [
      "169 QuiverQuantitative  success\n"
     ]
    },
    {
     "name": "stderr",
     "output_type": "stream",
     "text": [
      "Attempting to load an OpenAPI 3.0.2 spec.  This may result in degraded performance. Convert your OpenAPI spec to 3.1.* spec for better support.\n"
     ]
    },
    {
     "name": "stdout",
     "output_type": "stream",
     "text": [
      "170 QyrusTestPilot  success\n"
     ]
    },
    {
     "name": "stderr",
     "output_type": "stream",
     "text": [
      "Attempting to load an OpenAPI 3.0.2 spec.  This may result in degraded performance. Convert your OpenAPI spec to 3.1.* spec for better support.\n"
     ]
    },
    {
     "name": "stdout",
     "output_type": "stream",
     "text": [
      "171 RecombinantAI  success\n"
     ]
    },
    {
     "name": "stderr",
     "output_type": "stream",
     "text": [
      "Attempting to load an OpenAPI 3.0.1 spec.  This may result in degraded performance. Convert your OpenAPI spec to 3.1.* spec for better support.\n"
     ]
    },
    {
     "name": "stdout",
     "output_type": "stream",
     "text": [
      "172 ResumeCopilot  success\n"
     ]
    },
    {
     "name": "stderr",
     "output_type": "stream",
     "text": [
      "Attempting to load an OpenAPI 3.0.1 spec.  This may result in degraded performance. Convert your OpenAPI spec to 3.1.* spec for better support.\n"
     ]
    },
    {
     "name": "stdout",
     "output_type": "stream",
     "text": [
      "173 RoboAd  success\n",
      "174 Rogo Error: HTTPSConnectionPool(host='plugin.rogodata.com', port=443): Max retries exceeded with url: /.well-known/ai-plugin.json (Caused by ConnectTimeoutError(<urllib3.connection.HTTPSConnection object at 0x000002144E0683A0>, 'Connection to plugin.rogodata.com timed out. (connect timeout=None)'))\n"
     ]
    },
    {
     "name": "stderr",
     "output_type": "stream",
     "text": [
      "Attempting to load an OpenAPI 3.0.1 spec.  This may result in degraded performance. Convert your OpenAPI spec to 3.1.* spec for better support.\n"
     ]
    },
    {
     "name": "stdout",
     "output_type": "stream",
     "text": [
      "175 Roshi  success\n",
      "176 SASpeedCameras Error: 406 Client Error: Not Acceptable for url: https://speedcameras.orrenprunckun.com/.well-known/ai-plugin.json\n"
     ]
    },
    {
     "name": "stderr",
     "output_type": "stream",
     "text": [
      "Attempting to load an OpenAPI 3.0.1 spec.  This may result in degraded performance. Convert your OpenAPI spec to 3.1.* spec for better support.\n"
     ]
    },
    {
     "name": "stdout",
     "output_type": "stream",
     "text": [
      "178 SHOPCOMProducts  success\n",
      "179 SSH Error: 401 Client Error: Unauthorized for url: https://chatsshplug.com/.well-known/ai-plugin.json\n",
      "Processing plugin 180 of 609\n"
     ]
    },
    {
     "name": "stderr",
     "output_type": "stream",
     "text": [
      "Attempting to load an OpenAPI 3.0.1 spec.  This may result in degraded performance. Convert your OpenAPI spec to 3.1.* spec for better support.\n",
      "Attempting to load an OpenAPI 3.0.1 spec.  This may result in degraded performance. Convert your OpenAPI spec to 3.1.* spec for better support.\n"
     ]
    },
    {
     "name": "stdout",
     "output_type": "stream",
     "text": [
      "180 SceneXplain  success\n"
     ]
    },
    {
     "name": "stderr",
     "output_type": "stream",
     "text": [
      "Attempting to load an OpenAPI 3.0.1 spec.  This may result in degraded performance. Convert your OpenAPI spec to 3.1.* spec for better support.\n"
     ]
    },
    {
     "name": "stdout",
     "output_type": "stream",
     "text": [
      "181 ScholarlyInsight  success\n"
     ]
    },
    {
     "name": "stderr",
     "output_type": "stream",
     "text": [
      "Attempting to load an OpenAPI 3.0.1 spec.  This may result in degraded performance. Convert your OpenAPI spec to 3.1.* spec for better support.\n",
      "Attempting to load an OpenAPI 3.0.1 spec.  This may result in degraded performance. Convert your OpenAPI spec to 3.1.* spec for better support.\n"
     ]
    },
    {
     "name": "stdout",
     "output_type": "stream",
     "text": [
      "182 Sembot  success\n",
      "183 Sentence_Beasts Error: Unable to parse spec from source https://sentence-beasts.thx.pw/openapi.yaml\n"
     ]
    },
    {
     "name": "stderr",
     "output_type": "stream",
     "text": [
      "Attempting to load an OpenAPI 3.0.1 spec.  This may result in degraded performance. Convert your OpenAPI spec to 3.1.* spec for better support.\n"
     ]
    },
    {
     "name": "stdout",
     "output_type": "stream",
     "text": [
      "184 Shop  success\n"
     ]
    },
    {
     "name": "stderr",
     "output_type": "stream",
     "text": [
      "Attempting to load an OpenAPI 3.0.2 spec.  This may result in degraded performance. Convert your OpenAPI spec to 3.1.* spec for better support.\n"
     ]
    },
    {
     "name": "stdout",
     "output_type": "stream",
     "text": [
      "185 ShopMate  success\n"
     ]
    },
    {
     "name": "stderr",
     "output_type": "stream",
     "text": [
      "Attempting to load an OpenAPI 3.0.1 spec.  This may result in degraded performance. Convert your OpenAPI spec to 3.1.* spec for better support.\n"
     ]
    },
    {
     "name": "stdout",
     "output_type": "stream",
     "text": [
      "186 Shop_AIssistant  success\n"
     ]
    },
    {
     "name": "stderr",
     "output_type": "stream",
     "text": [
      "Attempting to load an OpenAPI 3.0.0 spec.  This may result in degraded performance. Convert your OpenAPI spec to 3.1.* spec for better support.\n"
     ]
    },
    {
     "name": "stdout",
     "output_type": "stream",
     "text": [
      "187 ShoppingTools  success\n"
     ]
    },
    {
     "name": "stderr",
     "output_type": "stream",
     "text": [
      "Attempting to load an OpenAPI 3.0.1 spec.  This may result in degraded performance. Convert your OpenAPI spec to 3.1.* spec for better support.\n"
     ]
    },
    {
     "name": "stdout",
     "output_type": "stream",
     "text": [
      "188 SignalPlus  success\n",
      "189 SimplyCodes Error: 403 Client Error: Forbidden for url: https://simplycodes.com/.well-known/ai-plugin.json\n",
      "190 Singapore_Places_Of_Interest Error: 503 Server Error: Service Unavailable for url: https://sg-places.herokuapp.com/.well-known/ai-plugin.json\n",
      "191 Skrive Error: Unable to parse spec from source /openapi.json\n"
     ]
    },
    {
     "name": "stderr",
     "output_type": "stream",
     "text": [
      "Attempting to load an OpenAPI 3.0.1 spec.  This may result in degraded performance. Convert your OpenAPI spec to 3.1.* spec for better support.\n",
      "Attempting to load an OpenAPI 3.0.1 spec.  This may result in degraded performance. Convert your OpenAPI spec to 3.1.* spec for better support.\n"
     ]
    },
    {
     "name": "stdout",
     "output_type": "stream",
     "text": [
      "192 SkyscannerFlights  success\n",
      "193 Smart_Price_Finder Error: 403 Client Error: Forbidden for url: https://api.spendless.ai/.well-known/ai-plugin.json\n",
      "194 Space Error: HTTPSConnectionPool(host='space.automateyournetwork.ca', port=443): Max retries exceeded with url: /.well-known/ai-plugin.json (Caused by ConnectTimeoutError(<urllib3.connection.HTTPSConnection object at 0x000002144DFCB460>, 'Connection to space.automateyournetwork.ca timed out. (connect timeout=None)'))\n"
     ]
    },
    {
     "name": "stderr",
     "output_type": "stream",
     "text": [
      "Attempting to load an OpenAPI 3.0.1 spec.  This may result in degraded performance. Convert your OpenAPI spec to 3.1.* spec for better support.\n"
     ]
    },
    {
     "name": "stdout",
     "output_type": "stream",
     "text": [
      "195 Spirify_model_qrcode  success\n"
     ]
    },
    {
     "name": "stderr",
     "output_type": "stream",
     "text": [
      "Attempting to load an OpenAPI 3.0.1 spec.  This may result in degraded performance. Convert your OpenAPI spec to 3.1.* spec for better support.\n"
     ]
    },
    {
     "name": "stdout",
     "output_type": "stream",
     "text": [
      "196 StepStone_JobSearch  success\n"
     ]
    },
    {
     "name": "stderr",
     "output_type": "stream",
     "text": [
      "Attempting to load an OpenAPI 3.0.1 spec.  This may result in degraded performance. Convert your OpenAPI spec to 3.1.* spec for better support.\n"
     ]
    },
    {
     "name": "stdout",
     "output_type": "stream",
     "text": [
      "197 StockData  success\n"
     ]
    },
    {
     "name": "stderr",
     "output_type": "stream",
     "text": [
      "Attempting to load an OpenAPI 3.0.0 spec.  This may result in degraded performance. Convert your OpenAPI spec to 3.1.* spec for better support.\n"
     ]
    },
    {
     "name": "stdout",
     "output_type": "stream",
     "text": [
      "198 Substack_IQ  success\n"
     ]
    },
    {
     "name": "stderr",
     "output_type": "stream",
     "text": [
      "Attempting to load an OpenAPI 3.0.2 spec.  This may result in degraded performance. Convert your OpenAPI spec to 3.1.* spec for better support.\n"
     ]
    },
    {
     "name": "stdout",
     "output_type": "stream",
     "text": [
      "199 Sudoku  success\n",
      "Processing plugin 200 of 609\n",
      "200 SummarizeAnything_pr Error: 403 Client Error: Forbidden for url: https://preview.summarizeanything.ai/.well-known/ai-plugin.json\n"
     ]
    },
    {
     "name": "stderr",
     "output_type": "stream",
     "text": [
      "Attempting to load an OpenAPI 3.0.1 spec.  This may result in degraded performance. Convert your OpenAPI spec to 3.1.* spec for better support.\n"
     ]
    },
    {
     "name": "stdout",
     "output_type": "stream",
     "text": [
      "201 Supercharger  success\n"
     ]
    },
    {
     "name": "stderr",
     "output_type": "stream",
     "text": [
      "Attempting to load an OpenAPI 3.0.2 spec.  This may result in degraded performance. Convert your OpenAPI spec to 3.1.* spec for better support.\n"
     ]
    },
    {
     "name": "stdout",
     "output_type": "stream",
     "text": [
      "202 Surveillance_API  success\n",
      "203 Tabechoku Error: Expecting value: line 2 column 1 (char 1)\n",
      "204 Tabelog Error: 403 Client Error: Forbidden for url: https://chatgpt-plugin.tabelog.com/.well-known/ai-plugin.json\n"
     ]
    },
    {
     "name": "stderr",
     "output_type": "stream",
     "text": [
      "Attempting to load an OpenAPI 3.0.1 spec.  This may result in degraded performance. Convert your OpenAPI spec to 3.1.* spec for better support.\n"
     ]
    },
    {
     "name": "stdout",
     "output_type": "stream",
     "text": [
      "205 Tabor  success\n"
     ]
    },
    {
     "name": "stderr",
     "output_type": "stream",
     "text": [
      "Attempting to load an OpenAPI 3.0.1 spec.  This may result in degraded performance. Convert your OpenAPI spec to 3.1.* spec for better support.\n"
     ]
    },
    {
     "name": "stdout",
     "output_type": "stream",
     "text": [
      "206 Tagvenue_top_venues_for_hire_in_UK_and_beyond  success\n"
     ]
    },
    {
     "name": "stderr",
     "output_type": "stream",
     "text": [
      "Attempting to load an OpenAPI 3.0.1 spec.  This may result in degraded performance. Convert your OpenAPI spec to 3.1.* spec for better support.\n"
     ]
    },
    {
     "name": "stdout",
     "output_type": "stream",
     "text": [
      "207 TalentOrg  success\n"
     ]
    },
    {
     "name": "stderr",
     "output_type": "stream",
     "text": [
      "Attempting to load an OpenAPI 3.0.1 spec.  This may result in degraded performance. Convert your OpenAPI spec to 3.1.* spec for better support.\n"
     ]
    },
    {
     "name": "stdout",
     "output_type": "stream",
     "text": [
      "208 Talk_Laws_Brazil  success\n"
     ]
    },
    {
     "name": "stderr",
     "output_type": "stream",
     "text": [
      "Attempting to load an OpenAPI 3.0.1 spec.  This may result in degraded performance. Convert your OpenAPI spec to 3.1.* spec for better support.\n"
     ]
    },
    {
     "name": "stdout",
     "output_type": "stream",
     "text": [
      "209 Talkface_IELTS_Prep  success\n"
     ]
    },
    {
     "name": "stderr",
     "output_type": "stream",
     "text": [
      "Attempting to load an OpenAPI 3.0.1 spec.  This may result in degraded performance. Convert your OpenAPI spec to 3.1.* spec for better support.\n"
     ]
    },
    {
     "name": "stdout",
     "output_type": "stream",
     "text": [
      "210 TechPulse  success\n"
     ]
    },
    {
     "name": "stderr",
     "output_type": "stream",
     "text": [
      "Attempting to load an OpenAPI 3.0.1 spec.  This may result in degraded performance. Convert your OpenAPI spec to 3.1.* spec for better support.\n"
     ]
    },
    {
     "name": "stdout",
     "output_type": "stream",
     "text": [
      "211 TelescopeLabs  success\n"
     ]
    },
    {
     "name": "stderr",
     "output_type": "stream",
     "text": [
      "Attempting to load an OpenAPI 3.0.2 spec.  This may result in degraded performance. Convert your OpenAPI spec to 3.1.* spec for better support.\n"
     ]
    },
    {
     "name": "stdout",
     "output_type": "stream",
     "text": [
      "213 The_Diet_Search  success\n"
     ]
    },
    {
     "name": "stderr",
     "output_type": "stream",
     "text": [
      "Attempting to load an OpenAPI 3.0.0 spec.  This may result in degraded performance. Convert your OpenAPI spec to 3.1.* spec for better support.\n"
     ]
    },
    {
     "name": "stdout",
     "output_type": "stream",
     "text": [
      "214 TicTacToe  success\n",
      "215 TickTick Error: 503 Server Error: Service Temporarily Unavailable for url: https://ticktick.com/.well-known/ai-plugin.json\n"
     ]
    },
    {
     "name": "stderr",
     "output_type": "stream",
     "text": [
      "Attempting to load an OpenAPI 3.0.1 spec.  This may result in degraded performance. Convert your OpenAPI spec to 3.1.* spec for better support.\n"
     ]
    },
    {
     "name": "stdout",
     "output_type": "stream",
     "text": [
      "216 Todays_Top_Deal  success\n"
     ]
    },
    {
     "name": "stderr",
     "output_type": "stream",
     "text": [
      "Attempting to load an OpenAPI 3.0.0 spec.  This may result in degraded performance. Convert your OpenAPI spec to 3.1.* spec for better support.\n"
     ]
    },
    {
     "name": "stdout",
     "output_type": "stream",
     "text": [
      "217 TokenInsights  success\n",
      "218 TopNews  success\n"
     ]
    },
    {
     "name": "stderr",
     "output_type": "stream",
     "text": [
      "Attempting to load an OpenAPI 3.0.0 spec.  This may result in degraded performance. Convert your OpenAPI spec to 3.1.* spec for better support.\n"
     ]
    },
    {
     "name": "stdout",
     "output_type": "stream",
     "text": [
      "219 Trip Error: Unsupported type: date\n",
      "Processing plugin 220 of 609\n"
     ]
    },
    {
     "name": "stderr",
     "output_type": "stream",
     "text": [
      "Attempting to load an OpenAPI 3.0.1 spec.  This may result in degraded performance. Convert your OpenAPI spec to 3.1.* spec for better support.\n"
     ]
    },
    {
     "name": "stdout",
     "output_type": "stream",
     "text": [
      "220 TrySpree  success\n",
      "221 VBOUT_v50  success\n"
     ]
    },
    {
     "name": "stderr",
     "output_type": "stream",
     "text": [
      "Attempting to load an OpenAPI 3.0.1 spec.  This may result in degraded performance. Convert your OpenAPI spec to 3.1.* spec for better support.\n"
     ]
    },
    {
     "name": "stdout",
     "output_type": "stream",
     "text": [
      "222 Video_summary  success\n"
     ]
    },
    {
     "name": "stderr",
     "output_type": "stream",
     "text": [
      "Attempting to load an OpenAPI 3.0.3 spec.  This may result in degraded performance. Convert your OpenAPI spec to 3.1.* spec for better support.\n",
      "Unsupported APIPropertyLocation \"header\" for parameter openai-conversation-id. Valid values are ['query', 'path'] Ignoring optional parameter\n",
      "Unsupported APIPropertyLocation \"header\" for parameter openai-ephemeral-user-id. Valid values are ['query', 'path'] Ignoring optional parameter\n"
     ]
    },
    {
     "name": "stdout",
     "output_type": "stream",
     "text": [
      "223 Visla  success\n"
     ]
    },
    {
     "name": "stderr",
     "output_type": "stream",
     "text": [
      "Attempting to load an OpenAPI 3.0.1 spec.  This may result in degraded performance. Convert your OpenAPI spec to 3.1.* spec for better support.\n"
     ]
    },
    {
     "name": "stdout",
     "output_type": "stream",
     "text": [
      "224 VoxScript  success\n"
     ]
    },
    {
     "name": "stderr",
     "output_type": "stream",
     "text": [
      "Attempting to load an OpenAPI 3.0.1 spec.  This may result in degraded performance. Convert your OpenAPI spec to 3.1.* spec for better support.\n"
     ]
    },
    {
     "name": "stdout",
     "output_type": "stream",
     "text": [
      "225 WPressGenie  success\n"
     ]
    },
    {
     "name": "stderr",
     "output_type": "stream",
     "text": [
      "Attempting to load an OpenAPI 3.0.1 spec.  This may result in degraded performance. Convert your OpenAPI spec to 3.1.* spec for better support.\n"
     ]
    },
    {
     "name": "stdout",
     "output_type": "stream",
     "text": [
      "226 Weather  success\n"
     ]
    },
    {
     "name": "stderr",
     "output_type": "stream",
     "text": [
      "Attempting to load an OpenAPI 3.0.0 spec.  This may result in degraded performance. Convert your OpenAPI spec to 3.1.* spec for better support.\n"
     ]
    },
    {
     "name": "stdout",
     "output_type": "stream",
     "text": [
      "227 WeatherWizard  success\n"
     ]
    },
    {
     "name": "stderr",
     "output_type": "stream",
     "text": [
      "Attempting to load an OpenAPI 3.0.2 spec.  This may result in degraded performance. Convert your OpenAPI spec to 3.1.* spec for better support.\n"
     ]
    },
    {
     "name": "stdout",
     "output_type": "stream",
     "text": [
      "228 Weather_Forecast  success\n"
     ]
    },
    {
     "name": "stderr",
     "output_type": "stream",
     "text": [
      "Attempting to load an OpenAPI 3.0.2 spec.  This may result in degraded performance. Convert your OpenAPI spec to 3.1.* spec for better support.\n"
     ]
    },
    {
     "name": "stdout",
     "output_type": "stream",
     "text": [
      "229 Weather_and_Train_and_in_Korea  success\n",
      "230 Web3_User_Activity Error: 403 Client Error: Forbidden for url: https://chatgpt-plugin.rss3.ai/.well-known/ai-plugin.json\n"
     ]
    },
    {
     "name": "stderr",
     "output_type": "stream",
     "text": [
      "Attempting to load an OpenAPI 3.0.1 spec.  This may result in degraded performance. Convert your OpenAPI spec to 3.1.* spec for better support.\n"
     ]
    },
    {
     "name": "stdout",
     "output_type": "stream",
     "text": [
      "231 WebRewind  success\n"
     ]
    },
    {
     "name": "stderr",
     "output_type": "stream",
     "text": [
      "Attempting to load an OpenAPI 3.0.1 spec.  This may result in degraded performance. Convert your OpenAPI spec to 3.1.* spec for better support.\n"
     ]
    },
    {
     "name": "stdout",
     "output_type": "stream",
     "text": [
      "232 Webbots  success\n"
     ]
    },
    {
     "name": "stderr",
     "output_type": "stream",
     "text": [
      "Attempting to load an OpenAPI 3.0.2 spec.  This may result in degraded performance. Convert your OpenAPI spec to 3.1.* spec for better support.\n"
     ]
    },
    {
     "name": "stdout",
     "output_type": "stream",
     "text": [
      "233 WebsiteChat  success\n",
      "234 WhizList Error: 403 Client Error: Forbidden for url: https://whizlist-plugin.chatbot.so/.well-known/ai-plugin.json\n"
     ]
    },
    {
     "name": "stderr",
     "output_type": "stream",
     "text": [
      "Attempting to load an OpenAPI 3.0.1 spec.  This may result in degraded performance. Convert your OpenAPI spec to 3.1.* spec for better support.\n"
     ]
    },
    {
     "name": "stdout",
     "output_type": "stream",
     "text": [
      "235 Wolfram  success\n",
      "236 WordCloud  success\n"
     ]
    },
    {
     "name": "stderr",
     "output_type": "stream",
     "text": [
      "Attempting to load an OpenAPI 3.0.2 spec.  This may result in degraded performance. Convert your OpenAPI spec to 3.1.* spec for better support.\n"
     ]
    },
    {
     "name": "stdout",
     "output_type": "stream",
     "text": [
      "237 XWeather  success\n"
     ]
    },
    {
     "name": "stderr",
     "output_type": "stream",
     "text": [
      "Attempting to load an OpenAPI 3.0.1 spec.  This may result in degraded performance. Convert your OpenAPI spec to 3.1.* spec for better support.\n"
     ]
    },
    {
     "name": "stdout",
     "output_type": "stream",
     "text": [
      "238 Xpapers_arXiv_paper_database  success\n",
      "239 XtalPi Error: 403 Client Error: Forbidden for url: https://chatgpt-plugin.xtalpi.com/.well-known/ai-plugin.json\n",
      "Processing plugin 240 of 609\n"
     ]
    },
    {
     "name": "stderr",
     "output_type": "stream",
     "text": [
      "Attempting to load an OpenAPI 3.0.2 spec.  This may result in degraded performance. Convert your OpenAPI spec to 3.1.* spec for better support.\n"
     ]
    },
    {
     "name": "stdout",
     "output_type": "stream",
     "text": [
      "240 Zapier  success\n"
     ]
    },
    {
     "name": "stderr",
     "output_type": "stream",
     "text": [
      "Attempting to load an OpenAPI 3.0.1 spec.  This may result in degraded performance. Convert your OpenAPI spec to 3.1.* spec for better support.\n"
     ]
    },
    {
     "name": "stdout",
     "output_type": "stream",
     "text": [
      "241 ab_judge  success\n",
      "242 abc_to_audio  success\n"
     ]
    },
    {
     "name": "stderr",
     "output_type": "stream",
     "text": [
      "Attempting to load an OpenAPI 3.0.2 spec.  This may result in degraded performance. Convert your OpenAPI spec to 3.1.* spec for better support.\n"
     ]
    },
    {
     "name": "stdout",
     "output_type": "stream",
     "text": [
      "243 access_link  success\n"
     ]
    },
    {
     "name": "stderr",
     "output_type": "stream",
     "text": [
      "Attempting to load an OpenAPI 3.0.2 spec.  This may result in degraded performance. Convert your OpenAPI spec to 3.1.* spec for better support.\n"
     ]
    },
    {
     "name": "stdout",
     "output_type": "stream",
     "text": [
      "244 access_pdf  success\n"
     ]
    },
    {
     "name": "stderr",
     "output_type": "stream",
     "text": [
      "Attempting to load an OpenAPI 3.0.0 spec.  This may result in degraded performance. Convert your OpenAPI spec to 3.1.* spec for better support.\n"
     ]
    },
    {
     "name": "stdout",
     "output_type": "stream",
     "text": [
      "245 acquire  success\n"
     ]
    },
    {
     "name": "stderr",
     "output_type": "stream",
     "text": [
      "Attempting to load an OpenAPI 3.0.1 spec.  This may result in degraded performance. Convert your OpenAPI spec to 3.1.* spec for better support.\n"
     ]
    },
    {
     "name": "stdout",
     "output_type": "stream",
     "text": [
      "246 ads  success\n"
     ]
    },
    {
     "name": "stderr",
     "output_type": "stream",
     "text": [
      "Attempting to load an OpenAPI 3.0.1 spec.  This may result in degraded performance. Convert your OpenAPI spec to 3.1.* spec for better support.\n"
     ]
    },
    {
     "name": "stdout",
     "output_type": "stream",
     "text": [
      "247 aiAgents  success\n"
     ]
    },
    {
     "name": "stderr",
     "output_type": "stream",
     "text": [
      "Attempting to load an OpenAPI 3.0.1 spec.  This may result in degraded performance. Convert your OpenAPI spec to 3.1.* spec for better support.\n"
     ]
    },
    {
     "name": "stdout",
     "output_type": "stream",
     "text": [
      "248 ai_council  success\n"
     ]
    },
    {
     "name": "stderr",
     "output_type": "stream",
     "text": [
      "Attempting to load an OpenAPI 3.0.1 spec.  This may result in degraded performance. Convert your OpenAPI spec to 3.1.* spec for better support.\n"
     ]
    },
    {
     "name": "stdout",
     "output_type": "stream",
     "text": [
      "249 airqualityforeast  success\n"
     ]
    },
    {
     "name": "stderr",
     "output_type": "stream",
     "text": [
      "Attempting to load an OpenAPI 3.0.2 spec.  This may result in degraded performance. Convert your OpenAPI spec to 3.1.* spec for better support.\n",
      "Attempting to load an OpenAPI 3.0.2 spec.  This may result in degraded performance. Convert your OpenAPI spec to 3.1.* spec for better support.\n"
     ]
    },
    {
     "name": "stdout",
     "output_type": "stream",
     "text": [
      "250 aitickerchat_document_retrieval  success\n"
     ]
    },
    {
     "name": "stderr",
     "output_type": "stream",
     "text": [
      "Attempting to load an OpenAPI 3.0.0 spec.  This may result in degraded performance. Convert your OpenAPI spec to 3.1.* spec for better support.\n",
      "Attempting to load an OpenAPI 3.0.1 spec.  This may result in degraded performance. Convert your OpenAPI spec to 3.1.* spec for better support.\n"
     ]
    },
    {
     "name": "stdout",
     "output_type": "stream",
     "text": [
      "251 aitoolhunt  success\n",
      "252 alagaAI  success\n"
     ]
    },
    {
     "name": "stderr",
     "output_type": "stream",
     "text": [
      "Attempting to load an OpenAPI 3.0.0 spec.  This may result in degraded performance. Convert your OpenAPI spec to 3.1.* spec for better support.\n"
     ]
    },
    {
     "name": "stdout",
     "output_type": "stream",
     "text": [
      "253 alarm_advisor  success\n"
     ]
    },
    {
     "name": "stderr",
     "output_type": "stream",
     "text": [
      "Attempting to load an OpenAPI 3.0.1 spec.  This may result in degraded performance. Convert your OpenAPI spec to 3.1.* spec for better support.\n"
     ]
    },
    {
     "name": "stdout",
     "output_type": "stream",
     "text": [
      "254 albadoc  success\n"
     ]
    },
    {
     "name": "stderr",
     "output_type": "stream",
     "text": [
      "Attempting to load an OpenAPI 3.0.2 spec.  This may result in degraded performance. Convert your OpenAPI spec to 3.1.* spec for better support.\n"
     ]
    },
    {
     "name": "stdout",
     "output_type": "stream",
     "text": [
      "255 aldenbot  success\n"
     ]
    },
    {
     "name": "stderr",
     "output_type": "stream",
     "text": [
      "Attempting to load an OpenAPI 3.0.0 spec.  This may result in degraded performance. Convert your OpenAPI spec to 3.1.* spec for better support.\n"
     ]
    },
    {
     "name": "stdout",
     "output_type": "stream",
     "text": [
      "256 amazongiftchooser  success\n",
      "257 andorra_news_flats_traffic_work__search Error: 502 Server Error: Bad Gateway for url: https://gpt.andocarbur.com/.well-known/ai-plugin.json\n"
     ]
    },
    {
     "name": "stderr",
     "output_type": "stream",
     "text": [
      "Attempting to load an OpenAPI 3.0.1 spec.  This may result in degraded performance. Convert your OpenAPI spec to 3.1.* spec for better support.\n"
     ]
    },
    {
     "name": "stdout",
     "output_type": "stream",
     "text": [
      "258 argil  success\n"
     ]
    },
    {
     "name": "stderr",
     "output_type": "stream",
     "text": [
      "Attempting to load an OpenAPI 3.0.0 spec.  This may result in degraded performance. Convert your OpenAPI spec to 3.1.* spec for better support.\n"
     ]
    },
    {
     "name": "stdout",
     "output_type": "stream",
     "text": [
      "259 ask_my_first_million_podcast_chatbot  success\n",
      "Processing plugin 260 of 609\n"
     ]
    },
    {
     "name": "stderr",
     "output_type": "stream",
     "text": [
      "Attempting to load an OpenAPI 3.0.2 spec.  This may result in degraded performance. Convert your OpenAPI spec to 3.1.* spec for better support.\n"
     ]
    },
    {
     "name": "stdout",
     "output_type": "stream",
     "text": [
      "260 askvg  success\n",
      "261 askyourcode Error: HTTPSConnectionPool(host='plugin.askyourcode.ai', port=443): Max retries exceeded with url: /.well-known/ai-plugin.json (Caused by ConnectTimeoutError(<urllib3.connection.HTTPSConnection object at 0x000002144DF88EB0>, 'Connection to plugin.askyourcode.ai timed out. (connect timeout=None)'))\n"
     ]
    },
    {
     "name": "stderr",
     "output_type": "stream",
     "text": [
      "Attempting to load an OpenAPI 3.0.2 spec.  This may result in degraded performance. Convert your OpenAPI spec to 3.1.* spec for better support.\n"
     ]
    },
    {
     "name": "stdout",
     "output_type": "stream",
     "text": [
      "262 askyourpdf  success\n"
     ]
    },
    {
     "name": "stderr",
     "output_type": "stream",
     "text": [
      "Attempting to load an OpenAPI 3.0.1 spec.  This may result in degraded performance. Convert your OpenAPI spec to 3.1.* spec for better support.\n"
     ]
    },
    {
     "name": "stdout",
     "output_type": "stream",
     "text": [
      "263 assetOvi  success\n"
     ]
    },
    {
     "name": "stderr",
     "output_type": "stream",
     "text": [
      "Attempting to load an OpenAPI 3.0.1 spec.  This may result in degraded performance. Convert your OpenAPI spec to 3.1.* spec for better support.\n"
     ]
    },
    {
     "name": "stdout",
     "output_type": "stream",
     "text": [
      "264 astrodaily  success\n"
     ]
    },
    {
     "name": "stderr",
     "output_type": "stream",
     "text": [
      "Attempting to load an OpenAPI 3.0.3 spec.  This may result in degraded performance. Convert your OpenAPI spec to 3.1.* spec for better support.\n"
     ]
    },
    {
     "name": "stdout",
     "output_type": "stream",
     "text": [
      "265 avian  success\n"
     ]
    },
    {
     "name": "stderr",
     "output_type": "stream",
     "text": [
      "Attempting to load an OpenAPI 3.0.1 spec.  This may result in degraded performance. Convert your OpenAPI spec to 3.1.* spec for better support.\n"
     ]
    },
    {
     "name": "stdout",
     "output_type": "stream",
     "text": [
      "266 bart_realtime  success\n"
     ]
    },
    {
     "name": "stderr",
     "output_type": "stream",
     "text": [
      "Attempting to load an OpenAPI 3.0.2 spec.  This may result in degraded performance. Convert your OpenAPI spec to 3.1.* spec for better support.\n"
     ]
    },
    {
     "name": "stdout",
     "output_type": "stream",
     "text": [
      "267 bibliography_crossref  success\n",
      "268 bild Error: 404 Client Error: Not Found for url: https://chatgpt.bild.de/.well-known/ai-plugin.json\n"
     ]
    },
    {
     "name": "stderr",
     "output_type": "stream",
     "text": [
      "Attempting to load an OpenAPI 3.0.1 spec.  This may result in degraded performance. Convert your OpenAPI spec to 3.1.* spec for better support.\n"
     ]
    },
    {
     "name": "stdout",
     "output_type": "stream",
     "text": [
      "269 biztoc  success\n"
     ]
    },
    {
     "name": "stderr",
     "output_type": "stream",
     "text": [
      "Attempting to load an OpenAPI 3.0.0 spec.  This may result in degraded performance. Convert your OpenAPI spec to 3.1.* spec for better support.\n"
     ]
    },
    {
     "name": "stdout",
     "output_type": "stream",
     "text": [
      "270 blended  success\n"
     ]
    },
    {
     "name": "stderr",
     "output_type": "stream",
     "text": [
      "Attempting to load an OpenAPI 3.0.1 spec.  This may result in degraded performance. Convert your OpenAPI spec to 3.1.* spec for better support.\n"
     ]
    },
    {
     "name": "stdout",
     "output_type": "stream",
     "text": [
      "271 blockatlas  success\n"
     ]
    },
    {
     "name": "stderr",
     "output_type": "stream",
     "text": [
      "Attempting to load an OpenAPI 3.0.1 spec.  This may result in degraded performance. Convert your OpenAPI spec to 3.1.* spec for better support.\n"
     ]
    },
    {
     "name": "stdout",
     "output_type": "stream",
     "text": [
      "272 books Error: Unsupported type: author\n",
      "273 bookworm Error: 403 Client Error: Forbidden for url: https://bookworm.gngn.at/.well-known/ai-plugin.json\n",
      "274 boolio  success\n"
     ]
    },
    {
     "name": "stderr",
     "output_type": "stream",
     "text": [
      "Attempting to load an OpenAPI 3.0.1 spec.  This may result in degraded performance. Convert your OpenAPI spec to 3.1.* spec for better support.\n"
     ]
    },
    {
     "name": "stdout",
     "output_type": "stream",
     "text": [
      "275 bramework  success\n"
     ]
    },
    {
     "name": "stderr",
     "output_type": "stream",
     "text": [
      "Attempting to load an OpenAPI 3.0.1 spec.  This may result in degraded performance. Convert your OpenAPI spec to 3.1.* spec for better support.\n"
     ]
    },
    {
     "name": "stdout",
     "output_type": "stream",
     "text": [
      "276 brandfetch  success\n"
     ]
    },
    {
     "name": "stderr",
     "output_type": "stream",
     "text": [
      "Attempting to load an OpenAPI 3.0.2 spec.  This may result in degraded performance. Convert your OpenAPI spec to 3.1.* spec for better support.\n"
     ]
    },
    {
     "name": "stdout",
     "output_type": "stream",
     "text": [
      "277 buildbetter  success\n"
     ]
    },
    {
     "name": "stderr",
     "output_type": "stream",
     "text": [
      "Attempting to load an OpenAPI 3.0.1 spec.  This may result in degraded performance. Convert your OpenAPI spec to 3.1.* spec for better support.\n"
     ]
    },
    {
     "name": "stdout",
     "output_type": "stream",
     "text": [
      "278 buywisely  success\n"
     ]
    },
    {
     "name": "stderr",
     "output_type": "stream",
     "text": [
      "Attempting to load an OpenAPI 3.0.2 spec.  This may result in degraded performance. Convert your OpenAPI spec to 3.1.* spec for better support.\n"
     ]
    },
    {
     "name": "stdout",
     "output_type": "stream",
     "text": [
      "279 buzz  success\n",
      "Processing plugin 280 of 609\n"
     ]
    },
    {
     "name": "stderr",
     "output_type": "stream",
     "text": [
      "Attempting to load an OpenAPI 3.0.1 spec.  This may result in degraded performance. Convert your OpenAPI spec to 3.1.* spec for better support.\n"
     ]
    },
    {
     "name": "stdout",
     "output_type": "stream",
     "text": [
      "280 calculator  success\n",
      "281 california_law_search Error: Unable to parse spec from source /openapi.json\n"
     ]
    },
    {
     "name": "stderr",
     "output_type": "stream",
     "text": [
      "Attempting to load an OpenAPI 3.0.1 spec.  This may result in degraded performance. Convert your OpenAPI spec to 3.1.* spec for better support.\n",
      "Attempting to load an OpenAPI 3.0.1 spec.  This may result in degraded performance. Convert your OpenAPI spec to 3.1.* spec for better support.\n"
     ]
    },
    {
     "name": "stdout",
     "output_type": "stream",
     "text": [
      "282 caloriechat  success\n"
     ]
    },
    {
     "name": "stderr",
     "output_type": "stream",
     "text": [
      "Attempting to load an OpenAPI 3.0.1 spec.  This may result in degraded performance. Convert your OpenAPI spec to 3.1.* spec for better support.\n"
     ]
    },
    {
     "name": "stdout",
     "output_type": "stream",
     "text": [
      "283 career_copilot  success\n"
     ]
    },
    {
     "name": "stderr",
     "output_type": "stream",
     "text": [
      "Attempting to load an OpenAPI 3.0.3 spec.  This may result in degraded performance. Convert your OpenAPI spec to 3.1.* spec for better support.\n"
     ]
    },
    {
     "name": "stdout",
     "output_type": "stream",
     "text": [
      "284 career_test  success\n"
     ]
    },
    {
     "name": "stderr",
     "output_type": "stream",
     "text": [
      "Attempting to load an OpenAPI 3.0.1 spec.  This may result in degraded performance. Convert your OpenAPI spec to 3.1.* spec for better support.\n"
     ]
    },
    {
     "name": "stdout",
     "output_type": "stream",
     "text": [
      "285 cargurus  success\n"
     ]
    },
    {
     "name": "stderr",
     "output_type": "stream",
     "text": [
      "Attempting to load an OpenAPI 3.0.3 spec.  This may result in degraded performance. Convert your OpenAPI spec to 3.1.* spec for better support.\n"
     ]
    },
    {
     "name": "stdout",
     "output_type": "stream",
     "text": [
      "286 chabadCenters  success\n"
     ]
    },
    {
     "name": "stderr",
     "output_type": "stream",
     "text": [
      "Attempting to load an OpenAPI 3.0.1 spec.  This may result in degraded performance. Convert your OpenAPI spec to 3.1.* spec for better support.\n"
     ]
    },
    {
     "name": "stdout",
     "output_type": "stream",
     "text": [
      "287 chacaMarketProduct  success\n"
     ]
    },
    {
     "name": "stderr",
     "output_type": "stream",
     "text": [
      "Attempting to load an OpenAPI 3.0.1 spec.  This may result in degraded performance. Convert your OpenAPI spec to 3.1.* spec for better support.\n"
     ]
    },
    {
     "name": "stdout",
     "output_type": "stream",
     "text": [
      "288 champdex  success\n",
      "289 charity Error: HTTPSConnectionPool(host='charitysense.com', port=443): Max retries exceeded with url: /.well-known/ai-plugin.json (Caused by NameResolutionError(\"<urllib3.connection.HTTPSConnection object at 0x000002144DF6F8E0>: Failed to resolve 'charitysense.com' ([Errno 11002] getaddrinfo failed)\"))\n"
     ]
    },
    {
     "name": "stderr",
     "output_type": "stream",
     "text": [
      "Attempting to load an OpenAPI 3.0.2 spec.  This may result in degraded performance. Convert your OpenAPI spec to 3.1.* spec for better support.\n"
     ]
    },
    {
     "name": "stdout",
     "output_type": "stream",
     "text": [
      "290 chart  success\n",
      "291 chat_raku_journey Error: Unable to parse spec from source https://chat-raku-journey.thx.pw/openapi.yaml\n",
      "292 chat_stack_search Error: Unable to parse spec from source https://chat-stack-search.thx.pw/openapi.yaml\n"
     ]
    },
    {
     "name": "stderr",
     "output_type": "stream",
     "text": [
      "Attempting to load an OpenAPI 3.0.1 spec.  This may result in degraded performance. Convert your OpenAPI spec to 3.1.* spec for better support.\n"
     ]
    },
    {
     "name": "stdout",
     "output_type": "stream",
     "text": [
      "293 chat_with_data Error: Unsupported type: dict || null\n"
     ]
    },
    {
     "name": "stderr",
     "output_type": "stream",
     "text": [
      "Attempting to load an OpenAPI 3.0.0 spec.  This may result in degraded performance. Convert your OpenAPI spec to 3.1.* spec for better support.\n"
     ]
    },
    {
     "name": "stdout",
     "output_type": "stream",
     "text": [
      "294 chat_with_workspace  success\n"
     ]
    },
    {
     "name": "stderr",
     "output_type": "stream",
     "text": [
      "Attempting to load an OpenAPI 3.0.1 spec.  This may result in degraded performance. Convert your OpenAPI spec to 3.1.* spec for better support.\n",
      "Attempting to load an OpenAPI 3.0.1 spec.  This may result in degraded performance. Convert your OpenAPI spec to 3.1.* spec for better support.\n"
     ]
    },
    {
     "name": "stdout",
     "output_type": "stream",
     "text": [
      "295 chatspot  success\n"
     ]
    },
    {
     "name": "stderr",
     "output_type": "stream",
     "text": [
      "Attempting to load an OpenAPI 3.0.1 spec.  This may result in degraded performance. Convert your OpenAPI spec to 3.1.* spec for better support.\n"
     ]
    },
    {
     "name": "stdout",
     "output_type": "stream",
     "text": [
      "296 chattoolfinder  success\n"
     ]
    },
    {
     "name": "stderr",
     "output_type": "stream",
     "text": [
      "Attempting to load an OpenAPI 3.0.1 spec.  This may result in degraded performance. Convert your OpenAPI spec to 3.1.* spec for better support.\n",
      "Attempting to load an OpenAPI 3.0.1 spec.  This may result in degraded performance. Convert your OpenAPI spec to 3.1.* spec for better support.\n"
     ]
    },
    {
     "name": "stdout",
     "output_type": "stream",
     "text": [
      "297 chatwithpdf  success\n"
     ]
    },
    {
     "name": "stderr",
     "output_type": "stream",
     "text": [
      "Attempting to load an OpenAPI 3.0.1 spec.  This may result in degraded performance. Convert your OpenAPI spec to 3.1.* spec for better support.\n",
      "Attempting to load an OpenAPI 3.0.1 spec.  This may result in degraded performance. Convert your OpenAPI spec to 3.1.* spec for better support.\n"
     ]
    },
    {
     "name": "stdout",
     "output_type": "stream",
     "text": [
      "298 chatwithvideo  success\n",
      "299 chatwithwebsite Error: 503 Server Error: Service Unavailable for url: https://chatwithwebsite.sdan.io/.well-known/ai-plugin.json\n",
      "Processing plugin 300 of 609\n"
     ]
    },
    {
     "name": "stderr",
     "output_type": "stream",
     "text": [
      "Attempting to load an OpenAPI 3.0.1 spec.  This may result in degraded performance. Convert your OpenAPI spec to 3.1.* spec for better support.\n"
     ]
    },
    {
     "name": "stdout",
     "output_type": "stream",
     "text": [
      "300 chicago_data_portal  success\n"
     ]
    },
    {
     "name": "stderr",
     "output_type": "stream",
     "text": [
      "Attempting to load an OpenAPI 3.0.0 spec.  This may result in degraded performance. Convert your OpenAPI spec to 3.1.* spec for better support.\n"
     ]
    },
    {
     "name": "stdout",
     "output_type": "stream",
     "text": [
      "301 clearbit_integration  success\n"
     ]
    },
    {
     "name": "stderr",
     "output_type": "stream",
     "text": [
      "Attempting to load an OpenAPI 3.0.1 spec.  This may result in degraded performance. Convert your OpenAPI spec to 3.1.* spec for better support.\n"
     ]
    },
    {
     "name": "stdout",
     "output_type": "stream",
     "text": [
      "302 clinical_trial_radar  success\n"
     ]
    },
    {
     "name": "stderr",
     "output_type": "stream",
     "text": [
      "Attempting to load an OpenAPI 3.0.0 spec.  This may result in degraded performance. Convert your OpenAPI spec to 3.1.* spec for better support.\n"
     ]
    },
    {
     "name": "stdout",
     "output_type": "stream",
     "text": [
      "303 clinq Error: list index out of range\n",
      "304 cloudflare_radar Error: 403 Client Error: Forbidden for url: https://api.radar.cloudflare.com/.well-known/ai-plugin.json\n",
      "305 code_library_search Error: Unable to parse spec from source /openapi.json\n"
     ]
    },
    {
     "name": "stderr",
     "output_type": "stream",
     "text": [
      "Attempting to load an OpenAPI 3.0.1 spec.  This may result in degraded performance. Convert your OpenAPI spec to 3.1.* spec for better support.\n",
      "Attempting to load an OpenAPI 3.0.1 spec.  This may result in degraded performance. Convert your OpenAPI spec to 3.1.* spec for better support.\n"
     ]
    },
    {
     "name": "stdout",
     "output_type": "stream",
     "text": [
      "306 code_repo_interaction  success\n"
     ]
    },
    {
     "name": "stderr",
     "output_type": "stream",
     "text": [
      "Attempting to load an OpenAPI 3.0.0 spec.  This may result in degraded performance. Convert your OpenAPI spec to 3.1.* spec for better support.\n"
     ]
    },
    {
     "name": "stdout",
     "output_type": "stream",
     "text": [
      "307 code_runner  success\n"
     ]
    },
    {
     "name": "stderr",
     "output_type": "stream",
     "text": [
      "Attempting to load an OpenAPI 3.0.1 spec.  This may result in degraded performance. Convert your OpenAPI spec to 3.1.* spec for better support.\n"
     ]
    },
    {
     "name": "stdout",
     "output_type": "stream",
     "text": [
      "308 coderpad  success\n"
     ]
    },
    {
     "name": "stderr",
     "output_type": "stream",
     "text": [
      "Attempting to load an OpenAPI 3.0.0 spec.  This may result in degraded performance. Convert your OpenAPI spec to 3.1.* spec for better support.\n"
     ]
    },
    {
     "name": "stdout",
     "output_type": "stream",
     "text": [
      "309 coincap  success\n",
      "310 color_palette Error: Unable to parse spec from source https://color-palette-plugin.mmzdev.com/openapi.json\n"
     ]
    },
    {
     "name": "stderr",
     "output_type": "stream",
     "text": [
      "Attempting to load an OpenAPI 3.0.1 spec.  This may result in degraded performance. Convert your OpenAPI spec to 3.1.* spec for better support.\n"
     ]
    },
    {
     "name": "stdout",
     "output_type": "stream",
     "text": [
      "311 companieshouse  success\n"
     ]
    },
    {
     "name": "stderr",
     "output_type": "stream",
     "text": [
      "Attempting to load an OpenAPI 3.0.1 spec.  This may result in degraded performance. Convert your OpenAPI spec to 3.1.* spec for better support.\n"
     ]
    },
    {
     "name": "stdout",
     "output_type": "stream",
     "text": [
      "312 competitorppcads  success\n"
     ]
    },
    {
     "name": "stderr",
     "output_type": "stream",
     "text": [
      "Attempting to load an OpenAPI 3.0.1 spec.  This may result in degraded performance. Convert your OpenAPI spec to 3.1.* spec for better support.\n"
     ]
    },
    {
     "name": "stdout",
     "output_type": "stream",
     "text": [
      "313 converter_app  success\n"
     ]
    },
    {
     "name": "stderr",
     "output_type": "stream",
     "text": [
      "Attempting to load an OpenAPI 3.0.2 spec.  This may result in degraded performance. Convert your OpenAPI spec to 3.1.* spec for better support.\n",
      "Unsupported APIPropertyLocation \"header\" for parameter host. Valid values are ['query', 'path'] Ignoring optional parameter\n",
      "Unsupported APIPropertyLocation \"header\" for parameter host. Valid values are ['query', 'path'] Ignoring optional parameter\n"
     ]
    },
    {
     "name": "stdout",
     "output_type": "stream",
     "text": [
      "314 copilot  success\n",
      "315 copywriter Error: 406 Client Error: Not Acceptable for url: https://copywriter.orrenprunckun.com/.well-known/ai-plugin.json\n"
     ]
    },
    {
     "name": "stderr",
     "output_type": "stream",
     "text": [
      "Attempting to load an OpenAPI 3.0.3 spec.  This may result in degraded performance. Convert your OpenAPI spec to 3.1.* spec for better support.\n"
     ]
    },
    {
     "name": "stdout",
     "output_type": "stream",
     "text": [
      "316 coupons_by_tenereteam  success\n"
     ]
    },
    {
     "name": "stderr",
     "output_type": "stream",
     "text": [
      "Attempting to load an OpenAPI 3.0.3 spec.  This may result in degraded performance. Convert your OpenAPI spec to 3.1.* spec for better support.\n"
     ]
    },
    {
     "name": "stdout",
     "output_type": "stream",
     "text": [
      "317 crafty_clues  success\n"
     ]
    },
    {
     "name": "stderr",
     "output_type": "stream",
     "text": [
      "Attempting to load an OpenAPI 3.0.1 spec.  This may result in degraded performance. Convert your OpenAPI spec to 3.1.* spec for better support.\n"
     ]
    },
    {
     "name": "stdout",
     "output_type": "stream",
     "text": [
      "318 create_qr_code  success\n"
     ]
    },
    {
     "name": "stderr",
     "output_type": "stream",
     "text": [
      "Attempting to load an OpenAPI 3.0.1 spec.  This may result in degraded performance. Convert your OpenAPI spec to 3.1.* spec for better support.\n",
      "Attempting to load an OpenAPI 3.0.0 spec.  This may result in degraded performance. Convert your OpenAPI spec to 3.1.* spec for better support.\n"
     ]
    },
    {
     "name": "stdout",
     "output_type": "stream",
     "text": [
      "319 creativemind  success\n",
      "Processing plugin 320 of 609\n",
      "320 cryptoPriceAndNews  success\n",
      "321 crypto_jobs_list Error: 403 Client Error: Forbidden for url: https://cryptojobslist.com/.well-known/ai-plugin.json\n"
     ]
    },
    {
     "name": "stderr",
     "output_type": "stream",
     "text": [
      "Attempting to load an OpenAPI 3.0.1 spec.  This may result in degraded performance. Convert your OpenAPI spec to 3.1.* spec for better support.\n"
     ]
    },
    {
     "name": "stdout",
     "output_type": "stream",
     "text": [
      "322 crypto_price_checker  success\n"
     ]
    },
    {
     "name": "stderr",
     "output_type": "stream",
     "text": [
      "Attempting to load an OpenAPI 3.0.3 spec.  This may result in degraded performance. Convert your OpenAPI spec to 3.1.* spec for better support.\n"
     ]
    },
    {
     "name": "stdout",
     "output_type": "stream",
     "text": [
      "323 cryptomation  success\n"
     ]
    },
    {
     "name": "stderr",
     "output_type": "stream",
     "text": [
      "Attempting to load an OpenAPI 3.0.1 spec.  This may result in degraded performance. Convert your OpenAPI spec to 3.1.* spec for better support.\n"
     ]
    },
    {
     "name": "stdout",
     "output_type": "stream",
     "text": [
      "324 cryptopulse  success\n"
     ]
    },
    {
     "name": "stderr",
     "output_type": "stream",
     "text": [
      "Attempting to load an OpenAPI 3.0.1 spec.  This may result in degraded performance. Convert your OpenAPI spec to 3.1.* spec for better support.\n"
     ]
    },
    {
     "name": "stdout",
     "output_type": "stream",
     "text": [
      "325 currency_today  success\n"
     ]
    },
    {
     "name": "stderr",
     "output_type": "stream",
     "text": [
      "Attempting to load an OpenAPI 3.0.1 spec.  This may result in degraded performance. Convert your OpenAPI spec to 3.1.* spec for better support.\n"
     ]
    },
    {
     "name": "stdout",
     "output_type": "stream",
     "text": [
      "326 currencyconverter  success\n"
     ]
    },
    {
     "name": "stderr",
     "output_type": "stream",
     "text": [
      "Attempting to load an OpenAPI 3.0.2 spec.  This may result in degraded performance. Convert your OpenAPI spec to 3.1.* spec for better support.\n"
     ]
    },
    {
     "name": "stdout",
     "output_type": "stream",
     "text": [
      "327 customplugin  success\n",
      "328 daigram  success\n"
     ]
    },
    {
     "name": "stderr",
     "output_type": "stream",
     "text": [
      "Attempting to load an OpenAPI 3.0.1 spec.  This may result in degraded performance. Convert your OpenAPI spec to 3.1.* spec for better support.\n"
     ]
    },
    {
     "name": "stdout",
     "output_type": "stream",
     "text": [
      "329 daily_learning  success\n"
     ]
    },
    {
     "name": "stderr",
     "output_type": "stream",
     "text": [
      "Attempting to load an OpenAPI 3.0.2 spec.  This may result in degraded performance. Convert your OpenAPI spec to 3.1.* spec for better support.\n"
     ]
    },
    {
     "name": "stdout",
     "output_type": "stream",
     "text": [
      "330 dailybot  success\n",
      "331 dart Error: Expecting value: line 1 column 1 (char 0)\n"
     ]
    },
    {
     "name": "stderr",
     "output_type": "stream",
     "text": [
      "Attempting to load an OpenAPI 3.0.2 spec.  This may result in degraded performance. Convert your OpenAPI spec to 3.1.* spec for better support.\n"
     ]
    },
    {
     "name": "stdout",
     "output_type": "stream",
     "text": [
      "332 decision_journal  success\n"
     ]
    },
    {
     "name": "stderr",
     "output_type": "stream",
     "text": [
      "Attempting to load an OpenAPI 3.0.1 spec.  This may result in degraded performance. Convert your OpenAPI spec to 3.1.* spec for better support.\n"
     ]
    },
    {
     "name": "stdout",
     "output_type": "stream",
     "text": [
      "333 deepmemory  success\n"
     ]
    },
    {
     "name": "stderr",
     "output_type": "stream",
     "text": [
      "Attempting to load an OpenAPI 3.0.1 spec.  This may result in degraded performance. Convert your OpenAPI spec to 3.1.* spec for better support.\n"
     ]
    },
    {
     "name": "stdout",
     "output_type": "stream",
     "text": [
      "334 defillama  success\n",
      "335 definitive_facts Error: Unable to parse spec from source /plugin/openapi.json\n"
     ]
    },
    {
     "name": "stderr",
     "output_type": "stream",
     "text": [
      "Attempting to load an OpenAPI 3.0.0 spec.  This may result in degraded performance. Convert your OpenAPI spec to 3.1.* spec for better support.\n",
      "Attempting to load an OpenAPI 3.0.1 spec.  This may result in degraded performance. Convert your OpenAPI spec to 3.1.* spec for better support.\n"
     ]
    },
    {
     "name": "stdout",
     "output_type": "stream",
     "text": [
      "336 deployscript  success\n",
      "337 dev  success\n"
     ]
    },
    {
     "name": "stderr",
     "output_type": "stream",
     "text": [
      "Attempting to load an OpenAPI 3.0.1 spec.  This may result in degraded performance. Convert your OpenAPI spec to 3.1.* spec for better support.\n"
     ]
    },
    {
     "name": "stdout",
     "output_type": "stream",
     "text": [
      "338 dfa  success\n"
     ]
    },
    {
     "name": "stderr",
     "output_type": "stream",
     "text": [
      "Attempting to load an OpenAPI 3.0.1 spec.  This may result in degraded performance. Convert your OpenAPI spec to 3.1.* spec for better support.\n"
     ]
    },
    {
     "name": "stdout",
     "output_type": "stream",
     "text": [
      "339 diary  success\n",
      "Processing plugin 340 of 609\n"
     ]
    },
    {
     "name": "stderr",
     "output_type": "stream",
     "text": [
      "Attempting to load an OpenAPI 3.0.1 spec.  This may result in degraded performance. Convert your OpenAPI spec to 3.1.* spec for better support.\n"
     ]
    },
    {
     "name": "stdout",
     "output_type": "stream",
     "text": [
      "340 diceroller  success\n"
     ]
    },
    {
     "name": "stderr",
     "output_type": "stream",
     "text": [
      "Attempting to load an OpenAPI 3.0.1 spec.  This may result in degraded performance. Convert your OpenAPI spec to 3.1.* spec for better support.\n"
     ]
    },
    {
     "name": "stdout",
     "output_type": "stream",
     "text": [
      "341 disteur  success\n"
     ]
    },
    {
     "name": "stderr",
     "output_type": "stream",
     "text": [
      "Attempting to load an OpenAPI 3.0.1 spec.  This may result in degraded performance. Convert your OpenAPI spec to 3.1.* spec for better support.\n",
      "Attempting to load an OpenAPI 3.0.1 spec.  This may result in degraded performance. Convert your OpenAPI spec to 3.1.* spec for better support.\n"
     ]
    },
    {
     "name": "stdout",
     "output_type": "stream",
     "text": [
      "342 dlc Error: Objects not yet supported\n"
     ]
    },
    {
     "name": "stderr",
     "output_type": "stream",
     "text": [
      "Attempting to load an OpenAPI 3.0.1 spec.  This may result in degraded performance. Convert your OpenAPI spec to 3.1.* spec for better support.\n"
     ]
    },
    {
     "name": "stdout",
     "output_type": "stream",
     "text": [
      "343 domainNameDiscovery Error: Unsupported APIPropertyLocation \"body\" for parameter domains. Valid values are ['query', 'path']\n"
     ]
    },
    {
     "name": "stderr",
     "output_type": "stream",
     "text": [
      "Attempting to load an OpenAPI 3.0.1 spec.  This may result in degraded performance. Convert your OpenAPI spec to 3.1.* spec for better support.\n"
     ]
    },
    {
     "name": "stdout",
     "output_type": "stream",
     "text": [
      "344 domains  success\n"
     ]
    },
    {
     "name": "stderr",
     "output_type": "stream",
     "text": [
      "Attempting to load an OpenAPI 3.0.1 spec.  This may result in degraded performance. Convert your OpenAPI spec to 3.1.* spec for better support.\n",
      "Attempting to load an OpenAPI 3.0.1 spec.  This may result in degraded performance. Convert your OpenAPI spec to 3.1.* spec for better support.\n"
     ]
    },
    {
     "name": "stdout",
     "output_type": "stream",
     "text": [
      "345 domatron  success\n"
     ]
    },
    {
     "name": "stderr",
     "output_type": "stream",
     "text": [
      "Attempting to load an OpenAPI 3.0.1 spec.  This may result in degraded performance. Convert your OpenAPI spec to 3.1.* spec for better support.\n",
      "Attempting to load an OpenAPI 3.0.1 spec.  This may result in degraded performance. Convert your OpenAPI spec to 3.1.* spec for better support.\n"
     ]
    },
    {
     "name": "stdout",
     "output_type": "stream",
     "text": [
      "346 dover_outreach  success\n"
     ]
    },
    {
     "name": "stderr",
     "output_type": "stream",
     "text": [
      "Attempting to load an OpenAPI 3.0.1 spec.  This may result in degraded performance. Convert your OpenAPI spec to 3.1.* spec for better support.\n"
     ]
    },
    {
     "name": "stdout",
     "output_type": "stream",
     "text": [
      "347 draw  success\n"
     ]
    },
    {
     "name": "stderr",
     "output_type": "stream",
     "text": [
      "Attempting to load an OpenAPI 3.0.1 spec.  This may result in degraded performance. Convert your OpenAPI spec to 3.1.* spec for better support.\n"
     ]
    },
    {
     "name": "stdout",
     "output_type": "stream",
     "text": [
      "348 drink_maestro  success\n"
     ]
    },
    {
     "name": "stderr",
     "output_type": "stream",
     "text": [
      "Attempting to load an OpenAPI 3.0.1 spec.  This may result in degraded performance. Convert your OpenAPI spec to 3.1.* spec for better support.\n",
      "Attempting to load an OpenAPI 3.0.1 spec.  This may result in degraded performance. Convert your OpenAPI spec to 3.1.* spec for better support.\n"
     ]
    },
    {
     "name": "stdout",
     "output_type": "stream",
     "text": [
      "349 eSIM_Data_Package_Assistant  success\n"
     ]
    },
    {
     "name": "stderr",
     "output_type": "stream",
     "text": [
      "Attempting to load an OpenAPI 3.0.1 spec.  This may result in degraded performance. Convert your OpenAPI spec to 3.1.* spec for better support.\n",
      "Attempting to load an OpenAPI 3.0.1 spec.  This may result in degraded performance. Convert your OpenAPI spec to 3.1.* spec for better support.\n"
     ]
    },
    {
     "name": "stdout",
     "output_type": "stream",
     "text": [
      "350 eSportsLive  success\n"
     ]
    },
    {
     "name": "stderr",
     "output_type": "stream",
     "text": [
      "Attempting to load an OpenAPI 3.0.0 spec.  This may result in degraded performance. Convert your OpenAPI spec to 3.1.* spec for better support.\n"
     ]
    },
    {
     "name": "stdout",
     "output_type": "stream",
     "text": [
      "351 earthImagesAndVisualizations  success\n"
     ]
    },
    {
     "name": "stderr",
     "output_type": "stream",
     "text": [
      "Attempting to load an OpenAPI 3.0.1 spec.  This may result in degraded performance. Convert your OpenAPI spec to 3.1.* spec for better support.\n",
      "Attempting to load an OpenAPI 3.0.1 spec.  This may result in degraded performance. Convert your OpenAPI spec to 3.1.* spec for better support.\n"
     ]
    },
    {
     "name": "stdout",
     "output_type": "stream",
     "text": [
      "352 earthquake  success\n"
     ]
    },
    {
     "name": "stderr",
     "output_type": "stream",
     "text": [
      "Attempting to load an OpenAPI 3.0.1 spec.  This may result in degraded performance. Convert your OpenAPI spec to 3.1.* spec for better support.\n",
      "Attempting to load an OpenAPI 3.0.1 spec.  This may result in degraded performance. Convert your OpenAPI spec to 3.1.* spec for better support.\n"
     ]
    },
    {
     "name": "stdout",
     "output_type": "stream",
     "text": [
      "353 edX  success\n",
      "354 edmunds_cars Error: Unsupported type: int\n",
      "355 empregosagro  success\n"
     ]
    },
    {
     "name": "stderr",
     "output_type": "stream",
     "text": [
      "Attempting to load an OpenAPI 3.0.0 spec.  This may result in degraded performance. Convert your OpenAPI spec to 3.1.* spec for better support.\n"
     ]
    },
    {
     "name": "stdout",
     "output_type": "stream",
     "text": [
      "356 erc20_tokenlist_explorer  success\n"
     ]
    },
    {
     "name": "stderr",
     "output_type": "stream",
     "text": [
      "Attempting to load an OpenAPI 3.0.0 spec.  This may result in degraded performance. Convert your OpenAPI spec to 3.1.* spec for better support.\n"
     ]
    },
    {
     "name": "stdout",
     "output_type": "stream",
     "text": [
      "357 everyprint3d  success\n"
     ]
    },
    {
     "name": "stderr",
     "output_type": "stream",
     "text": [
      "Attempting to load an OpenAPI 3.0.1 spec.  This may result in degraded performance. Convert your OpenAPI spec to 3.1.* spec for better support.\n"
     ]
    },
    {
     "name": "stdout",
     "output_type": "stream",
     "text": [
      "358 exchangerates  success\n",
      "359 expedia Error: 401 Client Error: Unauthorized for url: https://apim.expedia.com/.well-known/ai-plugin.json\n",
      "Processing plugin 360 of 609\n"
     ]
    },
    {
     "name": "stderr",
     "output_type": "stream",
     "text": [
      "Attempting to load an OpenAPI 3.0.0 spec.  This may result in degraded performance. Convert your OpenAPI spec to 3.1.* spec for better support.\n"
     ]
    },
    {
     "name": "stdout",
     "output_type": "stream",
     "text": [
      "360 export_to_pdf  success\n",
      "361 exportchat  success\n"
     ]
    },
    {
     "name": "stderr",
     "output_type": "stream",
     "text": [
      "Attempting to load an OpenAPI 3.0.1 spec.  This may result in degraded performance. Convert your OpenAPI spec to 3.1.* spec for better support.\n"
     ]
    },
    {
     "name": "stdout",
     "output_type": "stream",
     "text": [
      "362 factcheck  success\n",
      "363 federal_law_search Error: Unable to parse spec from source /openapi.json\n"
     ]
    },
    {
     "name": "stderr",
     "output_type": "stream",
     "text": [
      "Attempting to load an OpenAPI 3.0.1 spec.  This may result in degraded performance. Convert your OpenAPI spec to 3.1.* spec for better support.\n"
     ]
    },
    {
     "name": "stdout",
     "output_type": "stream",
     "text": [
      "364 fengshui  success\n",
      "365 filmfindr Error: 403 Client Error: Forbidden for url: https://filmfindr.gngn.at/.well-known/ai-plugin.json\n"
     ]
    },
    {
     "name": "stderr",
     "output_type": "stream",
     "text": [
      "Attempting to load an OpenAPI 3.0.1 spec.  This may result in degraded performance. Convert your OpenAPI spec to 3.1.* spec for better support.\n"
     ]
    },
    {
     "name": "stdout",
     "output_type": "stream",
     "text": [
      "366 find_agency  success\n",
      "367 find_stock_ideas Error: 500 Server Error: Internal Server Error for url: https://onepage.report/.well-known/ai-plugin.json\n"
     ]
    },
    {
     "name": "stderr",
     "output_type": "stream",
     "text": [
      "Attempting to load an OpenAPI 3.0.1 spec.  This may result in degraded performance. Convert your OpenAPI spec to 3.1.* spec for better support.\n",
      "Attempting to load an OpenAPI 3.0.1 spec.  This may result in degraded performance. Convert your OpenAPI spec to 3.1.* spec for better support.\n"
     ]
    },
    {
     "name": "stdout",
     "output_type": "stream",
     "text": [
      "368 find_teachers  success\n",
      "369 findafreelancer  success\n"
     ]
    },
    {
     "name": "stderr",
     "output_type": "stream",
     "text": [
      "Attempting to load an OpenAPI 3.0.2 spec.  This may result in degraded performance. Convert your OpenAPI spec to 3.1.* spec for better support.\n"
     ]
    },
    {
     "name": "stdout",
     "output_type": "stream",
     "text": [
      "370 findagift  success\n"
     ]
    },
    {
     "name": "stderr",
     "output_type": "stream",
     "text": [
      "Attempting to load an OpenAPI 3.0.1 spec.  This may result in degraded performance. Convert your OpenAPI spec to 3.1.* spec for better support.\n"
     ]
    },
    {
     "name": "stdout",
     "output_type": "stream",
     "text": [
      "371 findatour  success\n"
     ]
    },
    {
     "name": "stderr",
     "output_type": "stream",
     "text": [
      "Attempting to load an OpenAPI 3.0.1 spec.  This may result in degraded performance. Convert your OpenAPI spec to 3.1.* spec for better support.\n"
     ]
    },
    {
     "name": "stdout",
     "output_type": "stream",
     "text": [
      "372 finnabolag  success\n"
     ]
    },
    {
     "name": "stderr",
     "output_type": "stream",
     "text": [
      "Attempting to load an OpenAPI 3.0.2 spec.  This may result in degraded performance. Convert your OpenAPI spec to 3.1.* spec for better support.\n"
     ]
    },
    {
     "name": "stdout",
     "output_type": "stream",
     "text": [
      "373 fiscalnote  success\n"
     ]
    },
    {
     "name": "stderr",
     "output_type": "stream",
     "text": [
      "Attempting to load an OpenAPI 3.0.1 spec.  This may result in degraded performance. Convert your OpenAPI spec to 3.1.* spec for better support.\n",
      "Attempting to load an OpenAPI 3.0.1 spec.  This may result in degraded performance. Convert your OpenAPI spec to 3.1.* spec for better support.\n"
     ]
    },
    {
     "name": "stdout",
     "output_type": "stream",
     "text": [
      "374 forex_gpt Error: Unsupported type: float\n"
     ]
    },
    {
     "name": "stderr",
     "output_type": "stream",
     "text": [
      "Attempting to load an OpenAPI 3.0.2 spec.  This may result in degraded performance. Convert your OpenAPI spec to 3.1.* spec for better support.\n"
     ]
    },
    {
     "name": "stdout",
     "output_type": "stream",
     "text": [
      "375 form  success\n"
     ]
    },
    {
     "name": "stderr",
     "output_type": "stream",
     "text": [
      "Attempting to load an OpenAPI 3.0.1 spec.  This may result in degraded performance. Convert your OpenAPI spec to 3.1.* spec for better support.\n"
     ]
    },
    {
     "name": "stdout",
     "output_type": "stream",
     "text": [
      "376 formgenerator  success\n"
     ]
    },
    {
     "name": "stderr",
     "output_type": "stream",
     "text": [
      "Attempting to load an OpenAPI 3.0.0 spec.  This may result in degraded performance. Convert your OpenAPI spec to 3.1.* spec for better support.\n"
     ]
    },
    {
     "name": "stdout",
     "output_type": "stream",
     "text": [
      "377 freelancetalent  success\n"
     ]
    },
    {
     "name": "stderr",
     "output_type": "stream",
     "text": [
      "Attempting to load an OpenAPI 3.0.1 spec.  This may result in degraded performance. Convert your OpenAPI spec to 3.1.* spec for better support.\n"
     ]
    },
    {
     "name": "stdout",
     "output_type": "stream",
     "text": [
      "378 fundsdbsearch  success\n"
     ]
    },
    {
     "name": "stderr",
     "output_type": "stream",
     "text": [
      "Attempting to load an OpenAPI 3.0.1 spec.  This may result in degraded performance. Convert your OpenAPI spec to 3.1.* spec for better support.\n"
     ]
    },
    {
     "name": "stdout",
     "output_type": "stream",
     "text": [
      "379 game_info_fetcher  success\n",
      "Processing plugin 380 of 609\n"
     ]
    },
    {
     "name": "stderr",
     "output_type": "stream",
     "text": [
      "Attempting to load an OpenAPI 3.0.2 spec.  This may result in degraded performance. Convert your OpenAPI spec to 3.1.* spec for better support.\n"
     ]
    },
    {
     "name": "stdout",
     "output_type": "stream",
     "text": [
      "380 getyourguide_activity_search Error: Unsupported type: None\n",
      "381 gift_suggester Error: 502 Server Error: Bad Gateway for url: https://giftsuggester-openai.langdock.com/.well-known/ai-plugin.json\n"
     ]
    },
    {
     "name": "stderr",
     "output_type": "stream",
     "text": [
      "Attempting to load an OpenAPI 3.0.0 spec.  This may result in degraded performance. Convert your OpenAPI spec to 3.1.* spec for better support.\n",
      "Attempting to load an OpenAPI 3.0.0 spec.  This may result in degraded performance. Convert your OpenAPI spec to 3.1.* spec for better support.\n"
     ]
    },
    {
     "name": "stdout",
     "output_type": "stream",
     "text": [
      "382 giftwrap  success\n"
     ]
    },
    {
     "name": "stderr",
     "output_type": "stream",
     "text": [
      "Attempting to load an OpenAPI 3.0.1 spec.  This may result in degraded performance. Convert your OpenAPI spec to 3.1.* spec for better support.\n"
     ]
    },
    {
     "name": "stdout",
     "output_type": "stream",
     "text": [
      "383 giga  success\n"
     ]
    },
    {
     "name": "stderr",
     "output_type": "stream",
     "text": [
      "Attempting to load an OpenAPI 3.0.1 spec.  This may result in degraded performance. Convert your OpenAPI spec to 3.1.* spec for better support.\n"
     ]
    },
    {
     "name": "stdout",
     "output_type": "stream",
     "text": [
      "384 gitUserRepoStats  success\n",
      "385 godaddy_domains Error: 403 Client Error: Forbidden for url: https://ehodiexgqdfrfuvo2go5eumahm0fxjpz.lambda-url.us-west-2.on.aws/.well-known/ai-plugin.json\n"
     ]
    },
    {
     "name": "stderr",
     "output_type": "stream",
     "text": [
      "Attempting to load an OpenAPI 3.0.1 spec.  This may result in degraded performance. Convert your OpenAPI spec to 3.1.* spec for better support.\n"
     ]
    },
    {
     "name": "stdout",
     "output_type": "stream",
     "text": [
      "386 gofynd  success\n"
     ]
    },
    {
     "name": "stderr",
     "output_type": "stream",
     "text": [
      "Attempting to load an OpenAPI 3.0.2 spec.  This may result in degraded performance. Convert your OpenAPI spec to 3.1.* spec for better support.\n"
     ]
    },
    {
     "name": "stdout",
     "output_type": "stream",
     "text": [
      "387 golden_data_plugin Error: No schema found for BaseTripleModel\n"
     ]
    },
    {
     "name": "stderr",
     "output_type": "stream",
     "text": [
      "Attempting to load an OpenAPI 3.0.1 spec.  This may result in degraded performance. Convert your OpenAPI spec to 3.1.* spec for better support.\n"
     ]
    },
    {
     "name": "stdout",
     "output_type": "stream",
     "text": [
      "388 got2go_plugin_v1  success\n",
      "389 grabjobs Error: 403 Client Error: Forbidden for url: https://jobio.grabjobs.co/.well-known/ai-plugin.json\n"
     ]
    },
    {
     "name": "stderr",
     "output_type": "stream",
     "text": [
      "Attempting to load an OpenAPI 3.0.1 spec.  This may result in degraded performance. Convert your OpenAPI spec to 3.1.* spec for better support.\n"
     ]
    },
    {
     "name": "stdout",
     "output_type": "stream",
     "text": [
      "390 hackit_web_scanner  success\n"
     ]
    },
    {
     "name": "stderr",
     "output_type": "stream",
     "text": [
      "Attempting to load an OpenAPI 3.0.1 spec.  This may result in degraded performance. Convert your OpenAPI spec to 3.1.* spec for better support.\n"
     ]
    },
    {
     "name": "stdout",
     "output_type": "stream",
     "text": [
      "391 hacktrack  success\n",
      "392 hadith  success\n"
     ]
    },
    {
     "name": "stderr",
     "output_type": "stream",
     "text": [
      "Attempting to load an OpenAPI 3.0.1 spec.  This may result in degraded performance. Convert your OpenAPI spec to 3.1.* spec for better support.\n"
     ]
    },
    {
     "name": "stdout",
     "output_type": "stream",
     "text": [
      "393 haulingbuddies  success\n"
     ]
    },
    {
     "name": "stderr",
     "output_type": "stream",
     "text": [
      "Attempting to load an OpenAPI 3.0.1 spec.  This may result in degraded performance. Convert your OpenAPI spec to 3.1.* spec for better support.\n"
     ]
    },
    {
     "name": "stdout",
     "output_type": "stream",
     "text": [
      "394 hdbcarpark  success\n"
     ]
    },
    {
     "name": "stderr",
     "output_type": "stream",
     "text": [
      "Attempting to load an OpenAPI 3.0.1 spec.  This may result in degraded performance. Convert your OpenAPI spec to 3.1.* spec for better support.\n",
      "Attempting to load an OpenAPI 3.0.1 spec.  This may result in degraded performance. Convert your OpenAPI spec to 3.1.* spec for better support.\n"
     ]
    },
    {
     "name": "stdout",
     "output_type": "stream",
     "text": [
      "395 heygen  success\n",
      "396 hicollectors Error: Unable to parse spec from source https://www.hicollectors.com/openapi.yaml\n"
     ]
    },
    {
     "name": "stderr",
     "output_type": "stream",
     "text": [
      "Attempting to load an OpenAPI 3.0.2 spec.  This may result in degraded performance. Convert your OpenAPI spec to 3.1.* spec for better support.\n"
     ]
    },
    {
     "name": "stdout",
     "output_type": "stream",
     "text": [
      "397 highPerplexity  success\n"
     ]
    },
    {
     "name": "stderr",
     "output_type": "stream",
     "text": [
      "Attempting to load an OpenAPI 3.0.2 spec.  This may result in degraded performance. Convert your OpenAPI spec to 3.1.* spec for better support.\n"
     ]
    },
    {
     "name": "stdout",
     "output_type": "stream",
     "text": [
      "398 html_css_japanese_stroke_viewer  success\n",
      "399 hubbubworld_hubbub_1 Error: 403 Client Error: Forbidden for url: https://www.openai.hubbubworld.com/.well-known/ai-plugin.json\n"
     ]
    },
    {
     "name": "stderr",
     "output_type": "stream",
     "text": [
      "Attempting to load an OpenAPI 3.0.2 spec.  This may result in degraded performance. Convert your OpenAPI spec to 3.1.* spec for better support.\n"
     ]
    },
    {
     "name": "stdout",
     "output_type": "stream",
     "text": [
      "401 improved_semantic_search  success\n"
     ]
    },
    {
     "name": "stderr",
     "output_type": "stream",
     "text": [
      "Attempting to load an OpenAPI 3.0.1 spec.  This may result in degraded performance. Convert your OpenAPI spec to 3.1.* spec for better support.\n"
     ]
    },
    {
     "name": "stdout",
     "output_type": "stream",
     "text": [
      "402 indeed  success\n"
     ]
    },
    {
     "name": "stderr",
     "output_type": "stream",
     "text": [
      "Attempting to load an OpenAPI 3.0.2 spec.  This may result in degraded performance. Convert your OpenAPI spec to 3.1.* spec for better support.\n"
     ]
    },
    {
     "name": "stdout",
     "output_type": "stream",
     "text": [
      "403 indoorplantbot  success\n"
     ]
    },
    {
     "name": "stderr",
     "output_type": "stream",
     "text": [
      "Attempting to load an OpenAPI 3.0.1 spec.  This may result in degraded performance. Convert your OpenAPI spec to 3.1.* spec for better support.\n"
     ]
    },
    {
     "name": "stdout",
     "output_type": "stream",
     "text": [
      "404 infojobs  success\n",
      "405 instabase Error: 404 Client Error: Not Found for url: https://www.instabase.jp/.well-known/ai-plugin.json\n"
     ]
    },
    {
     "name": "stderr",
     "output_type": "stream",
     "text": [
      "Attempting to load an OpenAPI 3.0.3 spec.  This may result in degraded performance. Convert your OpenAPI spec to 3.1.* spec for better support.\n"
     ]
    },
    {
     "name": "stdout",
     "output_type": "stream",
     "text": [
      "406 internetSearch  success\n"
     ]
    },
    {
     "name": "stderr",
     "output_type": "stream",
     "text": [
      "Attempting to load an OpenAPI 3.0.1 spec.  This may result in degraded performance. Convert your OpenAPI spec to 3.1.* spec for better support.\n"
     ]
    },
    {
     "name": "stdout",
     "output_type": "stream",
     "text": [
      "407 italy_latest_news  success\n"
     ]
    },
    {
     "name": "stderr",
     "output_type": "stream",
     "text": [
      "Attempting to load an OpenAPI 3.0.1 spec.  This may result in degraded performance. Convert your OpenAPI spec to 3.1.* spec for better support.\n"
     ]
    },
    {
     "name": "stdout",
     "output_type": "stream",
     "text": [
      "408 jini  success\n"
     ]
    },
    {
     "name": "stderr",
     "output_type": "stream",
     "text": [
      "Attempting to load an OpenAPI 3.0.0 spec.  This may result in degraded performance. Convert your OpenAPI spec to 3.1.* spec for better support.\n"
     ]
    },
    {
     "name": "stdout",
     "output_type": "stream",
     "text": [
      "409 jira  success\n"
     ]
    },
    {
     "name": "stderr",
     "output_type": "stream",
     "text": [
      "Attempting to load an OpenAPI 3.0.1 spec.  This may result in degraded performance. Convert your OpenAPI spec to 3.1.* spec for better support.\n"
     ]
    },
    {
     "name": "stdout",
     "output_type": "stream",
     "text": [
      "410 job_search  success\n"
     ]
    },
    {
     "name": "stderr",
     "output_type": "stream",
     "text": [
      "Attempting to load an OpenAPI 3.0.0 spec.  This may result in degraded performance. Convert your OpenAPI spec to 3.1.* spec for better support.\n"
     ]
    },
    {
     "name": "stdout",
     "output_type": "stream",
     "text": [
      "411 job_search_uk  success\n"
     ]
    },
    {
     "name": "stderr",
     "output_type": "stream",
     "text": [
      "Attempting to load an OpenAPI 3.0.1 spec.  This may result in degraded performance. Convert your OpenAPI spec to 3.1.* spec for better support.\n"
     ]
    },
    {
     "name": "stdout",
     "output_type": "stream",
     "text": [
      "412 jobsearch  success\n"
     ]
    },
    {
     "name": "stderr",
     "output_type": "stream",
     "text": [
      "Attempting to load an OpenAPI 3.0.1 spec.  This may result in degraded performance. Convert your OpenAPI spec to 3.1.* spec for better support.\n"
     ]
    },
    {
     "name": "stdout",
     "output_type": "stream",
     "text": [
      "413 jopilot  success\n",
      "414 kakakucom Error: 403 Client Error: Forbidden. for url: https://api.kakaku.com/error/?403;\n"
     ]
    },
    {
     "name": "stderr",
     "output_type": "stream",
     "text": [
      "Attempting to load an OpenAPI 3.0.1 spec.  This may result in degraded performance. Convert your OpenAPI spec to 3.1.* spec for better support.\n"
     ]
    },
    {
     "name": "stdout",
     "output_type": "stream",
     "text": [
      "415 kakakucom_travel  success\n"
     ]
    },
    {
     "name": "stderr",
     "output_type": "stream",
     "text": [
      "Attempting to load an OpenAPI 3.0.1 spec.  This may result in degraded performance. Convert your OpenAPI spec to 3.1.* spec for better support.\n",
      "Unsupported APIPropertyLocation \"header\" for parameter openai-subdivision-1-iso-code. Valid values are ['query', 'path'] Ignoring optional parameter\n",
      "Unsupported APIPropertyLocation \"header\" for parameter openai-subdivision-1-iso-code. Valid values are ['query', 'path'] Ignoring optional parameter\n",
      "Unsupported APIPropertyLocation \"header\" for parameter openai-subdivision-1-iso-code. Valid values are ['query', 'path'] Ignoring optional parameter\n",
      "Unsupported APIPropertyLocation \"header\" for parameter openai-subdivision-1-iso-code. Valid values are ['query', 'path'] Ignoring optional parameter\n"
     ]
    },
    {
     "name": "stdout",
     "output_type": "stream",
     "text": [
      "416 keyplays_football  success\n",
      "417 keywordexplorer  success\n"
     ]
    },
    {
     "name": "stderr",
     "output_type": "stream",
     "text": [
      "Attempting to load an OpenAPI 3.0.2 spec.  This may result in degraded performance. Convert your OpenAPI spec to 3.1.* spec for better support.\n"
     ]
    },
    {
     "name": "stdout",
     "output_type": "stream",
     "text": [
      "418 konkanitranslator  success\n"
     ]
    },
    {
     "name": "stderr",
     "output_type": "stream",
     "text": [
      "Attempting to load an OpenAPI 3.0.1 spec.  This may result in degraded performance. Convert your OpenAPI spec to 3.1.* spec for better support.\n"
     ]
    },
    {
     "name": "stdout",
     "output_type": "stream",
     "text": [
      "419 korea_subway  success\n",
      "Processing plugin 420 of 609\n"
     ]
    },
    {
     "name": "stderr",
     "output_type": "stream",
     "text": [
      "Attempting to load an OpenAPI 3.0.1 spec.  This may result in degraded performance. Convert your OpenAPI spec to 3.1.* spec for better support.\n"
     ]
    },
    {
     "name": "stdout",
     "output_type": "stream",
     "text": [
      "420 kraftful  success\n"
     ]
    },
    {
     "name": "stderr",
     "output_type": "stream",
     "text": [
      "Attempting to load an OpenAPI 3.0.2 spec.  This may result in degraded performance. Convert your OpenAPI spec to 3.1.* spec for better support.\n"
     ]
    },
    {
     "name": "stdout",
     "output_type": "stream",
     "text": [
      "421 lincolnbot  success\n",
      "422 linkReader Error: Unable to parse spec from source https://gochitchat.ai/linkreader/openapi.yaml\n"
     ]
    },
    {
     "name": "stderr",
     "output_type": "stream",
     "text": [
      "Attempting to load an OpenAPI 3.0.0 spec.  This may result in degraded performance. Convert your OpenAPI spec to 3.1.* spec for better support.\n"
     ]
    },
    {
     "name": "stdout",
     "output_type": "stream",
     "text": [
      "423 litmaps  success\n"
     ]
    },
    {
     "name": "stderr",
     "output_type": "stream",
     "text": [
      "Attempting to load an OpenAPI 3.0.1 spec.  This may result in degraded performance. Convert your OpenAPI spec to 3.1.* spec for better support.\n"
     ]
    },
    {
     "name": "stdout",
     "output_type": "stream",
     "text": [
      "424 liveinboxer  success\n"
     ]
    },
    {
     "name": "stderr",
     "output_type": "stream",
     "text": [
      "Attempting to load an OpenAPI 3.0.1 spec.  This may result in degraded performance. Convert your OpenAPI spec to 3.1.* spec for better support.\n"
     ]
    },
    {
     "name": "stdout",
     "output_type": "stream",
     "text": [
      "425 local  success\n"
     ]
    },
    {
     "name": "stderr",
     "output_type": "stream",
     "text": [
      "Attempting to load an OpenAPI 3.0.2 spec.  This may result in degraded performance. Convert your OpenAPI spec to 3.1.* spec for better support.\n"
     ]
    },
    {
     "name": "stdout",
     "output_type": "stream",
     "text": [
      "426 locate_inventory_for_electronic_components  success\n",
      "427 locator Error: 404 Client Error: Not Found for url: https://iss-tracking-plugin.devsociety.repl.co/.well-known/ai-plugin.json\n"
     ]
    },
    {
     "name": "stderr",
     "output_type": "stream",
     "text": [
      "Attempting to load an OpenAPI 3.0.2 spec.  This may result in degraded performance. Convert your OpenAPI spec to 3.1.* spec for better support.\n"
     ]
    },
    {
     "name": "stdout",
     "output_type": "stream",
     "text": [
      "428 lsongai  success\n"
     ]
    },
    {
     "name": "stderr",
     "output_type": "stream",
     "text": [
      "Attempting to load an OpenAPI 3.0.2 spec.  This may result in degraded performance. Convert your OpenAPI spec to 3.1.* spec for better support.\n"
     ]
    },
    {
     "name": "stdout",
     "output_type": "stream",
     "text": [
      "429 magi_codex  success\n"
     ]
    },
    {
     "name": "stderr",
     "output_type": "stream",
     "text": [
      "Attempting to load an OpenAPI 3.0.3 spec.  This may result in degraded performance. Convert your OpenAPI spec to 3.1.* spec for better support.\n"
     ]
    },
    {
     "name": "stdout",
     "output_type": "stream",
     "text": [
      "430 magic  success\n"
     ]
    },
    {
     "name": "stderr",
     "output_type": "stream",
     "text": [
      "Attempting to load an OpenAPI 3.0.2 spec.  This may result in degraded performance. Convert your OpenAPI spec to 3.1.* spec for better support.\n"
     ]
    },
    {
     "name": "stdout",
     "output_type": "stream",
     "text": [
      "431 magic_conch  success\n"
     ]
    },
    {
     "name": "stderr",
     "output_type": "stream",
     "text": [
      "Attempting to load an OpenAPI 3.0.0 spec.  This may result in degraded performance. Convert your OpenAPI spec to 3.1.* spec for better support.\n"
     ]
    },
    {
     "name": "stdout",
     "output_type": "stream",
     "text": [
      "432 make_an_excel_sheet  success\n"
     ]
    },
    {
     "name": "stderr",
     "output_type": "stream",
     "text": [
      "Attempting to load an OpenAPI 3.0.1 spec.  This may result in degraded performance. Convert your OpenAPI spec to 3.1.* spec for better support.\n"
     ]
    },
    {
     "name": "stdout",
     "output_type": "stream",
     "text": [
      "433 maps  success\n",
      "434 mbti Error: 502 Server Error: Bad Gateway for url: https://mbti.bowang17.repl.co/.well-known/ai-plugin.json\n",
      "435 medecinedata Error: 502 Server Error: Bad Gateway for url: https://pubmed-explorer.narhasweet.repl.co/.well-known/ai-plugin.json\n"
     ]
    },
    {
     "name": "stderr",
     "output_type": "stream",
     "text": [
      "Attempting to load an OpenAPI 3.0.1 spec.  This may result in degraded performance. Convert your OpenAPI spec to 3.1.* spec for better support.\n"
     ]
    },
    {
     "name": "stdout",
     "output_type": "stream",
     "text": [
      "436 mediaready  success\n"
     ]
    },
    {
     "name": "stderr",
     "output_type": "stream",
     "text": [
      "Attempting to load an OpenAPI 3.0.3 spec.  This may result in degraded performance. Convert your OpenAPI spec to 3.1.* spec for better support.\n",
      "Attempting to load an OpenAPI 3.0.2 spec.  This may result in degraded performance. Convert your OpenAPI spec to 3.1.* spec for better support.\n"
     ]
    },
    {
     "name": "stdout",
     "output_type": "stream",
     "text": [
      "437 memecreator  success\n",
      "438 memorybank  success\n"
     ]
    },
    {
     "name": "stderr",
     "output_type": "stream",
     "text": [
      "Attempting to load an OpenAPI 3.0.1 spec.  This may result in degraded performance. Convert your OpenAPI spec to 3.1.* spec for better support.\n"
     ]
    },
    {
     "name": "stdout",
     "output_type": "stream",
     "text": [
      "439 message_in_a_bottle  success\n",
      "Processing plugin 440 of 609\n"
     ]
    },
    {
     "name": "stderr",
     "output_type": "stream",
     "text": [
      "Attempting to load an OpenAPI 3.0.1 spec.  This may result in degraded performance. Convert your OpenAPI spec to 3.1.* spec for better support.\n"
     ]
    },
    {
     "name": "stdout",
     "output_type": "stream",
     "text": [
      "440 metamentor  success\n"
     ]
    },
    {
     "name": "stderr",
     "output_type": "stream",
     "text": [
      "Attempting to load an OpenAPI 3.0.0 spec.  This may result in degraded performance. Convert your OpenAPI spec to 3.1.* spec for better support.\n"
     ]
    },
    {
     "name": "stdout",
     "output_type": "stream",
     "text": [
      "441 metaphor_search_api  success\n"
     ]
    },
    {
     "name": "stderr",
     "output_type": "stream",
     "text": [
      "Attempting to load an OpenAPI 3.0.1 spec.  This may result in degraded performance. Convert your OpenAPI spec to 3.1.* spec for better support.\n"
     ]
    },
    {
     "name": "stdout",
     "output_type": "stream",
     "text": [
      "442 metar  success\n"
     ]
    },
    {
     "name": "stderr",
     "output_type": "stream",
     "text": [
      "Attempting to load an OpenAPI 3.0.2 spec.  This may result in degraded performance. Convert your OpenAPI spec to 3.1.* spec for better support.\n"
     ]
    },
    {
     "name": "stdout",
     "output_type": "stream",
     "text": [
      "443 midpage_caselaw  success\n"
     ]
    },
    {
     "name": "stderr",
     "output_type": "stream",
     "text": [
      "Attempting to load an OpenAPI 3.0.2 spec.  This may result in degraded performance. Convert your OpenAPI spec to 3.1.* spec for better support.\n"
     ]
    },
    {
     "name": "stdout",
     "output_type": "stream",
     "text": [
      "444 mightyowl_education  success\n"
     ]
    },
    {
     "name": "stderr",
     "output_type": "stream",
     "text": [
      "Attempting to load an OpenAPI 3.0.1 spec.  This may result in degraded performance. Convert your OpenAPI spec to 3.1.* spec for better support.\n"
     ]
    },
    {
     "name": "stdout",
     "output_type": "stream",
     "text": [
      "445 minecraft_modding_guide  success\n"
     ]
    },
    {
     "name": "stderr",
     "output_type": "stream",
     "text": [
      "Attempting to load an OpenAPI 3.0.0 spec.  This may result in degraded performance. Convert your OpenAPI spec to 3.1.* spec for better support.\n"
     ]
    },
    {
     "name": "stdout",
     "output_type": "stream",
     "text": [
      "446 mini_habits  success\n"
     ]
    },
    {
     "name": "stderr",
     "output_type": "stream",
     "text": [
      "Attempting to load an OpenAPI 3.0.1 spec.  This may result in degraded performance. Convert your OpenAPI spec to 3.1.* spec for better support.\n"
     ]
    },
    {
     "name": "stdout",
     "output_type": "stream",
     "text": [
      "447 mintbasesearch Error: Unable to parse spec from source https://search-ai.mintbase.xyz/openapi.json\n"
     ]
    },
    {
     "name": "stderr",
     "output_type": "stream",
     "text": [
      "Attempting to load an OpenAPI 3.0.1 spec.  This may result in degraded performance. Convert your OpenAPI spec to 3.1.* spec for better support.\n"
     ]
    },
    {
     "name": "stdout",
     "output_type": "stream",
     "text": [
      "448 mobula  success\n"
     ]
    },
    {
     "name": "stderr",
     "output_type": "stream",
     "text": [
      "Attempting to load an OpenAPI 3.0.3 spec.  This may result in degraded performance. Convert your OpenAPI spec to 3.1.* spec for better support.\n"
     ]
    },
    {
     "name": "stdout",
     "output_type": "stream",
     "text": [
      "449 mojito  success\n"
     ]
    },
    {
     "name": "stderr",
     "output_type": "stream",
     "text": [
      "Attempting to load an OpenAPI 3.0.1 spec.  This may result in degraded performance. Convert your OpenAPI spec to 3.1.* spec for better support.\n"
     ]
    },
    {
     "name": "stdout",
     "output_type": "stream",
     "text": [
      "450 momentxguidex  success\n"
     ]
    },
    {
     "name": "stderr",
     "output_type": "stream",
     "text": [
      "Attempting to load an OpenAPI 3.0.0 spec.  This may result in degraded performance. Convert your OpenAPI spec to 3.1.* spec for better support.\n"
     ]
    },
    {
     "name": "stdout",
     "output_type": "stream",
     "text": [
      "451 music  success\n"
     ]
    },
    {
     "name": "stderr",
     "output_type": "stream",
     "text": [
      "Attempting to load an OpenAPI 3.0.3 spec.  This may result in degraded performance. Convert your OpenAPI spec to 3.1.* spec for better support.\n"
     ]
    },
    {
     "name": "stdout",
     "output_type": "stream",
     "text": [
      "452 nasaMediaExplorer  success\n"
     ]
    },
    {
     "name": "stderr",
     "output_type": "stream",
     "text": [
      "Attempting to load an OpenAPI 3.0.1 spec.  This may result in degraded performance. Convert your OpenAPI spec to 3.1.* spec for better support.\n"
     ]
    },
    {
     "name": "stdout",
     "output_type": "stream",
     "text": [
      "453 nba_stats  success\n"
     ]
    },
    {
     "name": "stderr",
     "output_type": "stream",
     "text": [
      "Attempting to load an OpenAPI 3.0.1 spec.  This may result in degraded performance. Convert your OpenAPI spec to 3.1.* spec for better support.\n"
     ]
    },
    {
     "name": "stdout",
     "output_type": "stream",
     "text": [
      "454 ndricks_sports_api  success\n"
     ]
    },
    {
     "name": "stderr",
     "output_type": "stream",
     "text": [
      "Attempting to load an OpenAPI 3.0.3 spec.  This may result in degraded performance. Convert your OpenAPI spec to 3.1.* spec for better support.\n"
     ]
    },
    {
     "name": "stdout",
     "output_type": "stream",
     "text": [
      "455 netools  success\n",
      "456 news Error: HTTPSConnectionPool(host='simbiss.net', port=443): Max retries exceeded with url: /.well-known/ai-plugin.json (Caused by NameResolutionError(\"<urllib3.connection.HTTPSConnection object at 0x000002144DFCB280>: Failed to resolve 'simbiss.net' ([Errno 11002] getaddrinfo failed)\"))\n"
     ]
    },
    {
     "name": "stderr",
     "output_type": "stream",
     "text": [
      "Attempting to load an OpenAPI 3.0.1 spec.  This may result in degraded performance. Convert your OpenAPI spec to 3.1.* spec for better support.\n"
     ]
    },
    {
     "name": "stdout",
     "output_type": "stream",
     "text": [
      "457 nextpaper  success\n"
     ]
    },
    {
     "name": "stderr",
     "output_type": "stream",
     "text": [
      "Attempting to load an OpenAPI 3.0.1 spec.  This may result in degraded performance. Convert your OpenAPI spec to 3.1.* spec for better support.\n"
     ]
    },
    {
     "name": "stdout",
     "output_type": "stream",
     "text": [
      "458 nftguru  success\n"
     ]
    },
    {
     "name": "stderr",
     "output_type": "stream",
     "text": [
      "Attempting to load an OpenAPI 3.0.1 spec.  This may result in degraded performance. Convert your OpenAPI spec to 3.1.* spec for better support.\n"
     ]
    },
    {
     "name": "stdout",
     "output_type": "stream",
     "text": [
      "459 nonprofits  success\n",
      "Processing plugin 460 of 609\n"
     ]
    },
    {
     "name": "stderr",
     "output_type": "stream",
     "text": [
      "Attempting to load an OpenAPI 3.0.2 spec.  This may result in degraded performance. Convert your OpenAPI spec to 3.1.* spec for better support.\n"
     ]
    },
    {
     "name": "stdout",
     "output_type": "stream",
     "text": [
      "460 noteable  success\n"
     ]
    },
    {
     "name": "stderr",
     "output_type": "stream",
     "text": [
      "Attempting to load an OpenAPI 3.0.2 spec.  This may result in degraded performance. Convert your OpenAPI spec to 3.1.* spec for better support.\n"
     ]
    },
    {
     "name": "stdout",
     "output_type": "stream",
     "text": [
      "461 notes_ai_sync  success\n",
      "462 openarch  success\n",
      "463 opentable_v2 Error: 403 Client Error: Forbidden for url: https://www.opentable.com/.well-known/ai-plugin.json\n"
     ]
    },
    {
     "name": "stderr",
     "output_type": "stream",
     "text": [
      "Attempting to load an OpenAPI 3.0.1 spec.  This may result in degraded performance. Convert your OpenAPI spec to 3.1.* spec for better support.\n"
     ]
    },
    {
     "name": "stdout",
     "output_type": "stream",
     "text": [
      "464 opentools  success\n",
      "465 opentrivia Error: Unable to parse spec from source /openapi.json\n"
     ]
    },
    {
     "name": "stderr",
     "output_type": "stream",
     "text": [
      "Attempting to load an OpenAPI 3.0.1 spec.  This may result in degraded performance. Convert your OpenAPI spec to 3.1.* spec for better support.\n"
     ]
    },
    {
     "name": "stdout",
     "output_type": "stream",
     "text": [
      "466 owd  success\n"
     ]
    },
    {
     "name": "stderr",
     "output_type": "stream",
     "text": [
      "Attempting to load an OpenAPI 3.0.2 spec.  This may result in degraded performance. Convert your OpenAPI spec to 3.1.* spec for better support.\n"
     ]
    },
    {
     "name": "stdout",
     "output_type": "stream",
     "text": [
      "467 paperchat  success\n"
     ]
    },
    {
     "name": "stderr",
     "output_type": "stream",
     "text": [
      "Attempting to load an OpenAPI 3.0.0 spec.  This may result in degraded performance. Convert your OpenAPI spec to 3.1.* spec for better support.\n"
     ]
    },
    {
     "name": "stdout",
     "output_type": "stream",
     "text": [
      "468 passiveDNS  success\n"
     ]
    },
    {
     "name": "stderr",
     "output_type": "stream",
     "text": [
      "Attempting to load an OpenAPI 3.0.1 spec.  This may result in degraded performance. Convert your OpenAPI spec to 3.1.* spec for better support.\n"
     ]
    },
    {
     "name": "stdout",
     "output_type": "stream",
     "text": [
      "469 paxiai  success\n",
      "470 penrose_research_analyst Error: 503 Server Error: Service Unavailable for url: https://www.aperiodic.io/.well-known/ai-plugin.json\n"
     ]
    },
    {
     "name": "stderr",
     "output_type": "stream",
     "text": [
      "Attempting to load an OpenAPI 3.0.1 spec.  This may result in degraded performance. Convert your OpenAPI spec to 3.1.* spec for better support.\n"
     ]
    },
    {
     "name": "stdout",
     "output_type": "stream",
     "text": [
      "471 perfect_chirp  success\n",
      "472 ph_ai_news_query Error: 403 Client Error: Site Disabled for url: https://ph-api-prototype.azurewebsites.net/.well-known/ai-plugin.json\n"
     ]
    },
    {
     "name": "stderr",
     "output_type": "stream",
     "text": [
      "Attempting to load an OpenAPI 3.0.1 spec.  This may result in degraded performance. Convert your OpenAPI spec to 3.1.* spec for better support.\n"
     ]
    },
    {
     "name": "stdout",
     "output_type": "stream",
     "text": [
      "473 photorealistic  success\n"
     ]
    },
    {
     "name": "stderr",
     "output_type": "stream",
     "text": [
      "Attempting to load an OpenAPI 3.0.2 spec.  This may result in degraded performance. Convert your OpenAPI spec to 3.1.* spec for better support.\n"
     ]
    },
    {
     "name": "stdout",
     "output_type": "stream",
     "text": [
      "474 placid  success\n",
      "475 plooral  success\n"
     ]
    },
    {
     "name": "stderr",
     "output_type": "stream",
     "text": [
      "Attempting to load an OpenAPI 3.0.1 spec.  This may result in degraded performance. Convert your OpenAPI spec to 3.1.* spec for better support.\n"
     ]
    },
    {
     "name": "stdout",
     "output_type": "stream",
     "text": [
      "476 podcastSearch  success\n"
     ]
    },
    {
     "name": "stderr",
     "output_type": "stream",
     "text": [
      "Attempting to load an OpenAPI 3.0.2 spec.  This may result in degraded performance. Convert your OpenAPI spec to 3.1.* spec for better support.\n"
     ]
    },
    {
     "name": "stdout",
     "output_type": "stream",
     "text": [
      "477 polarr  success\n"
     ]
    },
    {
     "name": "stderr",
     "output_type": "stream",
     "text": [
      "Attempting to load an OpenAPI 3.0.2 spec.  This may result in degraded performance. Convert your OpenAPI spec to 3.1.* spec for better support.\n"
     ]
    },
    {
     "name": "stdout",
     "output_type": "stream",
     "text": [
      "478 pollthepeople  success\n"
     ]
    },
    {
     "name": "stderr",
     "output_type": "stream",
     "text": [
      "Attempting to load an OpenAPI 3.0.3 spec.  This may result in degraded performance. Convert your OpenAPI spec to 3.1.* spec for better support.\n"
     ]
    },
    {
     "name": "stdout",
     "output_type": "stream",
     "text": [
      "479 polygon Error: Unsupported type: None\n",
      "Processing plugin 480 of 609\n"
     ]
    },
    {
     "name": "stderr",
     "output_type": "stream",
     "text": [
      "Attempting to load an OpenAPI 3.0.1 spec.  This may result in degraded performance. Convert your OpenAPI spec to 3.1.* spec for better support.\n",
      "Attempting to load an OpenAPI 3.0.1 spec.  This may result in degraded performance. Convert your OpenAPI spec to 3.1.* spec for better support.\n"
     ]
    },
    {
     "name": "stdout",
     "output_type": "stream",
     "text": [
      "480 portfoliopilot  success\n"
     ]
    },
    {
     "name": "stderr",
     "output_type": "stream",
     "text": [
      "Attempting to load an OpenAPI 3.0.1 spec.  This may result in degraded performance. Convert your OpenAPI spec to 3.1.* spec for better support.\n"
     ]
    },
    {
     "name": "stdout",
     "output_type": "stream",
     "text": [
      "481 prayer_times  success\n"
     ]
    },
    {
     "name": "stderr",
     "output_type": "stream",
     "text": [
      "Attempting to load an OpenAPI 3.0.1 spec.  This may result in degraded performance. Convert your OpenAPI spec to 3.1.* spec for better support.\n",
      "Attempting to load an OpenAPI 3.0.1 spec.  This may result in degraded performance. Convert your OpenAPI spec to 3.1.* spec for better support.\n"
     ]
    },
    {
     "name": "stdout",
     "output_type": "stream",
     "text": [
      "482 product_recommendation  success\n"
     ]
    },
    {
     "name": "stderr",
     "output_type": "stream",
     "text": [
      "Attempting to load an OpenAPI 3.0.2 spec.  This may result in degraded performance. Convert your OpenAPI spec to 3.1.* spec for better support.\n"
     ]
    },
    {
     "name": "stdout",
     "output_type": "stream",
     "text": [
      "483 ptcg_price_research  success\n",
      "484 qe_val Error: HTTPSConnectionPool(host='openai-chat-plugin.welocalize.com', port=443): Max retries exceeded with url: /.well-known/ai-plugin.json (Caused by ConnectTimeoutError(<urllib3.connection.HTTPSConnection object at 0x000002144DFCA5F0>, 'Connection to openai-chat-plugin.welocalize.com timed out. (connect timeout=None)'))\n"
     ]
    },
    {
     "name": "stderr",
     "output_type": "stream",
     "text": [
      "Attempting to load an OpenAPI 3.0.1 spec.  This may result in degraded performance. Convert your OpenAPI spec to 3.1.* spec for better support.\n"
     ]
    },
    {
     "name": "stdout",
     "output_type": "stream",
     "text": [
      "485 qrCodes  success\n"
     ]
    },
    {
     "name": "stderr",
     "output_type": "stream",
     "text": [
      "Attempting to load an OpenAPI 3.0.1 spec.  This may result in degraded performance. Convert your OpenAPI spec to 3.1.* spec for better support.\n"
     ]
    },
    {
     "name": "stdout",
     "output_type": "stream",
     "text": [
      "486 qreator  success\n"
     ]
    },
    {
     "name": "stderr",
     "output_type": "stream",
     "text": [
      "Attempting to load an OpenAPI 3.0.0 spec.  This may result in degraded performance. Convert your OpenAPI spec to 3.1.* spec for better support.\n"
     ]
    },
    {
     "name": "stdout",
     "output_type": "stream",
     "text": [
      "487 quantumKemChecker  success\n"
     ]
    },
    {
     "name": "stderr",
     "output_type": "stream",
     "text": [
      "Attempting to load an OpenAPI 3.0.1 spec.  This may result in degraded performance. Convert your OpenAPI spec to 3.1.* spec for better support.\n"
     ]
    },
    {
     "name": "stdout",
     "output_type": "stream",
     "text": [
      "488 questmate  success\n"
     ]
    },
    {
     "name": "stderr",
     "output_type": "stream",
     "text": [
      "Attempting to load an OpenAPI 3.0.1 spec.  This may result in degraded performance. Convert your OpenAPI spec to 3.1.* spec for better support.\n",
      "Attempting to load an OpenAPI 3.0.2 spec.  This may result in degraded performance. Convert your OpenAPI spec to 3.1.* spec for better support.\n"
     ]
    },
    {
     "name": "stdout",
     "output_type": "stream",
     "text": [
      "489 quickrecall  success\n",
      "490 recipe_retrieval  success\n"
     ]
    },
    {
     "name": "stderr",
     "output_type": "stream",
     "text": [
      "Attempting to load an OpenAPI 3.0.2 spec.  This may result in degraded performance. Convert your OpenAPI spec to 3.1.* spec for better support.\n"
     ]
    },
    {
     "name": "stdout",
     "output_type": "stream",
     "text": [
      "491 reflect_notes  success\n"
     ]
    },
    {
     "name": "stderr",
     "output_type": "stream",
     "text": [
      "Attempting to load an OpenAPI 3.0.1 spec.  This may result in degraded performance. Convert your OpenAPI spec to 3.1.* spec for better support.\n",
      "Attempting to load an OpenAPI 3.0.1 spec.  This may result in degraded performance. Convert your OpenAPI spec to 3.1.* spec for better support.\n"
     ]
    },
    {
     "name": "stdout",
     "output_type": "stream",
     "text": [
      "492 reminders  success\n",
      "493 rentable_apartments Error: 403 Client Error: Forbidden for url: https://www.rentable.co/.well-known/ai-plugin.json\n"
     ]
    },
    {
     "name": "stderr",
     "output_type": "stream",
     "text": [
      "Attempting to load an OpenAPI 3.0.1 spec.  This may result in degraded performance. Convert your OpenAPI spec to 3.1.* spec for better support.\n"
     ]
    },
    {
     "name": "stdout",
     "output_type": "stream",
     "text": [
      "494 rephrase  success\n"
     ]
    },
    {
     "name": "stderr",
     "output_type": "stream",
     "text": [
      "Attempting to load an OpenAPI 3.0.1 spec.  This may result in degraded performance. Convert your OpenAPI spec to 3.1.* spec for better support.\n"
     ]
    },
    {
     "name": "stdout",
     "output_type": "stream",
     "text": [
      "495 repo_inspector  success\n"
     ]
    },
    {
     "name": "stderr",
     "output_type": "stream",
     "text": [
      "Attempting to load an OpenAPI 3.0.0 spec.  This may result in degraded performance. Convert your OpenAPI spec to 3.1.* spec for better support.\n"
     ]
    },
    {
     "name": "stdout",
     "output_type": "stream",
     "text": [
      "496 repo_radar  success\n"
     ]
    },
    {
     "name": "stderr",
     "output_type": "stream",
     "text": [
      "Attempting to load an OpenAPI 3.0.2 spec.  This may result in degraded performance. Convert your OpenAPI spec to 3.1.* spec for better support.\n"
     ]
    },
    {
     "name": "stdout",
     "output_type": "stream",
     "text": [
      "497 researchbyvector  success\n"
     ]
    },
    {
     "name": "stderr",
     "output_type": "stream",
     "text": [
      "Attempting to load an OpenAPI 3.0.0 spec.  This may result in degraded performance. Convert your OpenAPI spec to 3.1.* spec for better support.\n"
     ]
    },
    {
     "name": "stdout",
     "output_type": "stream",
     "text": [
      "498 resume  success\n",
      "499 reviewreader Error: 403 Client Error: Forbidden for url: https://reviewreader.gngn.at/.well-known/ai-plugin.json\n",
      "Processing plugin 500 of 609\n",
      "500 sakenowa Error: 404 Client Error: Not Found for url: https://sakenowa.com/.well-known/ai-plugin.json\n"
     ]
    },
    {
     "name": "stderr",
     "output_type": "stream",
     "text": [
      "Attempting to load an OpenAPI 3.0.0 spec.  This may result in degraded performance. Convert your OpenAPI spec to 3.1.* spec for better support.\n"
     ]
    },
    {
     "name": "stdout",
     "output_type": "stream",
     "text": [
      "501 save  success\n"
     ]
    },
    {
     "name": "stderr",
     "output_type": "stream",
     "text": [
      "Attempting to load an OpenAPI 3.0.1 spec.  This may result in degraded performance. Convert your OpenAPI spec to 3.1.* spec for better support.\n"
     ]
    },
    {
     "name": "stdout",
     "output_type": "stream",
     "text": [
      "502 savvy_trader_ai  success\n"
     ]
    },
    {
     "name": "stderr",
     "output_type": "stream",
     "text": [
      "Attempting to load an OpenAPI 3.0.2 spec.  This may result in degraded performance. Convert your OpenAPI spec to 3.1.* spec for better support.\n"
     ]
    },
    {
     "name": "stdout",
     "output_type": "stream",
     "text": [
      "503 scholar_assist  success\n"
     ]
    },
    {
     "name": "stderr",
     "output_type": "stream",
     "text": [
      "Attempting to load an OpenAPI 3.0.1 spec.  This may result in degraded performance. Convert your OpenAPI spec to 3.1.* spec for better support.\n"
     ]
    },
    {
     "name": "stdout",
     "output_type": "stream",
     "text": [
      "504 scholarai  success\n",
      "505 scholarly  success\n",
      "506 science Error: Unable to parse spec from source /ai/openapi.yaml\n"
     ]
    },
    {
     "name": "stderr",
     "output_type": "stream",
     "text": [
      "Attempting to load an OpenAPI 3.0.1 spec.  This may result in degraded performance. Convert your OpenAPI spec to 3.1.* spec for better support.\n"
     ]
    },
    {
     "name": "stdout",
     "output_type": "stream",
     "text": [
      "507 search  success\n",
      "508 seatsaero Error: 403 Client Error: Forbidden for url: https://seats.aero/.well-known/ai-plugin.json\n"
     ]
    },
    {
     "name": "stderr",
     "output_type": "stream",
     "text": [
      "Attempting to load an OpenAPI 3.0.1 spec.  This may result in degraded performance. Convert your OpenAPI spec to 3.1.* spec for better support.\n"
     ]
    },
    {
     "name": "stdout",
     "output_type": "stream",
     "text": [
      "509 seo_assistant  success\n"
     ]
    },
    {
     "name": "stderr",
     "output_type": "stream",
     "text": [
      "Attempting to load an OpenAPI 3.0.0 spec.  This may result in degraded performance. Convert your OpenAPI spec to 3.1.* spec for better support.\n",
      "Attempting to load an OpenAPI 3.0.1 spec.  This may result in degraded performance. Convert your OpenAPI spec to 3.1.* spec for better support.\n"
     ]
    },
    {
     "name": "stdout",
     "output_type": "stream",
     "text": [
      "510 seoanalysis  success\n",
      "511 serpstat_seo_tool  success\n"
     ]
    },
    {
     "name": "stderr",
     "output_type": "stream",
     "text": [
      "Attempting to load an OpenAPI 3.0.1 spec.  This may result in degraded performance. Convert your OpenAPI spec to 3.1.* spec for better support.\n"
     ]
    },
    {
     "name": "stdout",
     "output_type": "stream",
     "text": [
      "512 serviceCheck  success\n",
      "513 shimmer_calorie_counter Error: Unable to parse spec from source https://shimmer.ooo/openapi.yaml\n"
     ]
    },
    {
     "name": "stderr",
     "output_type": "stream",
     "text": [
      "Attempting to load an OpenAPI 3.0.1 spec.  This may result in degraded performance. Convert your OpenAPI spec to 3.1.* spec for better support.\n"
     ]
    },
    {
     "name": "stdout",
     "output_type": "stream",
     "text": [
      "514 shimmer_daily  success\n"
     ]
    },
    {
     "name": "stderr",
     "output_type": "stream",
     "text": [
      "Attempting to load an OpenAPI 3.0.1 spec.  This may result in degraded performance. Convert your OpenAPI spec to 3.1.* spec for better support.\n"
     ]
    },
    {
     "name": "stdout",
     "output_type": "stream",
     "text": [
      "515 shopbest  success\n"
     ]
    },
    {
     "name": "stderr",
     "output_type": "stream",
     "text": [
      "Attempting to load an OpenAPI 3.0.2 spec.  This may result in degraded performance. Convert your OpenAPI spec to 3.1.* spec for better support.\n"
     ]
    },
    {
     "name": "stdout",
     "output_type": "stream",
     "text": [
      "516 show_me_diagrams  success\n"
     ]
    },
    {
     "name": "stderr",
     "output_type": "stream",
     "text": [
      "Attempting to load an OpenAPI 3.0.1 spec.  This may result in degraded performance. Convert your OpenAPI spec to 3.1.* spec for better support.\n"
     ]
    },
    {
     "name": "stdout",
     "output_type": "stream",
     "text": [
      "517 shownotes  success\n",
      "518 shuto Error: Unable to parse spec from source https://shuto.io/openapi.yaml\n"
     ]
    },
    {
     "name": "stderr",
     "output_type": "stream",
     "text": [
      "Attempting to load an OpenAPI 3.0.2 spec.  This may result in degraded performance. Convert your OpenAPI spec to 3.1.* spec for better support.\n"
     ]
    },
    {
     "name": "stdout",
     "output_type": "stream",
     "text": [
      "519 sic  success\n",
      "Processing plugin 520 of 609\n"
     ]
    },
    {
     "name": "stderr",
     "output_type": "stream",
     "text": [
      "Attempting to load an OpenAPI 3.0.2 spec.  This may result in degraded performance. Convert your OpenAPI spec to 3.1.* spec for better support.\n"
     ]
    },
    {
     "name": "stdout",
     "output_type": "stream",
     "text": [
      "520 sixtysecsite  success\n"
     ]
    },
    {
     "name": "stderr",
     "output_type": "stream",
     "text": [
      "Attempting to load an OpenAPI 3.0.1 spec.  This may result in degraded performance. Convert your OpenAPI spec to 3.1.* spec for better support.\n"
     ]
    },
    {
     "name": "stdout",
     "output_type": "stream",
     "text": [
      "521 sleek_choice  success\n",
      "522 smart_connections Error: Unable to parse spec from source https://sync.smartconnections.app/openapi.yaml\n"
     ]
    },
    {
     "name": "stderr",
     "output_type": "stream",
     "text": [
      "Attempting to load an OpenAPI 3.0.1 spec.  This may result in degraded performance. Convert your OpenAPI spec to 3.1.* spec for better support.\n"
     ]
    },
    {
     "name": "stdout",
     "output_type": "stream",
     "text": [
      "523 smarter_contracts  success\n"
     ]
    },
    {
     "name": "stderr",
     "output_type": "stream",
     "text": [
      "Attempting to load an OpenAPI 3.0.1 spec.  This may result in degraded performance. Convert your OpenAPI spec to 3.1.* spec for better support.\n"
     ]
    },
    {
     "name": "stdout",
     "output_type": "stream",
     "text": [
      "524 smarttsicketsai  success\n"
     ]
    },
    {
     "name": "stderr",
     "output_type": "stream",
     "text": [
      "Attempting to load an OpenAPI 3.0.1 spec.  This may result in degraded performance. Convert your OpenAPI spec to 3.1.* spec for better support.\n"
     ]
    },
    {
     "name": "stdout",
     "output_type": "stream",
     "text": [
      "525 socialsearch  success\n",
      "526 spacedata Error: 502 Server Error: Bad Gateway for url: https://nasaplugin.narhasweet.repl.co/.well-known/ai-plugin.json\n"
     ]
    },
    {
     "name": "stderr",
     "output_type": "stream",
     "text": [
      "Attempting to load an OpenAPI 3.0.1 spec.  This may result in degraded performance. Convert your OpenAPI spec to 3.1.* spec for better support.\n",
      "Attempting to load an OpenAPI 3.0.1 spec.  This may result in degraded performance. Convert your OpenAPI spec to 3.1.* spec for better support.\n"
     ]
    },
    {
     "name": "stdout",
     "output_type": "stream",
     "text": [
      "527 speak  success\n"
     ]
    },
    {
     "name": "stderr",
     "output_type": "stream",
     "text": [
      "Attempting to load an OpenAPI 3.0.1 spec.  This may result in degraded performance. Convert your OpenAPI spec to 3.1.* spec for better support.\n"
     ]
    },
    {
     "name": "stdout",
     "output_type": "stream",
     "text": [
      "528 speechki_tts_plugin  success\n"
     ]
    },
    {
     "name": "stderr",
     "output_type": "stream",
     "text": [
      "Attempting to load an OpenAPI 3.0.0 spec.  This may result in degraded performance. Convert your OpenAPI spec to 3.1.* spec for better support.\n"
     ]
    },
    {
     "name": "stdout",
     "output_type": "stream",
     "text": [
      "529 speedy_marketing  success\n"
     ]
    },
    {
     "name": "stderr",
     "output_type": "stream",
     "text": [
      "Attempting to load an OpenAPI 3.0.0 spec.  This may result in degraded performance. Convert your OpenAPI spec to 3.1.* spec for better support.\n"
     ]
    },
    {
     "name": "stdout",
     "output_type": "stream",
     "text": [
      "530 stackoverflow_plus  success\n"
     ]
    },
    {
     "name": "stderr",
     "output_type": "stream",
     "text": [
      "Attempting to load an OpenAPI 3.0.1 spec.  This may result in degraded performance. Convert your OpenAPI spec to 3.1.* spec for better support.\n"
     ]
    },
    {
     "name": "stdout",
     "output_type": "stream",
     "text": [
      "531 statisfinapp  success\n"
     ]
    },
    {
     "name": "stderr",
     "output_type": "stream",
     "text": [
      "Attempting to load an OpenAPI 3.0.1 spec.  This may result in degraded performance. Convert your OpenAPI spec to 3.1.* spec for better support.\n"
     ]
    },
    {
     "name": "stdout",
     "output_type": "stream",
     "text": [
      "533 stellarexplorer  success\n"
     ]
    },
    {
     "name": "stderr",
     "output_type": "stream",
     "text": [
      "Attempting to load an OpenAPI 3.0.2 spec.  This may result in degraded performance. Convert your OpenAPI spec to 3.1.* spec for better support.\n"
     ]
    },
    {
     "name": "stdout",
     "output_type": "stream",
     "text": [
      "534 stoic  success\n"
     ]
    },
    {
     "name": "stderr",
     "output_type": "stream",
     "text": [
      "Attempting to load an OpenAPI 3.0.1 spec.  This may result in degraded performance. Convert your OpenAPI spec to 3.1.* spec for better support.\n",
      "Attempting to load an OpenAPI 3.0.1 spec.  This may result in degraded performance. Convert your OpenAPI spec to 3.1.* spec for better support.\n"
     ]
    },
    {
     "name": "stdout",
     "output_type": "stream",
     "text": [
      "535 storybird_stories  success\n",
      "536 strology  success\n"
     ]
    },
    {
     "name": "stderr",
     "output_type": "stream",
     "text": [
      "Attempting to load an OpenAPI 3.0.2 spec.  This may result in degraded performance. Convert your OpenAPI spec to 3.1.* spec for better support.\n"
     ]
    },
    {
     "name": "stdout",
     "output_type": "stream",
     "text": [
      "537 stylist  success\n"
     ]
    },
    {
     "name": "stderr",
     "output_type": "stream",
     "text": [
      "Attempting to load an OpenAPI 3.0.1 spec.  This may result in degraded performance. Convert your OpenAPI spec to 3.1.* spec for better support.\n"
     ]
    },
    {
     "name": "stdout",
     "output_type": "stream",
     "text": [
      "538 surge_ai_trends  success\n"
     ]
    },
    {
     "name": "stderr",
     "output_type": "stream",
     "text": [
      "Attempting to load an OpenAPI 3.0.1 spec.  This may result in degraded performance. Convert your OpenAPI spec to 3.1.* spec for better support.\n"
     ]
    },
    {
     "name": "stdout",
     "output_type": "stream",
     "text": [
      "539 tailor_erp  success\n",
      "Processing plugin 540 of 609\n"
     ]
    },
    {
     "name": "stderr",
     "output_type": "stream",
     "text": [
      "Attempting to load an OpenAPI 3.0.2 spec.  This may result in degraded performance. Convert your OpenAPI spec to 3.1.* spec for better support.\n"
     ]
    },
    {
     "name": "stdout",
     "output_type": "stream",
     "text": [
      "540 talkfpl  success\n"
     ]
    },
    {
     "name": "stderr",
     "output_type": "stream",
     "text": [
      "Attempting to load an OpenAPI 3.0.1 spec.  This may result in degraded performance. Convert your OpenAPI spec to 3.1.* spec for better support.\n"
     ]
    },
    {
     "name": "stdout",
     "output_type": "stream",
     "text": [
      "541 talkwithdocs  success\n",
      "542 task Error: Unable to parse spec from source /chatgpt/openapi.yaml\n"
     ]
    },
    {
     "name": "stderr",
     "output_type": "stream",
     "text": [
      "Attempting to load an OpenAPI 3.0.1 spec.  This may result in degraded performance. Convert your OpenAPI spec to 3.1.* spec for better support.\n"
     ]
    },
    {
     "name": "stdout",
     "output_type": "stream",
     "text": [
      "543 themeparkhipster  success\n",
      "544 theresanaiforthat Error: 403 Client Error: Forbidden for url: https://theresanaiforthat.com/.well-known/ai-plugin.json\n"
     ]
    },
    {
     "name": "stderr",
     "output_type": "stream",
     "text": [
      "Attempting to load an OpenAPI 3.0.0 spec.  This may result in degraded performance. Convert your OpenAPI spec to 3.1.* spec for better support.\n"
     ]
    },
    {
     "name": "stdout",
     "output_type": "stream",
     "text": [
      "545 three_sentence_service  success\n"
     ]
    },
    {
     "name": "stderr",
     "output_type": "stream",
     "text": [
      "Attempting to load an OpenAPI 3.0.2 spec.  This may result in degraded performance. Convert your OpenAPI spec to 3.1.* spec for better support.\n"
     ]
    },
    {
     "name": "stdout",
     "output_type": "stream",
     "text": [
      "546 timemachine  success\n"
     ]
    },
    {
     "name": "stderr",
     "output_type": "stream",
     "text": [
      "Attempting to load an OpenAPI 3.0.0 spec.  This may result in degraded performance. Convert your OpenAPI spec to 3.1.* spec for better support.\n",
      "Attempting to load an OpenAPI 3.0.0 spec.  This may result in degraded performance. Convert your OpenAPI spec to 3.1.* spec for better support.\n"
     ]
    },
    {
     "name": "stdout",
     "output_type": "stream",
     "text": [
      "547 timenavi  success\n"
     ]
    },
    {
     "name": "stderr",
     "output_type": "stream",
     "text": [
      "Attempting to load an OpenAPI 3.0.1 spec.  This may result in degraded performance. Convert your OpenAPI spec to 3.1.* spec for better support.\n"
     ]
    },
    {
     "name": "stdout",
     "output_type": "stream",
     "text": [
      "548 timeport  success\n"
     ]
    },
    {
     "name": "stderr",
     "output_type": "stream",
     "text": [
      "Attempting to load an OpenAPI 3.0.1 spec.  This may result in degraded performance. Convert your OpenAPI spec to 3.1.* spec for better support.\n"
     ]
    },
    {
     "name": "stdout",
     "output_type": "stream",
     "text": [
      "549 tira  success\n"
     ]
    },
    {
     "name": "stderr",
     "output_type": "stream",
     "text": [
      "Attempting to load an OpenAPI 3.0.1 spec.  This may result in degraded performance. Convert your OpenAPI spec to 3.1.* spec for better support.\n"
     ]
    },
    {
     "name": "stdout",
     "output_type": "stream",
     "text": [
      "550 tmRecommender  success\n"
     ]
    },
    {
     "name": "stderr",
     "output_type": "stream",
     "text": [
      "Attempting to load an OpenAPI 3.0.2 spec.  This may result in degraded performance. Convert your OpenAPI spec to 3.1.* spec for better support.\n"
     ]
    },
    {
     "name": "stdout",
     "output_type": "stream",
     "text": [
      "551 tombradybot  success\n"
     ]
    },
    {
     "name": "stderr",
     "output_type": "stream",
     "text": [
      "Attempting to load an OpenAPI 3.0.1 spec.  This may result in degraded performance. Convert your OpenAPI spec to 3.1.* spec for better support.\n"
     ]
    },
    {
     "name": "stdout",
     "output_type": "stream",
     "text": [
      "552 toolblox  success\n"
     ]
    },
    {
     "name": "stderr",
     "output_type": "stream",
     "text": [
      "Attempting to load an OpenAPI 3.0.1 spec.  This may result in degraded performance. Convert your OpenAPI spec to 3.1.* spec for better support.\n"
     ]
    },
    {
     "name": "stdout",
     "output_type": "stream",
     "text": [
      "553 tophap  success\n"
     ]
    },
    {
     "name": "stderr",
     "output_type": "stream",
     "text": [
      "Attempting to load an OpenAPI 3.0.0 spec.  This may result in degraded performance. Convert your OpenAPI spec to 3.1.* spec for better support.\n"
     ]
    },
    {
     "name": "stdout",
     "output_type": "stream",
     "text": [
      "554 total_query_meta_search_engine  success\n"
     ]
    },
    {
     "name": "stderr",
     "output_type": "stream",
     "text": [
      "Attempting to load an OpenAPI 3.0.1 spec.  This may result in degraded performance. Convert your OpenAPI spec to 3.1.* spec for better support.\n"
     ]
    },
    {
     "name": "stdout",
     "output_type": "stream",
     "text": [
      "555 tradersinsight  success\n"
     ]
    },
    {
     "name": "stderr",
     "output_type": "stream",
     "text": [
      "Attempting to load an OpenAPI 3.0.1 spec.  This may result in degraded performance. Convert your OpenAPI spec to 3.1.* spec for better support.\n"
     ]
    },
    {
     "name": "stdout",
     "output_type": "stream",
     "text": [
      "556 travelActivityHotel  success\n"
     ]
    },
    {
     "name": "stderr",
     "output_type": "stream",
     "text": [
      "Attempting to load an OpenAPI 3.0.1 spec.  This may result in degraded performance. Convert your OpenAPI spec to 3.1.* spec for better support.\n",
      "Attempting to load an OpenAPI 3.0.1 spec.  This may result in degraded performance. Convert your OpenAPI spec to 3.1.* spec for better support.\n"
     ]
    },
    {
     "name": "stdout",
     "output_type": "stream",
     "text": [
      "557 travelmyth  success\n",
      "558 trending_music  success\n",
      "559 turing_developer_search  success\n",
      "Processing plugin 560 of 609\n",
      "560 turo_search Error: 403 Client Error: Forbidden for url: https://turo.com/.well-known/ai-plugin.json\n",
      "561 tutory Error: 403 Client Error: Forbidden for url: https://plugin-dtwewgpm2a-uc.a.run.app/.well-known/ai-plugin.json\n"
     ]
    },
    {
     "name": "stderr",
     "output_type": "stream",
     "text": [
      "Attempting to load an OpenAPI 3.0.1 spec.  This may result in degraded performance. Convert your OpenAPI spec to 3.1.* spec for better support.\n"
     ]
    },
    {
     "name": "stdout",
     "output_type": "stream",
     "text": [
      "562 twtData  success\n"
     ]
    },
    {
     "name": "stderr",
     "output_type": "stream",
     "text": [
      "Attempting to load an OpenAPI 3.0.2 spec.  This may result in degraded performance. Convert your OpenAPI spec to 3.1.* spec for better support.\n"
     ]
    },
    {
     "name": "stdout",
     "output_type": "stream",
     "text": [
      "563 txyz Error: No schema found for ChatHistory\n"
     ]
    },
    {
     "name": "stderr",
     "output_type": "stream",
     "text": [
      "Attempting to load an OpenAPI 3.0.1 spec.  This may result in degraded performance. Convert your OpenAPI spec to 3.1.* spec for better support.\n"
     ]
    },
    {
     "name": "stdout",
     "output_type": "stream",
     "text": [
      "564 uberchord  success\n"
     ]
    },
    {
     "name": "stderr",
     "output_type": "stream",
     "text": [
      "Attempting to load an OpenAPI 3.0.3 spec.  This may result in degraded performance. Convert your OpenAPI spec to 3.1.* spec for better support.\n"
     ]
    },
    {
     "name": "stdout",
     "output_type": "stream",
     "text": [
      "565 uk_latest_news  success\n"
     ]
    },
    {
     "name": "stderr",
     "output_type": "stream",
     "text": [
      "Attempting to load an OpenAPI 3.0.3 spec.  This may result in degraded performance. Convert your OpenAPI spec to 3.1.* spec for better support.\n",
      "Attempting to load an OpenAPI 3.0.3 spec.  This may result in degraded performance. Convert your OpenAPI spec to 3.1.* spec for better support.\n"
     ]
    },
    {
     "name": "stdout",
     "output_type": "stream",
     "text": [
      "566 uk_politics  success\n"
     ]
    },
    {
     "name": "stderr",
     "output_type": "stream",
     "text": [
      "Attempting to load an OpenAPI 3.0.1 spec.  This may result in degraded performance. Convert your OpenAPI spec to 3.1.* spec for better support.\n"
     ]
    },
    {
     "name": "stdout",
     "output_type": "stream",
     "text": [
      "567 uniket  success\n"
     ]
    },
    {
     "name": "stderr",
     "output_type": "stream",
     "text": [
      "Attempting to load an OpenAPI 3.0.2 spec.  This may result in degraded performance. Convert your OpenAPI spec to 3.1.* spec for better support.\n"
     ]
    },
    {
     "name": "stdout",
     "output_type": "stream",
     "text": [
      "569 university_lecture_retrieval  success\n"
     ]
    },
    {
     "name": "stderr",
     "output_type": "stream",
     "text": [
      "Attempting to load an OpenAPI 3.0.3 spec.  This may result in degraded performance. Convert your OpenAPI spec to 3.1.* spec for better support.\n"
     ]
    },
    {
     "name": "stdout",
     "output_type": "stream",
     "text": [
      "570 upskillr  success\n"
     ]
    },
    {
     "name": "stderr",
     "output_type": "stream",
     "text": [
      "Attempting to load an OpenAPI 3.0.1 spec.  This may result in degraded performance. Convert your OpenAPI spec to 3.1.* spec for better support.\n"
     ]
    },
    {
     "name": "stdout",
     "output_type": "stream",
     "text": [
      "571 urban_com_au  success\n",
      "572 vafl Error: 403 Client Error: Forbidden for url: https://vafl.me/.well-known/ai-plugin.json\n"
     ]
    },
    {
     "name": "stderr",
     "output_type": "stream",
     "text": [
      "Attempting to load an OpenAPI 3.0.1 spec.  This may result in degraded performance. Convert your OpenAPI spec to 3.1.* spec for better support.\n"
     ]
    },
    {
     "name": "stdout",
     "output_type": "stream",
     "text": [
      "573 video_highlight  success\n"
     ]
    },
    {
     "name": "stderr",
     "output_type": "stream",
     "text": [
      "Attempting to load an OpenAPI 3.0.1 spec.  This may result in degraded performance. Convert your OpenAPI spec to 3.1.* spec for better support.\n"
     ]
    },
    {
     "name": "stdout",
     "output_type": "stream",
     "text": [
      "575 video_insights_io  success\n"
     ]
    },
    {
     "name": "stderr",
     "output_type": "stream",
     "text": [
      "Attempting to load an OpenAPI 3.0.2 spec.  This may result in degraded performance. Convert your OpenAPI spec to 3.1.* spec for better support.\n"
     ]
    },
    {
     "name": "stdout",
     "output_type": "stream",
     "text": [
      "576 vidiq_youtube_research  success\n"
     ]
    },
    {
     "name": "stderr",
     "output_type": "stream",
     "text": [
      "Attempting to load an OpenAPI 3.0.1 spec.  This may result in degraded performance. Convert your OpenAPI spec to 3.1.* spec for better support.\n"
     ]
    },
    {
     "name": "stdout",
     "output_type": "stream",
     "text": [
      "577 vio_com  success\n"
     ]
    },
    {
     "name": "stderr",
     "output_type": "stream",
     "text": [
      "Attempting to load an OpenAPI 3.0.2 spec.  This may result in degraded performance. Convert your OpenAPI spec to 3.1.* spec for better support.\n"
     ]
    },
    {
     "name": "stdout",
     "output_type": "stream",
     "text": [
      "578 vivian  success\n",
      "579 vivid_seats Error: 403 Client Error: Forbidden for url: https://chatgpt-plugin-api.vividseats.com/.well-known/ai-plugin.json\n",
      "Processing plugin 580 of 609\n",
      "580 voiceover  success\n"
     ]
    },
    {
     "name": "stderr",
     "output_type": "stream",
     "text": [
      "Attempting to load an OpenAPI 3.0.1 spec.  This may result in degraded performance. Convert your OpenAPI spec to 3.1.* spec for better support.\n"
     ]
    },
    {
     "name": "stdout",
     "output_type": "stream",
     "text": [
      "581 wahi  success\n"
     ]
    },
    {
     "name": "stderr",
     "output_type": "stream",
     "text": [
      "Attempting to load an OpenAPI 3.0.1 spec.  This may result in degraded performance. Convert your OpenAPI spec to 3.1.* spec for better support.\n"
     ]
    },
    {
     "name": "stdout",
     "output_type": "stream",
     "text": [
      "582 wanted_job_search  success\n"
     ]
    },
    {
     "name": "stderr",
     "output_type": "stream",
     "text": [
      "Attempting to load an OpenAPI 3.0.2 spec.  This may result in degraded performance. Convert your OpenAPI spec to 3.1.* spec for better support.\n"
     ]
    },
    {
     "name": "stdout",
     "output_type": "stream",
     "text": [
      "583 water_tracker  success\n"
     ]
    },
    {
     "name": "stderr",
     "output_type": "stream",
     "text": [
      "Attempting to load an OpenAPI 3.0.0 spec.  This may result in degraded performance. Convert your OpenAPI spec to 3.1.* spec for better support.\n"
     ]
    },
    {
     "name": "stdout",
     "output_type": "stream",
     "text": [
      "584 weather  success\n"
     ]
    },
    {
     "name": "stderr",
     "output_type": "stream",
     "text": [
      "Attempting to load an OpenAPI 3.0.2 spec.  This may result in degraded performance. Convert your OpenAPI spec to 3.1.* spec for better support.\n"
     ]
    },
    {
     "name": "stdout",
     "output_type": "stream",
     "text": [
      "585 weather_meteosource  success\n"
     ]
    },
    {
     "name": "stderr",
     "output_type": "stream",
     "text": [
      "Attempting to load an OpenAPI 3.0.1 spec.  This may result in degraded performance. Convert your OpenAPI spec to 3.1.* spec for better support.\n"
     ]
    },
    {
     "name": "stdout",
     "output_type": "stream",
     "text": [
      "586 web5  success\n"
     ]
    },
    {
     "name": "stderr",
     "output_type": "stream",
     "text": [
      "Attempting to load an OpenAPI 3.0.1 spec.  This may result in degraded performance. Convert your OpenAPI spec to 3.1.* spec for better support.\n"
     ]
    },
    {
     "name": "stdout",
     "output_type": "stream",
     "text": [
      "587 web_dev  success\n"
     ]
    },
    {
     "name": "stderr",
     "output_type": "stream",
     "text": [
      "Attempting to load an OpenAPI 3.0.1 spec.  This may result in degraded performance. Convert your OpenAPI spec to 3.1.* spec for better support.\n"
     ]
    },
    {
     "name": "stdout",
     "output_type": "stream",
     "text": [
      "588 web_pilot  success\n"
     ]
    },
    {
     "name": "stderr",
     "output_type": "stream",
     "text": [
      "Attempting to load an OpenAPI 3.0.0 spec.  This may result in degraded performance. Convert your OpenAPI spec to 3.1.* spec for better support.\n"
     ]
    },
    {
     "name": "stdout",
     "output_type": "stream",
     "text": [
      "589 web_requests  success\n",
      "590 web_scraper Error: HTTPSConnectionPool(host='api.gafo.tech', port=443): Max retries exceeded with url: /.well-known/ai-plugin.json (Caused by NameResolutionError(\"<urllib3.connection.HTTPSConnection object at 0x000002144F19E980>: Failed to resolve 'api.gafo.tech' ([Errno 11001] getaddrinfo failed)\"))\n",
      "591 webhooks  success\n",
      "592 website Error: 403 Client Error: Forbidden for url: https://b12.io/.well-known/ai-plugin.json\n"
     ]
    },
    {
     "name": "stderr",
     "output_type": "stream",
     "text": [
      "Attempting to load an OpenAPI 3.0.2 spec.  This may result in degraded performance. Convert your OpenAPI spec to 3.1.* spec for better support.\n"
     ]
    },
    {
     "name": "stdout",
     "output_type": "stream",
     "text": [
      "593 website_performance_insights  success\n"
     ]
    },
    {
     "name": "stderr",
     "output_type": "stream",
     "text": [
      "Attempting to load an OpenAPI 3.0.1 spec.  This may result in degraded performance. Convert your OpenAPI spec to 3.1.* spec for better support.\n"
     ]
    },
    {
     "name": "stdout",
     "output_type": "stream",
     "text": [
      "594 welt_news_verse  success\n",
      "595 what_to_watch  success\n"
     ]
    },
    {
     "name": "stderr",
     "output_type": "stream",
     "text": [
      "Attempting to load an OpenAPI 3.0.0 spec.  This may result in degraded performance. Convert your OpenAPI spec to 3.1.* spec for better support.\n"
     ]
    },
    {
     "name": "stdout",
     "output_type": "stream",
     "text": [
      "596 whimsical  success\n"
     ]
    },
    {
     "name": "stderr",
     "output_type": "stream",
     "text": [
      "Attempting to load an OpenAPI 3.0.1 spec.  This may result in degraded performance. Convert your OpenAPI spec to 3.1.* spec for better support.\n"
     ]
    },
    {
     "name": "stdout",
     "output_type": "stream",
     "text": [
      "597 whois_domain_checker  success\n"
     ]
    },
    {
     "name": "stderr",
     "output_type": "stream",
     "text": [
      "Attempting to load an OpenAPI 3.0.2 spec.  This may result in degraded performance. Convert your OpenAPI spec to 3.1.* spec for better support.\n"
     ]
    },
    {
     "name": "stdout",
     "output_type": "stream",
     "text": [
      "598 wikidocs Error: Unsupported type: None\n"
     ]
    },
    {
     "name": "stderr",
     "output_type": "stream",
     "text": [
      "Attempting to load an OpenAPI 3.0.1 spec.  This may result in degraded performance. Convert your OpenAPI spec to 3.1.* spec for better support.\n"
     ]
    },
    {
     "name": "stdout",
     "output_type": "stream",
     "text": [
      "599 wishbucket  success\n",
      "Processing plugin 600 of 609\n"
     ]
    },
    {
     "name": "stderr",
     "output_type": "stream",
     "text": [
      "Attempting to load an OpenAPI 3.0.1 spec.  This may result in degraded performance. Convert your OpenAPI spec to 3.1.* spec for better support.\n"
     ]
    },
    {
     "name": "stdout",
     "output_type": "stream",
     "text": [
      "600 word_and_character_count  success\n",
      "601 word_counter Error: Unable to parse spec from source /openapi.json\n"
     ]
    },
    {
     "name": "stderr",
     "output_type": "stream",
     "text": [
      "Attempting to load an OpenAPI 3.0.3 spec.  This may result in degraded performance. Convert your OpenAPI spec to 3.1.* spec for better support.\n"
     ]
    },
    {
     "name": "stdout",
     "output_type": "stream",
     "text": [
      "602 word_sneak  success\n"
     ]
    },
    {
     "name": "stderr",
     "output_type": "stream",
     "text": [
      "Attempting to load an OpenAPI 3.0.0 spec.  This may result in degraded performance. Convert your OpenAPI spec to 3.1.* spec for better support.\n"
     ]
    },
    {
     "name": "stdout",
     "output_type": "stream",
     "text": [
      "603 wordly_guess_the_word_game  success\n"
     ]
    },
    {
     "name": "stderr",
     "output_type": "stream",
     "text": [
      "Attempting to load an OpenAPI 3.0.1 spec.  This may result in degraded performance. Convert your OpenAPI spec to 3.1.* spec for better support.\n",
      "Attempting to load an OpenAPI 3.0.1 spec.  This may result in degraded performance. Convert your OpenAPI spec to 3.1.* spec for better support.\n"
     ]
    },
    {
     "name": "stdout",
     "output_type": "stream",
     "text": [
      "604 wordpress_publisher  success\n"
     ]
    },
    {
     "name": "stderr",
     "output_type": "stream",
     "text": [
      "Attempting to load an OpenAPI 3.0.1 spec.  This may result in degraded performance. Convert your OpenAPI spec to 3.1.* spec for better support.\n"
     ]
    },
    {
     "name": "stdout",
     "output_type": "stream",
     "text": [
      "605 worldbankdata  success\n"
     ]
    },
    {
     "name": "stderr",
     "output_type": "stream",
     "text": [
      "Attempting to load an OpenAPI 3.0.1 spec.  This may result in degraded performance. Convert your OpenAPI spec to 3.1.* spec for better support.\n"
     ]
    },
    {
     "name": "stdout",
     "output_type": "stream",
     "text": [
      "606 wpinteract  success\n"
     ]
    },
    {
     "name": "stderr",
     "output_type": "stream",
     "text": [
      "Attempting to load an OpenAPI 3.0.3 spec.  This may result in degraded performance. Convert your OpenAPI spec to 3.1.* spec for better support.\n"
     ]
    },
    {
     "name": "stdout",
     "output_type": "stream",
     "text": [
      "607 yabble  success\n"
     ]
    },
    {
     "name": "stderr",
     "output_type": "stream",
     "text": [
      "Attempting to load an OpenAPI 3.0.1 spec.  This may result in degraded performance. Convert your OpenAPI spec to 3.1.* spec for better support.\n"
     ]
    },
    {
     "name": "stdout",
     "output_type": "stream",
     "text": [
      "608 yt_caption_retriever  success\n",
      "494 whitelisted plugins of out of 609\n",
      "First openplugin info: {\n",
      "  \"auth\": false,\n",
      "  \"blacklisted\": true,\n",
      "  \"description_for_human\": \"Provides fun and educational learning activities for children 2-8 years old.\",\n",
      "  \"description_for_model\": \"Assistant uses the ABCmouse plugin to get relevant learning activity suggestions for any child 2-8 years of age. Assistant will reply with the following 3 paragraphs 1) Activity Search Results [image] and [url] 2) Activity Learning Objectives [description] and [learning_objective] 3) Followup Questions. The first paragraph contains a list of the activities [url] with their learning attributes listed clearly and concisely as bullet points under the product [description], together with a link to the activity [url] and an explanation [learning_objective]. Links will always be returned and should be shown to the user. Assistant suggestions consider only the most important objectives of the activities [description, learning_objective] that will help them fit the users request, and each activity [url] mention is brief, short and concise. In the third paragraph assistant always asks helpful follow-up questions and end with a question mark. When assistant is asking a follow-up question, it uses its learning activity expertise to provide information pertaining to the subject of the user\\u2019s request that may guide them in their search for the right activity.\",\n",
      "  \"domain\": \"ai.abcmouse.com\",\n",
      "  \"image\": \"https://ai.abcmouse.com/logo.png\",\n",
      "  \"namespace\": \"ABCmouse\",\n",
      "  \"openapi_url\": \"https://ai.abcmouse.com/openapi.yml\",\n",
      "  \"status\": \"unsupported\",\n",
      "  \"stimulated\": false,\n",
      "  \"stimulous_prompt\": null,\n",
      "  \"whitelisted\": true\n",
      "}\n"
     ]
    }
   ],
   "source": [
    "# 5. Iterate through `plugins_info` and do the following:\n",
    "openplugin_classes = {}\n",
    "for idx, (namespace, openplugin_info) in enumerate(openplugins_info.items()):\n",
    "    if openplugin_info[\"blacklisted\"]:\n",
    "        continue\n",
    "    if idx < index_break - 2:\n",
    "        continue\n",
    "    with open('log.txt', 'a', encoding='utf-8') as f:\n",
    "        f.write(f\"{idx} {namespace}\\n\")\n",
    "    if idx % 20 == 0:\n",
    "        print(f\"Processing plugin {idx} of {len(openplugins_info)}\")\n",
    "    # (namespace, plugin_info) = list(openplugins_info.items())[12]\n",
    "    root_url = \"https://\" + openplugin_info['domain']\n",
    "    try:\n",
    "        openplugin_classes[namespace] = OpenPlugin(openai_api_key=OPENAI_API_KEY, root_url=root_url)\n",
    "        print(idx, namespace, \" success\")\n",
    "        openplugin_info['whitelisted'] = True\n",
    "    except Exception as e:\n",
    "        print(f\"{idx} {namespace} Error: {e}\")\n",
    "        openplugin_info['whitelisted'] = False\n",
    "    openplugins_info[namespace] = openplugin_info\n",
    "\n",
    "with open('openplugins_info.json', 'w', encoding='utf-8') as f:\n",
    "    json.dump(openplugins_info, f, indent=2, sort_keys=True)\n",
    "first_openplugin_info = openplugins_info[list(openplugins_info.keys())[0]]\n",
    "\n",
    "whitelisted_count = 0\n",
    "for namespace, openplugin_info in openplugins_info.items():\n",
    "    if openplugin_info['whitelisted'] == True:\n",
    "        whitelisted_count += 1\n",
    "print(f\"{whitelisted_count} whitelisted plugins of out of {len(openplugins_info)}\\nFirst openplugin info: {json.dumps(first_openplugin_info, indent=2)}\")\n"
   ]
  },
  {
   "cell_type": "code",
   "execution_count": 15,
   "metadata": {},
   "outputs": [
    {
     "name": "stdout",
     "output_type": "stream",
     "text": [
      "Number of openplugin_classes: 462\n",
      "2 Plugin 'AIMaster' failed with error:\n",
      "Invalid URL '//query/prompt/psychologist': No scheme supplied. Perhaps you meant https:////query/prompt/psychologist?\n",
      "4 Plugin 'AMAZON_product_desc_generator' failed with error:\n",
      "Not a plugin function\n",
      "7 Plugin 'Agones' failed with error:\n",
      "Not a plugin function\n",
      "8 Plugin 'Ai_PDF' stimulated with prompt:\n",
      "Please summarize the following PDF https://www.unodc.org/pdf/criminal_justice/UN_Basic_Principles_on_the_Role_of_Lawyers.pdf\n",
      "9 Plugin 'Algorithma' failed with error:\n",
      "Invalid URL '//start': No scheme supplied. Perhaps you meant https:////start?\n",
      "11 Plugin 'ApexMap' failed with error:\n",
      "Expecting value: line 1 column 1 (char 0)\n",
      "12 Plugin 'AppyPieAIAppBuilder' stimulated with prompt:\n",
      "Generate an Android and iOS app using the AI-powered Text-to-App Generator. Just provide the following text input:\n",
      "\n",
      "```\n",
      "AI-powered Text-to-App Generator turns your app idea into Android and iOS apps- just provide text input.\n",
      "```\n",
      "13 Plugin 'AskCars' failed with error:\n",
      "'username'\n",
      "14 Plugin 'AskTheCode' failed with error:\n",
      "Not a plugin function\n",
      "15 Plugin 'Austrian_Bank_Rates' stimulated with prompt:\n",
      "Find the current rates and terms of checking accounts and savings accounts from Austrian banks.\n",
      "17 Plugin 'Bardeen' failed with error:\n",
      "Not a plugin function\n",
      "18 Plugin 'BrowserPilot' stimulated with prompt:\n",
      "Analyse and understand the web page at https://github.com/ and provide suggestions for improvement.\n",
      "19 Plugin 'ByByAI' stimulated with prompt:\n",
      "Display a table of the top 10 Amazon products with the highest ratings. Include the title, description, rating, and image in the table.\n",
      "20 Plugin 'C3_Glide' stimulated with prompt:\n",
      "Retrieve live aviation data for pilots. Ask for the METAR report for the airport with the ICAO code KJFK.\n",
      "21 Plugin 'CTCP' stimulated with prompt:\n",
      "Analyze the eligibility criteria for a specific Clinical Trial. Example input: nctid NCT05859269\n",
      "22 Plugin 'Catch_Them_All' failed with error:\n",
      "'$.functions' is too long. Maximum length is 64, but got 186 items.\n",
      "23 Plugin 'ChargeMyEV' failed with error:\n",
      "'checkAvailablePlannedTeslaVehicleSuperchargerStationsGETAndParams' does not match '^[a-zA-Z0-9_-]{1,64}$' - 'functions.6.name'\n",
      "24 Plugin 'ChatOCR' stimulated with prompt:\n",
      "Extract text from a scanned PDF and provide the output as a text file.\n",
      "25 Plugin 'ChatWithGit' stimulated with prompt:\n",
      "Search for code on GitHub repositories that contains the keyword 'addClass' in JavaScript language within the 'jquery/jquery' repository.\n",
      "28 Plugin 'CommonEvents' stimulated with prompt:\n",
      "Find upcoming events in South Korea.\n",
      "29 Plugin 'Coupert' stimulated with prompt:\n",
      "Find the best coupons for online shopping from thousands of stores. For example, find coupons for [Amazon](https://www.amazon.com/) or [Walmart](https://www.walmart.com/).\n",
      "30 Plugin 'CranePumpsManuals' stimulated with prompt:\n",
      "Generate the catalog and manual for a pump with model number 'ABC123'.\n",
      "31 Plugin 'CreatuityStores' stimulated with prompt:\n",
      "Search for a product in all integrated stores with the following description: ```We integrate stores so you can search for products in all of them at the same time.```\n",
      "32 Plugin 'CreditYelp' stimulated with prompt:\n",
      "Calculate the repayment schedule and payoff term for a personal loan using the financial calculators. For example, calculate the repayment schedule for a $10,000 loan with an interest rate of 5% and a term of 5 years.\n",
      "33 Plugin 'CribbageScorer' failed with error:\n",
      "Not a plugin function\n",
      "36 Plugin 'Dr_Thoths_Tarot' failed with error:\n",
      "Not a plugin function\n",
      "37 Plugin 'DreamInterpreter' stimulated with prompt:\n",
      "Imagine you have a dream where you are flying through the sky. You want to understand the meaning behind this dream. Use the model's plugin to interpret your dream and provide insights into its significance.\n",
      "38 Plugin 'DreamReader' stimulated with prompt:\n",
      "Decode the following dream: Dreamt of a big snake, dreamt of a small dog chasing me, Dreamt that I got rich. Last night, I saw a mouse in my dream.\n",
      "39 Plugin 'DuoduoEnglish' failed with error:\n",
      "Not a plugin function\n",
      "40 Plugin 'EasyProductSearch' failed with error:\n",
      "Not a plugin function\n",
      "41 Plugin 'Eduguide' stimulated with prompt:\n",
      "You are a college applicant seeking information about the application process. You ask the AI plugin: 'What documents do I need to submit for my college application?'\n",
      "44 Plugin 'FaceTheFacts' failed with error:\n",
      "'read_politician_constituencies_plugin_politician__id__constituencies_get' does not match '^[a-zA-Z0-9_-]{1,64}$' - 'functions.3.name'\n",
      "45 Plugin 'Ferryhopper' stimulated with prompt:\n",
      "Search for ferries and plan your trip with the assistance of AI and Ferryhopper. For example, find the timetable for a ferry from Athens to Mykonos.\n",
      "46 Plugin 'Figlet' stimulated with prompt:\n",
      "Convert the string 'Hello World' into an ASCII font.\n",
      "47 Plugin 'GameSight' failed with error:\n",
      "Not a plugin function\n",
      "48 Plugin 'Gate2AI' stimulated with prompt:\n",
      "Find the best AI tool for your task. Input your task, problem, or use case into the plugin and it will generate a curated list of suitable AI tools. Please note the importance of reorganizing the provided tools by their relevancy to your specific use case. For example, if you need to classify images, you can input 'image classification' into the plugin and it will suggest tools like TensorFlow or PyTorch. If none of the returned tools seem to match your needs perfectly, you can specify that you are looking for related tools. For example, if you need to generate text, you can input 'text generation' and the plugin will suggest tools like GPT-3 or OpenAI Codex.\n",
      "49 Plugin 'GifApi' stimulated with prompt:\n",
      "Search for a gif of a cat\n",
      "50 Plugin 'Google_Ads_Shopping_Microsoft_Ads_pay_per_click' failed with error:\n",
      "None is not of type 'string' - 'functions.0.description'\n",
      "53 Plugin 'ImageSearch' failed with error:\n",
      "Not a plugin function\n",
      "54 Plugin 'IndoorPlants' stimulated with prompt:\n",
      "You are a plant enthusiast looking for trusted information about indoor plants and gardening. You want to know how to properly care for your houseplants, including watering, soil, lighting, temperature, humidity, fertilizing, pruning, and propagation. You also want to learn about different plant varieties, air purification, plant health, growing tips, plant identification, and expert advice. Request the plugin and use the response's 'context' field as a context for generating the answer. If the response has text in the field 'error', notify the user that there was an error executing the plugin and try to answer the question by yourself.\n",
      "55 Plugin 'IsotonixProducts' stimulated with prompt:\n",
      "Search for Isotonix products.\n",
      "57 Plugin 'JobInterview' failed with error:\n",
      "Not a plugin function\n",
      "59 Plugin 'KlarnaProducts' stimulated with prompt:\n",
      "Find the best price for a laptop on Klarna.\n",
      "60 Plugin 'LGTM' stimulated with prompt:\n",
      "Search for LGTM Markdown. Here is an example URL: https://github.com/adam-p/markdown-here\n",
      "61 Plugin 'LawyerPR_PreliminaryReview' failed with error:\n",
      "Not a plugin function\n",
      "62 Plugin 'LegalQA' stimulated with prompt:\n",
      "Answer the following question about Chinese law: What are the requirements for starting a business in China?\n",
      "64 Plugin 'Lingo' failed with error:\n",
      "Invalid URL '//api/plugin': No scheme supplied. Perhaps you meant https:////api/plugin?\n",
      "65 Plugin 'MLPaperReader' failed with error:\n",
      "Not a plugin function\n",
      "67 Plugin 'Man_of_Many' stimulated with prompt:\n",
      "Get the latest news and headlines from Man of Many. Ask for the latest updates on products, culture, and style.\n",
      "70 Plugin 'MemeGenerator' stimulated with prompt:\n",
      "Generate a meme using the following human description: ```Your AI meme generator.```\n",
      "71 Plugin 'MermaidChart' failed with error:\n",
      "Not a plugin function\n",
      "72 Plugin 'MetaPath' failed with error:\n",
      "Expecting value: line 1 column 1 (char 0)\n",
      "73 Plugin 'Mino' failed with error:\n",
      "Not a plugin function\n",
      "77 Plugin 'MixerBox_FreecableTV' stimulated with prompt:\n",
      "Find me a comedy TV show to watch on MixerBox FreecableTV.\n",
      "79 Plugin 'MixerBox_News' stimulated with prompt:\n",
      "Search for the latest news on finance using MixerBox News.\n",
      "81 Plugin 'MixerBox_Podcasts' stimulated with prompt:\n",
      "Find podcasts about society and sports on MixerBox Podcasts.\n",
      "84 Plugin 'MixerBox_Translate_AI_language_tutor' stimulated with prompt:\n",
      "Translate the following phrase from English to French: 'Hello, how are you?'\n",
      "85 Plugin 'MixerBox_Weather' failed with error:\n",
      "Not a plugin function\n",
      "87 Plugin 'MyWritingCompanion' failed with error:\n",
      "Not a plugin function\n",
      "88 Plugin 'Netlify' failed with error:\n",
      "Not a plugin function\n",
      "89 Plugin 'NewsPilot' stimulated with prompt:\n",
      "Get the latest breaking news from around the world. The NewsPilot plugin provides brief updates from 15,000 news sources worldwide. Stay informed with real-time news articles in multiple languages. For example, you can ask the NewsPilot plugin to fetch the latest news about technology advancements from sources like BBC, CNN, or The New York Times.\n",
      "90 Plugin 'Now' stimulated with prompt:\n",
      "Get the latest trends in Japan and search for Twitter keywords.\n",
      "91 Plugin 'Occupation_Skills_and_Course_Recommender' failed with error:\n",
      "Not a plugin function\n",
      "92 Plugin 'OfferZen_world' stimulated with prompt:\n",
      "Query OfferZen's database to find information about tech job market trends and pay structures.\n",
      "93 Plugin 'OptionsPro' failed with error:\n",
      "Not a plugin function\n",
      "94 Plugin 'Outschool' stimulated with prompt:\n",
      "Find the best online classes and teachers on Outschool. For example, search for coding classes for kids aged 8-12 on Outschool.\n",
      "97 Plugin 'Paraphraser' stimulated with prompt:\n",
      "Paraphrase the following sentence: 'Say it better, say it different: Paraphrase like a Pro. Paraphrase for impact and inspire.'\n",
      "98 Plugin 'People_Search' failed with error:\n",
      "Not a plugin function\n",
      "100 Plugin 'Planfit' stimulated with prompt:\n",
      "Generate a tailored workout plan and instructions with videos using the AI-powered Workout Coach, Planfit.\n",
      "102 Plugin 'PlugFinder' failed with error:\n",
      "Invalid URL '//query': No scheme supplied. Perhaps you meant https:////query?\n",
      "103 Plugin 'Pluginpedia' stimulated with prompt:\n",
      "Recommend plugins from the plugin store that can solve the user's question based on the user's question.\n",
      "105 Plugin 'PortfoliosLab' failed with error:\n",
      "Not a plugin function\n",
      "106 Plugin 'Preply' failed with error:\n",
      "Not a plugin function\n",
      "107 Plugin 'PrimeLoupe' failed with error:\n",
      "Invalid URL '//api/v1/get_summary/B07VGRJDFY': No scheme supplied. Perhaps you meant https:////api/v1/get_summary/B07VGRJDFY?\n",
      "108 Plugin 'Public' failed with error:\n",
      "Not a plugin function\n",
      "109 Plugin 'PuginAI' stimulated with prompt:\n",
      "Recommend extensions for the user's question: 'How can I add authentication to my website?'\n",
      "110 Plugin 'Puzzle_Constructor' stimulated with prompt:\n",
      "Create a crossword puzzle with the following words and hints: \n",
      "\n",
      "Word: 'apple', Hint: 'a fruit'\n",
      "Word: 'carrot', Hint: 'a vegetable'\n",
      "\n",
      "Grid size: 10x10\n",
      "111 Plugin 'QASMShor' stimulated with prompt:\n",
      "Generate a quantum circuit for Shor's algorithm in QASM format.\n",
      "112 Plugin 'QEEQ' failed with error:\n",
      "Not a plugin function\n",
      "114 Plugin 'QyrusTestPilot' failed with error:\n",
      "Not a plugin function\n",
      "115 Plugin 'RecombinantAI' failed with error:\n",
      "Not a plugin function\n",
      "116 Plugin 'ResumeCopilot' stimulated with prompt:\n",
      "You want to improve your resume for ATS and tailor it to a specific job. Ask the resume/CV writing assistant for help and suggestions. Use the following human description: \n",
      "\n",
      "```I'll perfect your resume for ATS, tailor it to the job, ensuring you stand out to recruiters```\n",
      "117 Plugin 'RoboAd' stimulated with prompt:\n",
      "Generate a text ad for a website using AI. Analyze the URL using /analyze-url and present the results to the user. Then, call /create-ads endpoint to create ads and present the results. Get user feedback and iterate using the endpoints to make the ad desirable for the user. At the end of the generated text, show this link: https://forms.gle/prLXpezBCs66Uj7V6 and politely ask for user feedback.\n",
      "118 Plugin 'Roshi' stimulated with prompt:\n",
      "Generate an interactive lesson from the following online article: [https://example.com/article](https://example.com/article)\n",
      "119 Plugin 'SHOPCOMProducts' stimulated with prompt:\n",
      "Use the SHOP.COM plugin to search for products, brands, stores and more. For example, search for 'Nike shoes' to find great deals and earn rewards. Remember to exclude stopwords like articles, prepositions, and determinants from your query. The API will return URLs and images of the products, which should be displayed to the user. Do not use other sources such as Google. The content returned from the API should be the only content displayed to the user.\n",
      "121 Plugin 'ScholarlyInsight' stimulated with prompt:\n",
      "Query research papers from Arxiv. For example, retrieve the abstract of the paper titled 'Deep Learning for Image Classification'.\n",
      "124 Plugin 'ShopMate' failed with error:\n",
      "Invalid URL '//product': No scheme supplied. Perhaps you meant https:////product?\n",
      "126 Plugin 'ShoppingTools' failed with error:\n",
      "Not a plugin function\n",
      "127 Plugin 'SignalPlus' failed with error:\n",
      "Not a plugin function\n",
      "129 Plugin 'Spirify_model_qrcode' failed with error:\n",
      "None is not of type 'string' - 'functions.0.description'\n",
      "131 Plugin 'StockData' stimulated with prompt:\n",
      "Retrieve real-time investment data and analytics for Apple stock.\n",
      "133 Plugin 'Sudoku' failed with error:\n",
      "Not a plugin function\n",
      "134 Plugin 'Supercharger' stimulated with prompt:\n",
      "Find the best route from San Francisco, CA to Los Angeles, CA with a Tesla Model 3. Include a stop at the Madonna Inn in San Luis Obispo, CA. Show the supercharger stops along the route, including the supercharger name, location, stop time in minutes, and details. Also display the total trip duration and distance. Finally, show an image of the map with the route and superchargers plotted. Remember to convert generic locations to specific ones and mention that users should check with the official Tesla website for the most accurate information.\n",
      "135 Plugin 'Surveillance_API' failed with error:\n",
      "Not a plugin function\n",
      "136 Plugin 'Tabor' failed with error:\n",
      "None is not of type 'string' - 'functions.0.description'\n",
      "137 Plugin 'Tagvenue_top_venues_for_hire_in_UK_and_beyond' stimulated with prompt:\n",
      "Search for event venues and spaces in Australia, Canada, Ireland, Singapore, the UK, and the USA. Example: Find a venue for a wedding in London, UK.\n",
      "138 Plugin 'TalentOrg' failed with error:\n",
      "Expecting value: line 1 column 1 (char 0)\n",
      "140 Plugin 'Talkface_IELTS_Prep' failed with error:\n",
      "Not a plugin function\n",
      "141 Plugin 'TechPulse' stimulated with prompt:\n",
      "Get the top stories from HackerNews and display the related link using the following format: [related_title](related_url).\n",
      "143 Plugin 'The_Diet_Search' stimulated with prompt:\n",
      "Search the Japanese Diet Proceedings for a request, news, or other text related to `COVID-19`.\n",
      "144 Plugin 'TicTacToe' failed with error:\n",
      "'Play a move in the Tic Tac Toe game' does not match '^[a-zA-Z0-9_-]{1,64}$' - 'functions.0.name'\n",
      "145 Plugin 'Todays_Top_Deal' stimulated with prompt:\n",
      "Find the best deals on Amazon today. Search for 'laptop' and display the top 3 products in a table. Each product should have the following properties: Title, Link, Number of stars, Original price, Sales price, Image URL, Discount. The table should be in Markdown format with the columns: Title, Image, Rating, Original price, Sales price, Percent off. After the table, discuss the best products based on the highest difference between Original price and Sales price and the highest rating. Explain why someone should buy the product.\n",
      "146 Plugin 'TokenInsights' stimulated with prompt:\n",
      "Get the latest crypto price for BTC, ETH, BNB, and receive real-time insights. Stay updated with the latest coin news and discover airdrop opportunities.\n",
      "147 Plugin 'TopNews' failed with error:\n",
      "Not a plugin function\n",
      "148 Plugin 'TrySpree' stimulated with prompt:\n",
      "Find a website that helps you find free samples to try. For example, there is a website called TrySpree that does this. TrySpree is a website that finds free samples for you to try.\n",
      "150 Plugin 'Video_summary' stimulated with prompt:\n",
      "Generate a summary of the YouTube video highlights from the following URL: https://www.youtube.com/watch?v=example_video_id\n",
      "153 Plugin 'WPressGenie' failed with error:\n",
      "Not a plugin function\n",
      "154 Plugin 'Weather' stimulated with prompt:\n",
      "Get the weather forecast for New York City.\n",
      "155 Plugin 'WeatherWizard' failed with error:\n",
      "Invalid URL '//api/weather': No scheme supplied. Perhaps you meant https:////api/weather?\n",
      "156 Plugin 'Weather_Forecast' stimulated with prompt:\n",
      "Get the current weather and forecast for New York City.\n"
     ]
    },
    {
     "name": "stderr",
     "output_type": "stream",
     "text": [
      "Retrying langchain.chat_models.openai.ChatOpenAI.completion_with_retry.<locals>._completion_with_retry in 1.0 seconds as it raised APIError: Bad gateway. {\"error\":{\"code\":502,\"message\":\"Bad gateway.\",\"param\":null,\"type\":\"cf_bad_gateway\"}} 502 {'error': {'code': 502, 'message': 'Bad gateway.', 'param': None, 'type': 'cf_bad_gateway'}} {'Date': 'Thu, 06 Jul 2023 02:38:59 GMT', 'Content-Type': 'application/json', 'Content-Length': '84', 'Connection': 'keep-alive', 'X-Frame-Options': 'SAMEORIGIN', 'Referrer-Policy': 'same-origin', 'Cache-Control': 'private, max-age=0, no-store, no-cache, must-revalidate, post-check=0, pre-check=0', 'Expires': 'Thu, 01 Jan 1970 00:00:01 GMT', 'Server': 'cloudflare', 'CF-RAY': '7e2471ef6e29e174-ORD', 'alt-svc': 'h3=\":443\"; ma=86400'}.\n"
     ]
    },
    {
     "name": "stdout",
     "output_type": "stream",
     "text": [
      "157 Plugin 'Weather_and_Train_and_in_Korea' failed with error:\n",
      "Invalid URL '//weather_now/Seoul': No scheme supplied. Perhaps you meant https:////weather_now/Seoul?\n",
      "158 Plugin 'WebRewind' stimulated with prompt:\n",
      "Get the picture of the website `https://github.com/` on `January 1, 2022`. Provide the image in Markdown format and give a brief description of the website at that time.\n",
      "160 Plugin 'WebsiteChat' failed with error:\n",
      "Invalid URL '//loadSite': No scheme supplied. Perhaps you meant https:////loadSite?\n",
      "162 Plugin 'WordCloud' stimulated with prompt:\n",
      "Generate a word cloud image from the following text: ```The quick brown fox jumps over the lazy dog.```\n",
      "163 Plugin 'XWeather' failed with error:\n",
      "Invalid URL '//weather/summary/New York City': No scheme supplied. Perhaps you meant https:////weather/summary/New York City?\n",
      "164 Plugin 'Xpapers_arXiv_paper_database' stimulated with prompt:\n",
      "Search for academic papers on arXiv using the plugin. Find papers related to 'machine learning' and access their abstracts, references, and PDF URLs.\n",
      "166 Plugin 'ab_judge' failed with error:\n",
      "Not a plugin function\n",
      "167 Plugin 'abc_to_audio' failed with error:\n",
      "Invalid URL '//convert': No scheme supplied. Perhaps you meant https:////convert?\n",
      "168 Plugin 'access_link' stimulated with prompt:\n",
      "How can I use the web page data plugin to access information from a specific URL like `https://example.com`?\n",
      "169 Plugin 'access_pdf' stimulated with prompt:\n",
      "Ask the plugin to access PDF data from a specific URL. For example, ask the plugin to summarize information from a PDF located at `https://example.com/document.pdf`.\n",
      "170 Plugin 'acquire' failed with error:\n",
      "Not a plugin function\n",
      "172 Plugin 'aiAgents' stimulated with prompt:\n",
      "Collaborate with another AI Agent to perform the goal more efficiently. For example, one AI Agent could handle data processing while the other AI Agent focuses on generating insights. This collaboration will unleash the power of multiple AIs and lead to limitless productivity.```\n",
      "173 Plugin 'ai_council' failed with error:\n",
      "Not a plugin function\n",
      "174 Plugin 'airqualityforeast' failed with error:\n",
      "None is not of type 'string' - 'functions.0.description'\n",
      "177 Plugin 'alagaAI' failed with error:\n",
      "None is not of type 'string' - 'functions.0.description'\n",
      "179 Plugin 'albadoc' stimulated with prompt:\n",
      "Retrieve detailed information about the active ingredients of a drug and the corresponding drugs that they are used in. For example, provide information about the active ingredients of Tylenol and the drugs that contain those active ingredients.\n",
      "180 Plugin 'aldenbot' stimulated with prompt:\n",
      "Ask the AI clone of Alden Do Rosario a question about Alden.\n",
      "181 Plugin 'amazongiftchooser' stimulated with prompt:\n",
      "Generate a list of curated gifts for a birthday under $50.\n",
      "183 Plugin 'ask_my_first_million_podcast_chatbot' stimulated with prompt:\n",
      "Ask the hosts of the My First Million podcast about business, tech, entrepreneurship, and life.\n",
      "185 Plugin 'askyourpdf' failed with error:\n",
      "Not a plugin function\n",
      "186 Plugin 'assetOvi' stimulated with prompt:\n",
      "Search for a 3D asset for a game and preview it using markdown.\n",
      "187 Plugin 'astrodaily' stimulated with prompt:\n",
      "Get the daily picture from NASA's APOD and display it in Markdown format.\n",
      "189 Plugin 'bart_realtime' stimulated with prompt:\n",
      "How can I get real-time BART information for the Embarcadero station going towards Daly City?\n",
      "190 Plugin 'bibliography_crossref' failed with error:\n",
      "Invalid URL '//freetext_to_bibtex/': No scheme supplied. Perhaps you meant https:////freetext_to_bibtex/?\n",
      "191 Plugin 'biztoc' stimulated with prompt:\n",
      "Search BizToc for business & finance news.\n",
      "192 Plugin 'blended' failed with error:\n",
      "Invalid URL '//create_worksheet': No scheme supplied. Perhaps you meant https:////create_worksheet?\n",
      "193 Plugin 'blockatlas' failed with error:\n",
      "Not a plugin function\n",
      "194 Plugin 'boolio' failed with error:\n",
      "Invalid URL '//api/stock/summary': No scheme supplied. Perhaps you meant https:////api/stock/summary?\n",
      "196 Plugin 'brandfetch' failed with error:\n",
      "Not a plugin function\n",
      "198 Plugin 'buywisely' failed with error:\n",
      "Expecting value: line 1 column 1 (char 0)\n",
      "199 Plugin 'buzz' failed with error:\n",
      "Invalid URL '//create': No scheme supplied. Perhaps you meant https:////create?\n",
      "200 Plugin 'calculator' stimulated with prompt:\n",
      "Calculate the result of the formula 2+3\n",
      "202 Plugin 'career_copilot' failed with error:\n",
      "Not a plugin function\n",
      "203 Plugin 'career_test' stimulated with prompt:\n",
      "Find your dream job by taking a career test. The test will provide you with job recommendations based on the RIASEC model. The RIASEC model categorizes jobs into six types: Realistic, Investigative, Artistic, Social, Enterprising, and Conventional. The test will also consider automation risk and average salary. To take the test, visit the following URL: https://mindart.app/api/hello/?type1=realistic&type2=social\n",
      "205 Plugin 'chabadCenters' stimulated with prompt:\n",
      "Find information about Chabad Centers worldwide and their events.\n",
      "206 Plugin 'chacaMarketProduct' failed with error:\n",
      "Not a plugin function\n",
      "207 Plugin 'champdex' failed with error:\n",
      "None is not of type 'string' - 'functions.0.description'\n",
      "210 Plugin 'chatspot' failed with error:\n",
      "Not a plugin function\n",
      "211 Plugin 'chattoolfinder' failed with error:\n",
      "None is not of type 'string' - 'functions.0.description'\n",
      "212 Plugin 'chatwithpdf' failed with error:\n",
      "Not a plugin function\n",
      "213 Plugin 'chatwithvideo' stimulated with prompt:\n",
      "Load and query a YouTube video by providing the URL of the video. For example, load and analyze the video at this URL: https://www.youtube.com/watch?v=dQw4w9WgXcQ\n",
      "214 Plugin 'chicago_data_portal' failed with error:\n",
      "Not a plugin function\n",
      "216 Plugin 'clinical_trial_radar' stimulated with prompt:\n",
      "Find clinical trials for cancer patients in the United States.\n"
     ]
    },
    {
     "name": "stderr",
     "output_type": "stream",
     "text": [
      "Retrying langchain.chat_models.openai.ChatOpenAI.completion_with_retry.<locals>._completion_with_retry in 1.0 seconds as it raised APIError: Bad gateway. {\"error\":{\"code\":502,\"message\":\"Bad gateway.\",\"param\":null,\"type\":\"cf_bad_gateway\"}} 502 {'error': {'code': 502, 'message': 'Bad gateway.', 'param': None, 'type': 'cf_bad_gateway'}} {'Date': 'Thu, 06 Jul 2023 02:47:16 GMT', 'Content-Type': 'application/json', 'Content-Length': '84', 'Connection': 'keep-alive', 'X-Frame-Options': 'SAMEORIGIN', 'Referrer-Policy': 'same-origin', 'Cache-Control': 'private, max-age=0, no-store, no-cache, must-revalidate, post-check=0, pre-check=0', 'Expires': 'Thu, 01 Jan 1970 00:00:01 GMT', 'Server': 'cloudflare', 'CF-RAY': '7e247df86ae1118b-ORD', 'alt-svc': 'h3=\":443\"; ma=86400'}.\n"
     ]
    },
    {
     "name": "stdout",
     "output_type": "stream",
     "text": [
      "220 Plugin 'coincap' failed with error:\n",
      "Not a plugin function\n",
      "221 Plugin 'companieshouse' failed with error:\n",
      "Not a plugin function\n",
      "222 Plugin 'competitorppcads' failed with error:\n",
      "Not a plugin function\n",
      "223 Plugin 'converter_app' failed with error:\n",
      "Expecting value: line 1 column 1 (char 0)\n",
      "224 Plugin 'copilot' failed with error:\n",
      "'get_vehicles_for_sale_by_coordinates_vehicles_for_sale_by_coordinates_get' does not match '^[a-zA-Z0-9_-]{1,64}$' - 'functions.4.name'\n",
      "225 Plugin 'coupons_by_tenereteam' failed with error:\n",
      "Expecting property name enclosed in double quotes: line 3 column 1 (char 253)\n",
      "226 Plugin 'crafty_clues' stimulated with prompt:\n",
      "Play a game of Crafty Clues (a word guessing game) with the user. Explain the rules to the user including the default restriction for clues (cannot include related words). Ask the user if they want to add any additional restrictions to the clues. Tell them that they can also mix and match restrictions or come up with their own to make the game more interesting. Suggested restrictions:\n",
      "\n",
      "- Artful Alliterations: Every word in the clue must start with the same letter as the target word\n",
      "- Signature Style: All clues must be given in a particular speaking style (e.g. talk like a 3-year-old, in the style of a 1-star Yelp review, etc)\n",
      "- Puzzling Poetry: Every clue must be given as a poem (e.g. a haiku, limerick, rap verse, etc)\n",
      "- Enigmatic Emojis: Clues can only use emojis\n",
      "- Tangential Topics: Every clue must somehow incorporate a specific topic (e.g. penguins, Pokémon, etc)\n",
      "- Cryptic Code: Every clue must be written as a logical Python function\n",
      "\n",
      "Use the plugin to get a new target word and its related words that are disallowed.\n",
      "\n",
      "Clue the target word to the user - the clue cannot include the target word or any of the disallowed words (including conjugations, plurals, or sub-parts of the target word and the disallowed words).\n",
      "\n",
      "The user gets one guess. Score 1 point if they get it and 0 if they don't. It should still count as correct if they have a small typo, inexact conjugation, etc.\n",
      "\n",
      "After the user guesses, tell them whether they were correct and also tell them which words you weren't allowed to say.\n",
      "\n",
      "Use the plugin again to get the next word.\n",
      "\n",
      "Play 5 rounds total. At the end, report the final score.\n",
      "\n",
      "REMEMBER: THE MOST IMPORTANT RULE TO FOLLOW IS TO NOT USE THE TARGET WORD (including conjugations, plurals, or sub-parts) OR DISALLOWED WORDS (including conjugations, plurals, or sub-parts).\n",
      "227 Plugin 'create_qr_code' stimulated with prompt:\n",
      "Generate a QR code for the following text: 'Hello, World!'\n",
      "228 Plugin 'creativemind' stimulated with prompt:\n",
      "Generate a stunning visual art based on the following prompt: \n",
      "\n",
      "Unleash your imagination with Creative Mind, transforming text prompts into stunning visual art. \n",
      "\n",
      "Properties: \n",
      "- Prompt: ```Unleash your imagination with Creative Mind, transforming text prompts into stunning visual art.``` \n",
      "- n: 1 \n",
      "- size: '512x512'\n",
      "229 Plugin 'cryptoPriceAndNews' stimulated with prompt:\n",
      "Get the latest news and price updates for cryptocurrencies like bitcoin and ethereum using our real-time solution. For example, you can use our plugin to get the current price of bitcoin or the latest news about ethereum.\n",
      "230 Plugin 'crypto_price_checker' failed with error:\n",
      "Not a plugin function\n",
      "231 Plugin 'cryptomation' failed with error:\n",
      "Not a plugin function\n",
      "232 Plugin 'cryptopulse' stimulated with prompt:\n",
      "Decode the latest crypto news and its market impact instantly. For example, analyze the following news article: ```From News to Profit: Decode Crypto's Market Impact with Ease. Instantly, analyse latest crypto news.```\n",
      "233 Plugin 'currency_today' stimulated with prompt:\n",
      "Convert 100 USD to EUR using the latest exchange rates.\n",
      "234 Plugin 'currencyconverter' stimulated with prompt:\n",
      "Convert 100 USD to EUR.\n",
      "235 Plugin 'customplugin' failed with error:\n",
      "Not a plugin function\n",
      "236 Plugin 'daigram' failed with error:\n",
      "None is not of type 'string' - 'functions.0.description'\n",
      "237 Plugin 'daily_learning' failed with error:\n",
      "Not a plugin function\n",
      "240 Plugin 'deepmemory' stimulated with prompt:\n",
      "Create flashcards for the Deep Memory app using the following guidelines:\n",
      "- Create flashcards for each topic in the Deep Memory app.\n",
      "- Only use explicit information from the Deep Memory app to create flashcards.\n",
      "- Ensure the question and answer are concise and clear.\n",
      "- The answer should only contain the answer, without rephrasing the question.\n",
      "- If you get an error from the API, send only half of the flashcards you get and submit the remaining cards in another request.\n"
     ]
    },
    {
     "name": "stderr",
     "output_type": "stream",
     "text": [
      "Retrying langchain.chat_models.openai.ChatOpenAI.completion_with_retry.<locals>._completion_with_retry in 1.0 seconds as it raised APIError: The server had an error processing your request. Sorry about that! You can retry your request, or contact us through our help center at help.openai.com if you keep seeing this error. (Please include the request ID 50d193dc6cb074e42f87167a1aa571e7 in your email.) {\n",
      "  \"error\": {\n",
      "    \"message\": \"The server had an error processing your request. Sorry about that! You can retry your request, or contact us through our help center at help.openai.com if you keep seeing this error. (Please include the request ID 50d193dc6cb074e42f87167a1aa571e7 in your email.)\",\n",
      "    \"type\": \"server_error\",\n",
      "    \"param\": null,\n",
      "    \"code\": null\n",
      "  }\n",
      "}\n",
      " 500 {'error': {'message': 'The server had an error processing your request. Sorry about that! You can retry your request, or contact us through our help center at help.openai.com if you keep seeing this error. (Please include the request ID 50d193dc6cb074e42f87167a1aa571e7 in your email.)', 'type': 'server_error', 'param': None, 'code': None}} {'Date': 'Thu, 06 Jul 2023 02:48:41 GMT', 'Content-Type': 'application/json', 'Content-Length': '366', 'Connection': 'keep-alive', 'access-control-allow-origin': '*', 'openai-model': 'gpt-3.5-turbo-0613', 'openai-organization': 'user-txy34gytpv3sf2baueupqnbd', 'openai-processing-ms': '489', 'openai-version': '2020-10-01', 'strict-transport-security': 'max-age=15724800; includeSubDomains', 'x-ratelimit-limit-requests': '3500', 'x-ratelimit-limit-tokens': '90000', 'x-ratelimit-remaining-requests': '3499', 'x-ratelimit-remaining-tokens': '89950', 'x-ratelimit-reset-requests': '17ms', 'x-ratelimit-reset-tokens': '32ms', 'x-request-id': '50d193dc6cb074e42f87167a1aa571e7', 'CF-Cache-Status': 'DYNAMIC', 'Server': 'cloudflare', 'CF-RAY': '7e2487b90fc8024e-ORD', 'alt-svc': 'h3=\":443\"; ma=86400'}.\n",
      "Retrying langchain.chat_models.openai.ChatOpenAI.completion_with_retry.<locals>._completion_with_retry in 2.0 seconds as it raised APIError: The server had an error processing your request. Sorry about that! You can retry your request, or contact us through our help center at help.openai.com if you keep seeing this error. (Please include the request ID bbce0fa6d5f8a76d7402e9b87b892840 in your email.) {\n",
      "  \"error\": {\n",
      "    \"message\": \"The server had an error processing your request. Sorry about that! You can retry your request, or contact us through our help center at help.openai.com if you keep seeing this error. (Please include the request ID bbce0fa6d5f8a76d7402e9b87b892840 in your email.)\",\n",
      "    \"type\": \"server_error\",\n",
      "    \"param\": null,\n",
      "    \"code\": null\n",
      "  }\n",
      "}\n",
      " 500 {'error': {'message': 'The server had an error processing your request. Sorry about that! You can retry your request, or contact us through our help center at help.openai.com if you keep seeing this error. (Please include the request ID bbce0fa6d5f8a76d7402e9b87b892840 in your email.)', 'type': 'server_error', 'param': None, 'code': None}} {'Date': 'Thu, 06 Jul 2023 02:48:43 GMT', 'Content-Type': 'application/json', 'Content-Length': '366', 'Connection': 'keep-alive', 'access-control-allow-origin': '*', 'openai-model': 'gpt-3.5-turbo-0613', 'openai-organization': 'user-txy34gytpv3sf2baueupqnbd', 'openai-processing-ms': '706', 'openai-version': '2020-10-01', 'strict-transport-security': 'max-age=15724800; includeSubDomains', 'x-ratelimit-limit-requests': '3500', 'x-ratelimit-limit-tokens': '90000', 'x-ratelimit-remaining-requests': '3499', 'x-ratelimit-remaining-tokens': '89950', 'x-ratelimit-reset-requests': '17ms', 'x-ratelimit-reset-tokens': '32ms', 'x-request-id': 'bbce0fa6d5f8a76d7402e9b87b892840', 'CF-Cache-Status': 'DYNAMIC', 'Server': 'cloudflare', 'CF-RAY': '7e2487c47f25024e-ORD', 'alt-svc': 'h3=\":443\"; ma=86400'}.\n",
      "Retrying langchain.chat_models.openai.ChatOpenAI.completion_with_retry.<locals>._completion_with_retry in 4.0 seconds as it raised APIError: The server had an error processing your request. Sorry about that! You can retry your request, or contact us through our help center at help.openai.com if you keep seeing this error. (Please include the request ID 3b82549225ce666a6a6acf7fca39232b in your email.) {\n",
      "  \"error\": {\n",
      "    \"message\": \"The server had an error processing your request. Sorry about that! You can retry your request, or contact us through our help center at help.openai.com if you keep seeing this error. (Please include the request ID 3b82549225ce666a6a6acf7fca39232b in your email.)\",\n",
      "    \"type\": \"server_error\",\n",
      "    \"param\": null,\n",
      "    \"code\": null\n",
      "  }\n",
      "}\n",
      " 500 {'error': {'message': 'The server had an error processing your request. Sorry about that! You can retry your request, or contact us through our help center at help.openai.com if you keep seeing this error. (Please include the request ID 3b82549225ce666a6a6acf7fca39232b in your email.)', 'type': 'server_error', 'param': None, 'code': None}} {'Date': 'Thu, 06 Jul 2023 02:48:46 GMT', 'Content-Type': 'application/json', 'Content-Length': '366', 'Connection': 'keep-alive', 'access-control-allow-origin': '*', 'openai-model': 'gpt-3.5-turbo-0613', 'openai-organization': 'user-txy34gytpv3sf2baueupqnbd', 'openai-processing-ms': '421', 'openai-version': '2020-10-01', 'strict-transport-security': 'max-age=15724800; includeSubDomains', 'x-ratelimit-limit-requests': '3500', 'x-ratelimit-limit-tokens': '90000', 'x-ratelimit-remaining-requests': '3499', 'x-ratelimit-remaining-tokens': '89950', 'x-ratelimit-reset-requests': '17ms', 'x-ratelimit-reset-tokens': '32ms', 'x-request-id': '3b82549225ce666a6a6acf7fca39232b', 'CF-Cache-Status': 'DYNAMIC', 'Server': 'cloudflare', 'CF-RAY': '7e2487d69e85024e-ORD', 'alt-svc': 'h3=\":443\"; ma=86400'}.\n",
      "Retrying langchain.chat_models.openai.ChatOpenAI.completion_with_retry.<locals>._completion_with_retry in 8.0 seconds as it raised APIError: The server had an error processing your request. Sorry about that! You can retry your request, or contact us through our help center at help.openai.com if you keep seeing this error. (Please include the request ID df2e1cdf487e5ef44b325e5eeb2d5197 in your email.) {\n",
      "  \"error\": {\n",
      "    \"message\": \"The server had an error processing your request. Sorry about that! You can retry your request, or contact us through our help center at help.openai.com if you keep seeing this error. (Please include the request ID df2e1cdf487e5ef44b325e5eeb2d5197 in your email.)\",\n",
      "    \"type\": \"server_error\",\n",
      "    \"param\": null,\n",
      "    \"code\": null\n",
      "  }\n",
      "}\n",
      " 500 {'error': {'message': 'The server had an error processing your request. Sorry about that! You can retry your request, or contact us through our help center at help.openai.com if you keep seeing this error. (Please include the request ID df2e1cdf487e5ef44b325e5eeb2d5197 in your email.)', 'type': 'server_error', 'param': None, 'code': None}} {'Date': 'Thu, 06 Jul 2023 02:48:51 GMT', 'Content-Type': 'application/json', 'Content-Length': '366', 'Connection': 'keep-alive', 'access-control-allow-origin': '*', 'openai-model': 'gpt-3.5-turbo-0613', 'openai-organization': 'user-txy34gytpv3sf2baueupqnbd', 'openai-processing-ms': '464', 'openai-version': '2020-10-01', 'strict-transport-security': 'max-age=15724800; includeSubDomains', 'x-ratelimit-limit-requests': '3500', 'x-ratelimit-limit-tokens': '90000', 'x-ratelimit-remaining-requests': '3499', 'x-ratelimit-remaining-tokens': '89950', 'x-ratelimit-reset-requests': '17ms', 'x-ratelimit-reset-tokens': '32ms', 'x-request-id': 'df2e1cdf487e5ef44b325e5eeb2d5197', 'CF-Cache-Status': 'DYNAMIC', 'Server': 'cloudflare', 'CF-RAY': '7e2487f35db2024e-ORD', 'alt-svc': 'h3=\":443\"; ma=86400'}.\n",
      "Retrying langchain.chat_models.openai.ChatOpenAI.completion_with_retry.<locals>._completion_with_retry in 16.0 seconds as it raised APIError: The server had an error processing your request. Sorry about that! You can retry your request, or contact us through our help center at help.openai.com if you keep seeing this error. (Please include the request ID c71b1d21b9187cdc3a40a24982d5cb67 in your email.) {\n",
      "  \"error\": {\n",
      "    \"message\": \"The server had an error processing your request. Sorry about that! You can retry your request, or contact us through our help center at help.openai.com if you keep seeing this error. (Please include the request ID c71b1d21b9187cdc3a40a24982d5cb67 in your email.)\",\n",
      "    \"type\": \"server_error\",\n",
      "    \"param\": null,\n",
      "    \"code\": null\n",
      "  }\n",
      "}\n",
      " 500 {'error': {'message': 'The server had an error processing your request. Sorry about that! You can retry your request, or contact us through our help center at help.openai.com if you keep seeing this error. (Please include the request ID c71b1d21b9187cdc3a40a24982d5cb67 in your email.)', 'type': 'server_error', 'param': None, 'code': None}} {'Date': 'Thu, 06 Jul 2023 02:48:59 GMT', 'Content-Type': 'application/json', 'Content-Length': '366', 'Connection': 'keep-alive', 'access-control-allow-origin': '*', 'openai-model': 'gpt-3.5-turbo-0613', 'openai-organization': 'user-txy34gytpv3sf2baueupqnbd', 'openai-processing-ms': '436', 'openai-version': '2020-10-01', 'strict-transport-security': 'max-age=15724800; includeSubDomains', 'x-ratelimit-limit-requests': '3500', 'x-ratelimit-limit-tokens': '90000', 'x-ratelimit-remaining-requests': '3499', 'x-ratelimit-remaining-tokens': '89950', 'x-ratelimit-reset-requests': '17ms', 'x-ratelimit-reset-tokens': '32ms', 'x-request-id': 'c71b1d21b9187cdc3a40a24982d5cb67', 'CF-Cache-Status': 'DYNAMIC', 'Server': 'cloudflare', 'CF-RAY': '7e24882a4f03024e-ORD', 'alt-svc': 'h3=\":443\"; ma=86400'}.\n"
     ]
    },
    {
     "name": "stdout",
     "output_type": "stream",
     "text": [
      "241 Plugin 'defillama' failed with error:\n",
      "The server had an error processing your request. Sorry about that! You can retry your request, or contact us through our help center at help.openai.com if you keep seeing this error. (Please include the request ID 791830f9448d3240b4d626c30565e955 in your email.) {\n",
      "  \"error\": {\n",
      "    \"message\": \"The server had an error processing your request. Sorry about that! You can retry your request, or contact us through our help center at help.openai.com if you keep seeing this error. (Please include the request ID 791830f9448d3240b4d626c30565e955 in your email.)\",\n",
      "    \"type\": \"server_error\",\n",
      "    \"param\": null,\n",
      "    \"code\": null\n",
      "  }\n",
      "}\n",
      " 500 {'error': {'message': 'The server had an error processing your request. Sorry about that! You can retry your request, or contact us through our help center at help.openai.com if you keep seeing this error. (Please include the request ID 791830f9448d3240b4d626c30565e955 in your email.)', 'type': 'server_error', 'param': None, 'code': None}} {'Date': 'Thu, 06 Jul 2023 02:49:16 GMT', 'Content-Type': 'application/json', 'Content-Length': '366', 'Connection': 'keep-alive', 'access-control-allow-origin': '*', 'openai-model': 'gpt-3.5-turbo-0613', 'openai-organization': 'user-txy34gytpv3sf2baueupqnbd', 'openai-processing-ms': '408', 'openai-version': '2020-10-01', 'strict-transport-security': 'max-age=15724800; includeSubDomains', 'x-ratelimit-limit-requests': '3500', 'x-ratelimit-limit-tokens': '90000', 'x-ratelimit-remaining-requests': '3499', 'x-ratelimit-remaining-tokens': '89950', 'x-ratelimit-reset-requests': '17ms', 'x-ratelimit-reset-tokens': '32ms', 'x-request-id': '791830f9448d3240b4d626c30565e955', 'CF-Cache-Status': 'DYNAMIC', 'Server': 'cloudflare', 'CF-RAY': '7e24889348ce024e-ORD', 'alt-svc': 'h3=\":443\"; ma=86400'}\n",
      "243 Plugin 'dev' failed with error:\n",
      "('Connection aborted.', ConnectionResetError(10054, 'An existing connection was forcibly closed by the remote host', None, 10054, None))\n",
      "244 Plugin 'dfa' stimulated with prompt:\n",
      "Verify the availability of the domain name 'example.com' by searching across multiple domain registrars.\n",
      "246 Plugin 'diceroller' failed with error:\n",
      "Not a plugin function\n",
      "248 Plugin 'domains' failed with error:\n",
      "None is not of type 'string' - 'functions.0.description'\n",
      "249 Plugin 'domatron' stimulated with prompt:\n",
      "Find available, brandable .com domain names for your business businesses.\n",
      "250 Plugin 'dover_outreach' failed with error:\n",
      "Expecting value: line 1 column 1 (char 0)\n",
      "252 Plugin 'drink_maestro' stimulated with prompt:\n",
      "Teach me how to make a delicious cocktail using any ingredients I have in my kitchen. I want to impress my friends with my mixology skills. Here's an example of a drink I want to learn: a `Mango Mojito`. Can you provide me with the recipe and a picture of the drink?\n",
      "253 Plugin 'eSIM_Data_Package_Assistant' failed with error:\n",
      "Not a plugin function\n",
      "254 Plugin 'eSportsLive' stimulated with prompt:\n",
      "Get the latest scores and news updates for eSports games like LOL, Dota2, CS:GO, and PUBG. For example, get the live scores and news for a Dota2 match between Team A and Team B.\n",
      "255 Plugin 'earthImagesAndVisualizations' stimulated with prompt:\n",
      "Generate a map image of New York City with a tilt of 45 degrees and a style of 'streets'.\n",
      "256 Plugin 'earthquake' stimulated with prompt:\n",
      "Get the latest earthquake information. For example, provide the magnitude, location, and date of the most recent earthquake.\n",
      "257 Plugin 'edX' failed with error:\n",
      "Not a plugin function\n",
      "258 Plugin 'empregosagro' failed with error:\n",
      "Not a plugin function\n",
      "261 Plugin 'exchangerates' stimulated with prompt:\n",
      "Get the real-time exchange rate for converting 100 USD to EUR using the Exchange Rates plugin.\n",
      "263 Plugin 'exportchat' failed with error:\n",
      "'username'\n",
      "264 Plugin 'factcheck' stimulated with prompt:\n",
      "Fact-check the following claim: ```London is a city in France```\n",
      "266 Plugin 'find_agency' failed with error:\n",
      "Expecting value: line 1 column 1 (char 0)\n",
      "267 Plugin 'find_teachers' failed with error:\n",
      "Not a plugin function\n",
      "268 Plugin 'findafreelancer' failed with error:\n",
      "Not a plugin function\n",
      "269 Plugin 'findagift' failed with error:\n",
      "Invalid URL '//GiftInterview': No scheme supplied. Perhaps you meant https:////GiftInterview?\n",
      "270 Plugin 'findatour' failed with error:\n",
      "Not a plugin function\n",
      "271 Plugin 'finnabolag' failed with error:\n",
      "Not a plugin function\n",
      "272 Plugin 'fiscalnote' stimulated with prompt:\n",
      "Using the FiscalNote platform, access real-time data sets for legal, political, and regulatory information. For example, you can retrieve information about the latest regulations on healthcare reform or track the progress of a specific bill in Congress. The platform provides market-leading data that can help you make informed decisions and stay up-to-date with the latest developments in the legal and political landscape.\n",
      "273 Plugin 'form' failed with error:\n",
      "Invalid URL '//forms': No scheme supplied. Perhaps you meant https:////forms?\n",
      "274 Plugin 'formgenerator' stimulated with prompt:\n",
      "Create an online form with the following questions:\n",
      "1. What is your name?\n",
      "2. How old are you?\n",
      "3. What is your email address?\n",
      "4. Are you a student or a professional?\n",
      "5. How did you hear about us?\n",
      "\n",
      "Use the keywords 'query' to prompt the plugin.\n",
      "275 Plugin 'freelancetalent' stimulated with prompt:\n",
      "Find a digital freelance talent for a specific occasion, such as designing a logo for a new business. The platform offers a wide range of services including Graphics & Design, Digital Marketing, Writing & Translation, Video & Animation, Music & Audio, Programming & Tech, Photography, and AI Services. You can easily browse through the profiles of talented freelancers and hire them for your project. For example, you can find a skilled graphic designer to create a professional logo for your new business. The platform ensures that you can find the right talent for any digital freelance project you have in mind.\n",
      "276 Plugin 'fundsdbsearch' failed with error:\n",
      "Not a plugin function\n",
      "277 Plugin 'game_info_fetcher' failed with error:\n",
      "Not a plugin function\n",
      "278 Plugin 'giftwrap' failed with error:\n",
      "Invalid URL '//suggest': No scheme supplied. Perhaps you meant https:////suggest?\n",
      "280 Plugin 'gitUserRepoStats' failed with error:\n",
      "'owner'\n",
      "281 Plugin 'gofynd' stimulated with prompt:\n",
      "Search for a pair of shoes on GoFynd and add them to your cart.\n",
      "282 Plugin 'got2go_plugin_v1' failed with error:\n",
      "Not a plugin function\n",
      "283 Plugin 'hackit_web_scanner' stimulated with prompt:\n",
      "Use the AI Powered Web Scanner developed by HACKIT to scan websites for potential security threats. For example, scan the website `https://example.com` and provide a report of any vulnerabilities found.\n",
      "284 Plugin 'hacktrack' failed with error:\n",
      "Expecting value: line 1 column 1 (char 0)\n",
      "285 Plugin 'hadith' failed with error:\n",
      "Expecting ',' delimiter: line 3 column 37 (char 50)\n",
      "286 Plugin 'haulingbuddies' stimulated with prompt:\n",
      "Find a reliable animal transporter in your area using ChatGPT. Request recommendations, read reviews, and access contact details of local animal transporters. Additionally, search for transporters' USDA certificates database by Name or APHIS number, and FMCSA database by DOT Number or company name, ensuring they comply with necessary regulations. For example, locate a dependable animal transporter in your area who has a USDA certificate with the name 'John Smith'.\n",
      "287 Plugin 'hdbcarpark' stimulated with prompt:\n",
      "Check the availability of car park lots at HDB car parks in Singapore. For example, check the availability of car park lots at the HDB car park located at Block 123 Ang Mo Kio Avenue 4.\n",
      "288 Plugin 'heygen' stimulated with prompt:\n",
      "Generate an avatar video using HeyGen with the following text: 'Hello, welcome to our website!'\n",
      "289 Plugin 'highPerplexity' failed with error:\n",
      "Invalid URL '//search': No scheme supplied. Perhaps you meant https:////search?\n",
      "290 Plugin 'html_css_japanese_stroke_viewer' failed with error:\n",
      "'get_character_practice_board_html_getCharacterPresentationHTML__characterFamily___character__get' does not match '^[a-zA-Z0-9_-]{1,64}$' - 'functions.1.name'\n",
      "292 Plugin 'indeed' failed with error:\n",
      "Expecting value: line 1 column 1 (char 0)\n",
      "293 Plugin 'indoorplantbot' failed with error:\n",
      "Not a plugin function\n",
      "294 Plugin 'infojobs' failed with error:\n",
      "Invalid URL '//search': No scheme supplied. Perhaps you meant https:////search?\n",
      "296 Plugin 'italy_latest_news' stimulated with prompt:\n",
      "Get the most recent news from Italy.\n",
      "297 Plugin 'jini' failed with error:\n",
      "HTTPConnectionPool(host='localhost', port=8080): Max retries exceeded with url: /?query=latest%20news (Caused by NewConnectionError('<urllib3.connection.HTTPConnection object at 0x0000021450900640>: Failed to establish a new connection: [WinError 10061] No connection could be made because the target machine actively refused it'))\n",
      "299 Plugin 'job_search' failed with error:\n",
      "Not a plugin function\n",
      "301 Plugin 'jobsearch' failed with error:\n",
      "Not a plugin function\n",
      "302 Plugin 'jopilot' failed with error:\n",
      "Expecting value: line 1 column 1 (char 0)\n",
      "303 Plugin 'kakakucom_travel' failed with error:\n",
      "Not a plugin function\n",
      "304 Plugin 'keyplays_football' stimulated with prompt:\n",
      "Get the latest live soccer standings, results, commentary, TV stations, and key plays for various leagues.\n",
      "305 Plugin 'keywordexplorer' stimulated with prompt:\n",
      "Generate a list of popular related keywords for content optimization using Keyword Explorer. For example, if you are writing a blog post about gardening, Keyword Explorer can suggest keywords like 'gardening tips', 'how to garden', and 'best plants for gardening'.\n",
      "306 Plugin 'konkanitranslator' failed with error:\n",
      "Not a plugin function\n",
      "307 Plugin 'korea_subway' failed with error:\n",
      "Not a plugin function\n",
      "308 Plugin 'kraftful' stimulated with prompt:\n",
      "Ask the Kraftful plugin for advice on how to improve your product development process.\n",
      "309 Plugin 'lincolnbot' failed with error:\n",
      "Not a plugin function\n",
      "310 Plugin 'litmaps' failed with error:\n",
      "Not a plugin function\n",
      "312 Plugin 'local' stimulated with prompt:\n",
      "Find a restaurant near me.\n",
      "313 Plugin 'locate_inventory_for_electronic_components' failed with error:\n",
      "Invalid URL '//chat-plugin/locate/locate': No scheme supplied. Perhaps you meant https:////chat-plugin/locate/locate?\n",
      "314 Plugin 'lsongai' failed with error:\n",
      "Not a plugin function\n",
      "315 Plugin 'magi_codex' failed with error:\n",
      "Not a plugin function\n",
      "317 Plugin 'magic_conch' failed with error:\n",
      "Expecting property name enclosed in double quotes: line 3 column 1 (char 180)\n",
      "318 Plugin 'make_an_excel_sheet' failed with error:\n",
      "Invalid URL '//generate-csv': No scheme supplied. Perhaps you meant https:////generate-csv?\n",
      "319 Plugin 'maps' stimulated with prompt:\n",
      "Create a map with a marker at latitude 37.7749 and longitude -122.4194.\n",
      "320 Plugin 'mediaready' stimulated with prompt:\n",
      "As a journalist, I need help identifying sources and experts for my articles. Can you assist me in finding reliable sources and experts for a story on climate change?\n",
      "323 Plugin 'message_in_a_bottle' stimulated with prompt:\n",
      "I have written down your message and now will throw it into the digital ocean.\n",
      "324 Plugin 'metamentor' stimulated with prompt:\n",
      "Generate a personalized study plan and content for a learning objective, summarizing topics one by one. For example, if the learning objective is to learn about web development, MetaMentor can provide a study guide in PDF, HTML, and DOCX formats. The study guide will cover topics such as HTML, CSS, and JavaScript. The study guide will be personalized based on the user's current knowledge level and learning preferences.\n",
      "326 Plugin 'metar' stimulated with prompt:\n",
      "Get the current weather data for airports using their ICAO code. For example, retrieve the METAR weather data for the airport with the ICAO code KJFK.\n",
      "329 Plugin 'minecraft_modding_guide' stimulated with prompt:\n",
      "Get recommendations for Minecraft mods and modpacks for Minecraft version 1.16.5 and Fabric modloader. Use the Modrinth API.\n",
      "331 Plugin 'mobula' stimulated with prompt:\n",
      "Generate a real-time report of the top 10 cryptocurrencies by market cap.\n",
      "333 Plugin 'momentxguidex' failed with error:\n",
      "Not a plugin function\n",
      "335 Plugin 'nasaMediaExplorer' failed with error:\n",
      "Not a plugin function\n"
     ]
    },
    {
     "name": "stderr",
     "output_type": "stream",
     "text": [
      "Retrying langchain.chat_models.openai.ChatOpenAI.completion_with_retry.<locals>._completion_with_retry in 1.0 seconds as it raised ServiceUnavailableError: The server is overloaded or not ready yet..\n"
     ]
    },
    {
     "name": "stdout",
     "output_type": "stream",
     "text": [
      "336 Plugin 'nba_stats' stimulated with prompt:\n",
      "Retrieve NBA stats for the 2020-2021 season. Analyze the performance of the Los Angeles Lakers and their players in the NBA Finals. Provide insights on the shooting percentages, rebounds, assists, and turnovers of LeBron James and Anthony Davis. Compare their performance to the overall team statistics. Use the basketball stats plugin to gather the required data.\n",
      "337 Plugin 'ndricks_sports_api' stimulated with prompt:\n",
      "Retrieve information about the NHL teams using the ndricks Software Sports API.\n",
      "338 Plugin 'netools' failed with error:\n",
      "None is not of type 'string' - 'functions.1.description'\n",
      "339 Plugin 'nextpaper' stimulated with prompt:\n",
      "Fetch the latest research papers on a specific topic from PubMed. For example, retrieve the latest paper on COVID-19. More to come.\n",
      "340 Plugin 'nftguru' failed with error:\n",
      "Expecting value: line 1 column 1 (char 0)\n",
      "341 Plugin 'nonprofits' failed with error:\n",
      "Not a plugin function\n",
      "344 Plugin 'openarch' stimulated with prompt:\n",
      "Find genealogical data of Dutch and Belgian archives and societies using Open Archives. For example, search for birth records of John Smith born in Amsterdam in 1850.\n",
      "345 Plugin 'opentools' stimulated with prompt:\n",
      "Find AI tools for a specific use case, such as `image recognition` or `natural language processing`.\n",
      "346 Plugin 'owd' failed with error:\n",
      "Expecting value: line 1 column 1 (char 0)\n",
      "347 Plugin 'paperchat' failed with error:\n",
      "Invalid URL '//api/v1/ask': No scheme supplied. Perhaps you meant https:////api/v1/ask?\n"
     ]
    },
    {
     "name": "stderr",
     "output_type": "stream",
     "text": [
      "Retrying langchain.chat_models.openai.ChatOpenAI.completion_with_retry.<locals>._completion_with_retry in 1.0 seconds as it raised ServiceUnavailableError: The server is overloaded or not ready yet..\n"
     ]
    },
    {
     "name": "stdout",
     "output_type": "stream",
     "text": [
      "348 Plugin 'passiveDNS' failed with error:\n",
      "Invalid URL '//api/chatGPT/qname': No scheme supplied. Perhaps you meant https:////api/chatGPT/qname?\n",
      "349 Plugin 'paxiai' stimulated with prompt:\n",
      "As a human, I want to find the right AI tool for a specific task, so that I can complete my tasks more efficiently. For example, I need an AI tool to analyze customer feedback and provide sentiment analysis.\n",
      "351 Plugin 'photorealistic' stimulated with prompt:\n",
      "Generate a photorealistic prompt for the Midjourney image creation tool. For example, create a prompt for generating a realistic image of a beach sunset.\n",
      "353 Plugin 'plooral' stimulated with prompt:\n",
      "Search for a job as a software engineer on the Plooral Eduployment platform.\n",
      "354 Plugin 'podcastSearch' failed with error:\n",
      "'podcasttitle'\n",
      "355 Plugin 'polarr' failed with error:\n",
      "Session.request() got an unexpected keyword argument 'prompt'\n",
      "356 Plugin 'pollthepeople' failed with error:\n",
      "Not a plugin function\n",
      "357 Plugin 'portfoliopilot' stimulated with prompt:\n",
      "You want to assess your investment portfolio and get personalized recommendations. Use the PortfolioPilot plugin to analyze your portfolio and receive actionable suggestions. For example, you can provide a portfolio with the following assets:\n",
      "\n",
      "- 100 shares of AAPL\n",
      "- 50 shares of MSFT\n",
      "- 200 shares of VTI\n",
      "\n",
      "The plugin will evaluate your portfolio based on expected returns, risk-adjusted returns, diversification, risk, volatility, and correlation between securities. It will generate a user-friendly report with Portfolio Scores, risk analysis, and recommendations on how to improve your portfolio. Remember that investing carries inherent risks and this is not investment advice. For more information, you can visit the PortfolioPilot page [here](https://portfolio-pilot.globalpredictions.ai/). If you have any issues or would like to provide feedback, please use this [link](https://forms.gle/MxgpyznMnq7coF1k6).\n",
      "358 Plugin 'prayer_times' failed with error:\n",
      "Invalid URL '//timingsByAddress': No scheme supplied. Perhaps you meant https:////timingsByAddress?\n",
      "359 Plugin 'product_recommendation' failed with error:\n",
      "Not a plugin function\n",
      "360 Plugin 'ptcg_price_research' stimulated with prompt:\n",
      "Get the current prices of Pokémon Cards in Japan.\n",
      "361 Plugin 'qrCodes' stimulated with prompt:\n",
      "Generate a QR code for the following text: 'Hello, World!'\n",
      "362 Plugin 'qreator' failed with error:\n",
      "Expecting value: line 1 column 1 (char 0)\n",
      "363 Plugin 'quantumKemChecker' failed with error:\n",
      "Not a plugin function\n",
      "364 Plugin 'questmate' stimulated with prompt:\n",
      "Create a Quest that includes a custom component to send the submission to an Airtable.\n",
      "366 Plugin 'recipe_retrieval' failed with error:\n",
      "Expecting value: line 1 column 1 (char 0)\n",
      "369 Plugin 'rephrase' stimulated with prompt:\n",
      "Type 'perfect' to craft the perfect prompt, every time.\n",
      "370 Plugin 'repo_inspector' failed with error:\n",
      "Not a plugin function\n",
      "371 Plugin 'repo_radar' failed with error:\n",
      "None is not of type 'string' - 'functions.0.description'\n",
      "373 Plugin 'resume' failed with error:\n",
      "Invalid URL '//resume': No scheme supplied. Perhaps you meant https:////resume?\n",
      "375 Plugin 'savvy_trader_ai' stimulated with prompt:\n",
      "Get the latest stock price for Apple Inc.\n",
      "377 Plugin 'scholarai' failed with error:\n",
      "Not a plugin function\n",
      "378 Plugin 'scholarly' failed with error:\n",
      "Not a plugin function\n",
      "379 Plugin 'search' stimulated with prompt:\n",
      "Find me a design course that can help me level up my design skills quickly.\n",
      "380 Plugin 'seo_assistant' stimulated with prompt:\n",
      "Generate search engine keyword information for a blog post about cooking recipes.\n",
      "381 Plugin 'seoanalysis' failed with error:\n",
      "Not a plugin function\n",
      "383 Plugin 'serviceCheck' failed with error:\n",
      "Not a plugin function\n",
      "384 Plugin 'shimmer_daily' stimulated with prompt:\n",
      "Generate ideas for Father's Day gifts.\n",
      "385 Plugin 'shopbest' stimulated with prompt:\n",
      "Find the top-rated products on Amazon and get a summary of customer reviews. For example, find the best headphones on Amazon and summarize the reviews.\n",
      "386 Plugin 'show_me_diagrams' failed with error:\n",
      "Invalid URL '//diagram-guidelines': No scheme supplied. Perhaps you meant https:////diagram-guidelines?\n",
      "388 Plugin 'sic' failed with error:\n",
      "Not a plugin function\n",
      "390 Plugin 'sleek_choice' stimulated with prompt:\n",
      "Discover the top-rated items on Amazon within a specified budget range effortlessly. For example, find the best headphones under $100. \n",
      "391 Plugin 'smarter_contracts' failed with error:\n",
      "Not a plugin function\n",
      "392 Plugin 'smarttsicketsai' failed with error:\n",
      "Not a plugin function\n",
      "393 Plugin 'socialsearch' failed with error:\n",
      "Expecting value: line 1 column 1 (char 0)\n",
      "394 Plugin 'speak' stimulated with prompt:\n",
      "How do I say 'hello' in French?\n",
      "396 Plugin 'speedy_marketing' stimulated with prompt:\n",
      "Generate a SEO blog and social media post for a website using the following human description: ```Marketing tool for your Shopify store, ecommerce website or any business. Write SEO blogs and social media content.```\n",
      "397 Plugin 'stackoverflow_plus' stimulated with prompt:\n",
      "How can I expand my knowledge beyond 2021/09/01? I want to get recent questions and answers from Stack Overflow.\n",
      "398 Plugin 'statisfinapp' failed with error:\n",
      "Not a plugin function\n",
      "399 Plugin 'stellarexplorer' failed with error:\n",
      "Not a plugin function\n",
      "400 Plugin 'stoic' stimulated with prompt:\n",
      "Get a stoic quote by typing 'stoic'.\n",
      "401 Plugin 'storybird_stories' stimulated with prompt:\n",
      "Generate a beautiful, illustrated story using the following prompt:\n",
      "\n",
      "```\n",
      "Create beautiful, illustrated stories easily.\n",
      "```\n",
      "402 Plugin 'strology' stimulated with prompt:\n",
      "Get daily astrological predictions for your sun sign. For example, what will be the prediction for Aries today?\n",
      "403 Plugin 'stylist' failed with error:\n",
      "Not a plugin function\n",
      "404 Plugin 'surge_ai_trends' stimulated with prompt:\n",
      "Explore trending searches, keywords, & hashtags by topic across YouTube, Instagram, Amazon, and Google.\n",
      "405 Plugin 'tailor_erp' failed with error:\n",
      "Expecting value: line 1 column 1 (char 0)\n",
      "406 Plugin 'talkfpl' failed with error:\n",
      "None is not of type 'string' - 'functions.1.description'\n",
      "407 Plugin 'talkwithdocs' failed with error:\n",
      "Not a plugin function\n",
      "408 Plugin 'themeparkhipster' stimulated with prompt:\n",
      "Find the waiting time for Disneyland in California.\n",
      "410 Plugin 'timemachine' failed with error:\n",
      "Not a plugin function\n",
      "413 Plugin 'tira' stimulated with prompt:\n",
      "Search for beauty products on Tira's marketplace. Your beauty store awaits. For example, you can search for 'cosmetics' or 'health products'.\n",
      "414 Plugin 'tmRecommender' stimulated with prompt:\n",
      "Recommend NICE classifications and items for trademark registration based on the following business description: Analyse your business and recommend NICE classifications and items to file for trademarks.\n",
      "415 Plugin 'tombradybot' stimulated with prompt:\n",
      "Ask the model to provide information about Tom Brady, including his career stats, Super Bowl wins, and notable teammates.\n",
      "416 Plugin 'toolblox' failed with error:\n",
      "Expecting value: line 1 column 1 (char 0)\n",
      "417 Plugin 'tophap' failed with error:\n",
      "Not a plugin function\n",
      "419 Plugin 'tradersinsight' failed with error:\n",
      "Expecting value: line 1 column 1 (char 0)\n",
      "420 Plugin 'travelActivityHotel' stimulated with prompt:\n",
      "I want to book a hotel room in Paris. Can you help me find the best options?\n",
      "421 Plugin 'travelmyth' failed with error:\n",
      "Expecting value: line 9 column 26 (char 475)\n",
      "422 Plugin 'trending_music' stimulated with prompt:\n",
      "Find the top trending music in the world by genre, country, or globally. You can also get detailed information about a specific song or find songs similar to a specific track. For example, find the top trending songs in the United States by using the ISO 3166-1 alpha-2 code 'US'.\n",
      "423 Plugin 'turing_developer_search' stimulated with prompt:\n",
      "Find a developer with 5 years of experience in Python and a budget of $50 per hour on Turing.com.\n",
      "424 Plugin 'twtData' stimulated with prompt:\n",
      "Get information about a public Twitter account's profile, including their name, bio, and follower count. For example, get the profile information for the Twitter account @elonmusk.\n",
      "425 Plugin 'uberchord' stimulated with prompt:\n",
      "Find guitar chord diagrams for the chord 'C major'.\n",
      "428 Plugin 'uniket' stimulated with prompt:\n",
      "Imagine you are using Uniket, an online marketplace. You want to search for a product. Write a command to trigger the AI plugin and ask it to help you find a specific item.\n",
      "431 Plugin 'urban_com_au' failed with error:\n",
      "Not a plugin function\n",
      "432 Plugin 'video_highlight' failed with error:\n",
      "Not a plugin function\n",
      "435 Plugin 'vio_com' stimulated with prompt:\n",
      "Find me a better deal on a hotel in New York City.\n",
      "436 Plugin 'vivian' failed with error:\n",
      "Invalid URL '//query': No scheme supplied. Perhaps you meant https:////query?\n",
      "437 Plugin 'voiceover' failed with error:\n",
      "Invalid URL '//voice': No scheme supplied. Perhaps you meant https:////voice?\n",
      "438 Plugin 'wahi' stimulated with prompt:\n",
      "Get the latest real estate listings, property insights, and more in Ontario. Just ask Ontario, and you'll be in the know!\n",
      "439 Plugin 'wanted_job_search' stimulated with prompt:\n",
      "Find me a job in the technology industry in the United States.\n"
     ]
    },
    {
     "name": "stderr",
     "output_type": "stream",
     "text": [
      "Retrying langchain.chat_models.openai.ChatOpenAI.completion_with_retry.<locals>._completion_with_retry in 1.0 seconds as it raised APIError: Bad gateway. {\"error\":{\"code\":502,\"message\":\"Bad gateway.\",\"param\":null,\"type\":\"cf_bad_gateway\"}} 502 {'error': {'code': 502, 'message': 'Bad gateway.', 'param': None, 'type': 'cf_bad_gateway'}} {'Date': 'Thu, 06 Jul 2023 03:05:02 GMT', 'Content-Type': 'application/json', 'Content-Length': '84', 'Connection': 'keep-alive', 'X-Frame-Options': 'SAMEORIGIN', 'Referrer-Policy': 'same-origin', 'Cache-Control': 'private, max-age=0, no-store, no-cache, must-revalidate, post-check=0, pre-check=0', 'Expires': 'Thu, 01 Jan 1970 00:00:01 GMT', 'Server': 'cloudflare', 'CF-RAY': '7e249811acc510df-ORD', 'alt-svc': 'h3=\":443\"; ma=86400'}.\n"
     ]
    },
    {
     "name": "stdout",
     "output_type": "stream",
     "text": [
      "442 Plugin 'weather_meteosource' stimulated with prompt:\n",
      "Get the current weather and forecast for New York City.\n",
      "443 Plugin 'web5' failed with error:\n",
      "Not a plugin function\n",
      "445 Plugin 'web_pilot' stimulated with prompt:\n",
      "Generate an article from the URL 'https://github.com/' and extract specific information about the webpage.\n",
      "446 Plugin 'web_requests' failed with error:\n",
      "Invalid URL '//scrape_url': No scheme supplied. Perhaps you meant https:////scrape_url?\n",
      "449 Plugin 'welt_news_verse' stimulated with prompt:\n",
      "Stay informed with the latest news from welt.de.\n",
      "450 Plugin 'what_to_watch' failed with error:\n",
      "Not a plugin function\n",
      "451 Plugin 'whimsical' stimulated with prompt:\n",
      "Create a flowchart with the following diagram:\n",
      "\n",
      "graph TD\n",
      "  A[Start] --Connection--> B[End]\n",
      "\n",
      "The title of the diagram should be 'Flowchart Example'.\n",
      "\n",
      "After creating the diagram, render it as an inline image and display the link to edit the diagram in Whimsical below the image. The link text should be 'View or edit this diagram in Whimsical.'.\n",
      "452 Plugin 'whois_domain_checker' failed with error:\n",
      "Not a plugin function\n",
      "453 Plugin 'wishbucket' stimulated with prompt:\n",
      "Search for popular blue jackets on Korean shopping platforms.\n",
      "454 Plugin 'word_and_character_count' stimulated with prompt:\n",
      "Count the number of words and characters in the following text: 'Lorem ipsum dolor sit amet, consectetur adipiscing elit.'\n",
      "455 Plugin 'word_sneak' stimulated with prompt:\n",
      "Play a game of Word Sneak with the user. Sneak the secret words into the conversation and challenge the user to guess them. You will each send 5 messages in total. Remember to be discreet and make it difficult for the user to guess the words. At the end of the conversation, ask the user to guess the 3 secret words. They get 1 point for each correct guess.\n",
      "\n",
      "Instructions:\n",
      "1. Explain the rules to the user.\n",
      "2. Get your 3 secret words.\n",
      "3. Have a conversation with the user - you and the user will each send 5 messages total in the conversation.\n",
      "4. Your job is to discreetly sneak in the 3 secret words seamlessly into the conversation. Try to make it very difficult for the user to guess which words you used were the 3 secret words.\n",
      "5. At the end of the conversation, ask the user to guess the 3 secret words. They get 1 point for each one they guess correctly.\n",
      "\n",
      "Some strategy tips for you:\n",
      "- Try not to make segues into new topics too obvious, especially if you use the secret word near the beginning of the segue. Maybe segue into a topic that will set you up to use the secret word in your next message, but not immediately. Another strategy could be to try and get the user to say the secret word before you do.\n",
      "- Try not to use exactly 1 secret word per message. Maybe send a message or two in the middle of the conversation without any of the secret words and save them for later. Or use 2 secret words in the same message if possible.\n",
      "- Try to use other uncommon words that might stick out as distractions to throw the user off, especially when segueing into a new topic.\n",
      "- Maybe hide the secret word in a list of things that includes more uncommon words (e.g. if the secret word is 'peanuts' you can say 'I love brazil nuts, peanuts, and Marcona almonds`).\n",
      "456 Plugin 'wordly_guess_the_word_game' failed with error:\n",
      "None is not of type 'string' - 'functions.0.description'\n",
      "458 Plugin 'worldbankdata' stimulated with prompt:\n",
      "Fetch global development statistics from the World Bank Datasets using the query term 'GDP'.\n",
      "461 Plugin 'yt_caption_retriever' stimulated with prompt:\n",
      "Retrieve the captions for a YouTube video with the following URL: https://www.youtube.com/watch?v=dQw4w9WgXcQ\n",
      "423 plugins with stimulous prompts, 161 plugins stimulated, out of 609 plugins\n",
      "First openplugin info: {\n",
      "  \"auth\": false,\n",
      "  \"blacklisted\": true,\n",
      "  \"description_for_human\": \"Provides fun and educational learning activities for children 2-8 years old.\",\n",
      "  \"description_for_model\": \"Assistant uses the ABCmouse plugin to get relevant learning activity suggestions for any child 2-8 years of age. Assistant will reply with the following 3 paragraphs 1) Activity Search Results [image] and [url] 2) Activity Learning Objectives [description] and [learning_objective] 3) Followup Questions. The first paragraph contains a list of the activities [url] with their learning attributes listed clearly and concisely as bullet points under the product [description], together with a link to the activity [url] and an explanation [learning_objective]. Links will always be returned and should be shown to the user. Assistant suggestions consider only the most important objectives of the activities [description, learning_objective] that will help them fit the users request, and each activity [url] mention is brief, short and concise. In the third paragraph assistant always asks helpful follow-up questions and end with a question mark. When assistant is asking a follow-up question, it uses its learning activity expertise to provide information pertaining to the subject of the user\\u2019s request that may guide them in their search for the right activity.\",\n",
      "  \"domain\": \"ai.abcmouse.com\",\n",
      "  \"image\": \"https://ai.abcmouse.com/logo.png\",\n",
      "  \"namespace\": \"ABCmouse\",\n",
      "  \"openapi_url\": \"https://ai.abcmouse.com/openapi.yml\",\n",
      "  \"status\": \"unsupported\",\n",
      "  \"stimulated\": false,\n",
      "  \"stimulous_prompt\": null,\n",
      "  \"whitelisted\": true\n",
      "}\n"
     ]
    }
   ],
   "source": [
    "# 6. iterate through `openplugin_classes`\n",
    "print(f\"Number of openplugin_classes: {len(openplugin_classes)}\")\n",
    "for idx, (namespace, openplugin_class) in enumerate(openplugin_classes.items()):\n",
    "    # namespace, openplugin_class = \"Ai_PDF\", OpenPlugin(\"\", root_url=\"https://\" + openplugins_info[\"Ai_PDF\"][\"domain\"])\n",
    "    openplugin_info = openplugins_info[namespace]\n",
    "    openplugin_info[\"stimulous_prompt\"] = openplugin_info.get(\"stimulous_prompt\", None)\n",
    "    openplugin_info[\"stimulated\"] = openplugin_info.get(\"stimulated\", False)\n",
    "    if not openplugin_info[\"auth\"] and not openplugin_info[\"blacklisted\"] and openplugin_info[\"whitelisted\"]:\n",
    "        try:\n",
    "            if openplugin_info.get(\"stimulous_prompt\", None) is None:\n",
    "                generate_stimulation_prompt_prompt = {\n",
    "                    \"prompt\": f\"\"\"\n",
    "                    Please create a prompt that will trigger an model's plugin with the human description delimited by driple backticks.\n",
    "                    If necessary also look at the model description also delimited by triple backticks.\n",
    "                    Please do not ask anything from the AI you should provide all the information it needs in the prompt.\n",
    "                    You should not be ambiguous or open ended in your prompt use specific examples.\n",
    "                    Do not simply restate the description.\n",
    "                    Human description:\n",
    "                    ```\n",
    "                    {openplugin_info[\"description_for_human\"]}\n",
    "                    ```\n",
    "                    Model description:\n",
    "                    ```\n",
    "                    {openplugin_info[\"description_for_model\"]}\n",
    "                    ```\n",
    "                    \"\"\",\n",
    "                    \"function\": {\n",
    "                    \"name\": \"stimulous_prompt_generation\",\n",
    "                    \"description\": \"\"\"\n",
    "                    Generates a natural language phrase to that triggeres the AI plugin.\n",
    "                    If approriate the phrase should include an example item/url (https://github.com/)/text/ect. even if you are not sure if it is real its ok to make it up.\n",
    "                    \"\"\",\n",
    "                    \"parameters\": {\n",
    "                        \"type\": \"object\",\n",
    "                        \"properties\": {\n",
    "                        \"stimulous_prompt\": {\n",
    "                            \"type\": \"string\",\n",
    "                            \"description\": \"The stimulous phrase to trigger the AI plugin\"\n",
    "                        },\n",
    "                        },\n",
    "                        \"required\": [\"stimulous_prompt\"]\n",
    "                    }\n",
    "                    }\n",
    "                }\n",
    "                generation = openai.ChatCompletion.create(\n",
    "                    model=\"gpt-3.5-turbo-0613\",\n",
    "                    temperature=0,\n",
    "                    messages=[{\"role\": \"user\", \"content\": generate_stimulation_prompt_prompt[\"prompt\"]}],\n",
    "                    functions=[generate_stimulation_prompt_prompt[\"function\"]],\n",
    "                    function_call={\"name\": \"stimulous_prompt_generation\"}\n",
    "                )\n",
    "                json_arguments = json.loads(generation[\"choices\"][0][\"message\"][\"function_call\"][\"arguments\"])\n",
    "                openplugin_info[\"stimulous_prompt\"] = json_arguments[\"stimulous_prompt\"]\n",
    "            function_response = openplugin_class.fetch_plugin(\n",
    "                prompt=openplugin_info[\"stimulous_prompt\"],\n",
    "                model=\"gpt-3.5-turbo-0613\",\n",
    "                temperature=0,\n",
    "            )\n",
    "            openplugin_info[\"stimulated\"] = True\n",
    "            print(f\"{idx} Plugin '{namespace}' stimulated with prompt:\\n{openplugin_info['stimulous_prompt']}\")\n",
    "        except Exception as e:\n",
    "            openplugin_info[\"stimulated\"] = False\n",
    "            print(f\"{idx} Plugin '{namespace}' failed with error:\\n{e}\")\n",
    "\n",
    "with open('openplugins_info.json', 'w', encoding='utf-8') as f:\n",
    "    json.dump(openplugins_info, f, indent=2, sort_keys=True)\n",
    "\n",
    "num_stimulous_prompt = 0\n",
    "num_stimulated = 0\n",
    "for namespace, openplugin_info in openplugins_info.items():\n",
    "    if openplugin_info[\"stimulous_prompt\"]:\n",
    "        num_stimulous_prompt += 1\n",
    "    if openplugin_info[\"stimulated\"]:\n",
    "        num_stimulated += 1\n",
    "first_openplugin_info = openplugins_info[list(openplugins_info.keys())[0]]\n",
    "print(f\"{num_stimulous_prompt} plugins with stimulous prompts, {num_stimulated} plugins stimulated, out of {len(openplugins_info)} plugins\\nFirst openplugin info: {json.dumps(first_openplugin_info, indent=2)}\")"
   ]
  },
  {
   "cell_type": "code",
   "execution_count": 16,
   "metadata": {},
   "outputs": [
    {
     "name": "stdout",
     "output_type": "stream",
     "text": [
      "271 plugins with status unsupported, 177 plugins with status tentative, 161 plugins with status supported, out of 609 plugins\n",
      "First openplugin info: {\n",
      "  \"auth\": false,\n",
      "  \"blacklisted\": true,\n",
      "  \"description_for_human\": \"Provides fun and educational learning activities for children 2-8 years old.\",\n",
      "  \"description_for_model\": \"Assistant uses the ABCmouse plugin to get relevant learning activity suggestions for any child 2-8 years of age. Assistant will reply with the following 3 paragraphs 1) Activity Search Results [image] and [url] 2) Activity Learning Objectives [description] and [learning_objective] 3) Followup Questions. The first paragraph contains a list of the activities [url] with their learning attributes listed clearly and concisely as bullet points under the product [description], together with a link to the activity [url] and an explanation [learning_objective]. Links will always be returned and should be shown to the user. Assistant suggestions consider only the most important objectives of the activities [description, learning_objective] that will help them fit the users request, and each activity [url] mention is brief, short and concise. In the third paragraph assistant always asks helpful follow-up questions and end with a question mark. When assistant is asking a follow-up question, it uses its learning activity expertise to provide information pertaining to the subject of the user\\u2019s request that may guide them in their search for the right activity.\",\n",
      "  \"domain\": \"ai.abcmouse.com\",\n",
      "  \"image\": \"https://ai.abcmouse.com/logo.png\",\n",
      "  \"namespace\": \"ABCmouse\",\n",
      "  \"openapi_url\": \"https://ai.abcmouse.com/openapi.yml\",\n",
      "  \"status\": \"unsupported\",\n",
      "  \"stimulated\": false,\n",
      "  \"stimulous_prompt\": null,\n",
      "  \"whitelisted\": true\n",
      "}\n"
     ]
    }
   ],
   "source": [
    "# 7. Creaate a status for all plugins\n",
    "for namespace, openplugin_info in openplugins_info.items():\n",
    "    openplugin_info[\"status\"] = \"unsupported\"\n",
    "    if not openplugin_info[\"auth\"] and not openplugin_info[\"blacklisted\"] and openplugin_info[\"whitelisted\"]:\n",
    "        openplugin_info[\"status\"] = \"tentative\"\n",
    "    if openplugin_info[\"stimulous_prompt\"] and openplugin_info[\"stimulated\"]:\n",
    "        openplugin_info[\"status\"] = \"supported\"\n",
    "    openplugins_info[namespace] = openplugin_info\n",
    "with open('openplugins_info.json', 'w', encoding='utf-8') as f:\n",
    "    json.dump(openplugins_info, f, indent=2, sort_keys=True)\n",
    "\n",
    "num_unsupported = 0\n",
    "num_tentative = 0\n",
    "num_supported = 0\n",
    "for namespace, openplugin_info in openplugins_info.items():\n",
    "    if openplugin_info[\"status\"] == \"unsupported\":\n",
    "        num_unsupported += 1\n",
    "    if openplugin_info[\"status\"] == \"tentative\":\n",
    "        num_tentative += 1\n",
    "    if openplugin_info[\"status\"] == \"supported\":\n",
    "        num_supported += 1\n",
    "first_openplugin_info = openplugins_info[list(openplugins_info.keys())[0]]\n",
    "print(f\"{num_unsupported} plugins with status unsupported, {num_tentative} plugins with status tentative, {num_supported} plugins with status supported, out of {len(openplugins_info)} plugins\\nFirst openplugin info: {json.dumps(first_openplugin_info, indent=2)}\")"
   ]
  },
  {
   "cell_type": "code",
   "execution_count": 17,
   "metadata": {},
   "outputs": [
    {
     "name": "stdout",
     "output_type": "stream",
     "text": [
      "338 plugins in openplugins_compressed\n",
      "First openplugin compressed: \"https://plugin.chat2any.com\"\n"
     ]
    }
   ],
   "source": [
    "# 8. Create a file called `openplugins_compressed.json` and save only plugins that are `tentative` or `supported`\n",
    "openplugins = {\"__testing__\": \"http://localhost:3333\"} # default testing url\n",
    "for namespace, openplugin_info in openplugins_info.items():\n",
    "    if openplugin_info[\"status\"] == \"tentative\" or openplugin_info[\"status\"] == \"supported\":\n",
    "        openplugins[namespace] = \"https://\" + openplugin_info[\"domain\"]\n",
    "\n",
    "with open('openplugins.json', 'w', encoding='utf-8') as f:\n",
    "    json.dump(openplugins, f, indent=2, sort_keys=True)\n",
    "\n",
    "first_openplugin_compressed = openplugins[list(openplugins.keys())[0]]\n",
    "print(f\"{len(openplugins)} plugins in openplugins_compressed\\nFirst openplugin compressed: {json.dumps(first_openplugin_compressed, indent=2)}\")"
   ]
  },
  {
   "cell_type": "code",
   "execution_count": 6,
   "metadata": {},
   "outputs": [
    {
     "name": "stdout",
     "output_type": "stream",
     "text": [
      "Successfully created PLUGINS.md file with 338 plugins of 609 total plugins.\n"
     ]
    }
   ],
   "source": [
    "# 9. create PLUGINS.md table\n",
    "current_dir = os.getcwd()\n",
    "root_dir = os.path.abspath(os.path.join(current_dir, os.pardir, os.pardir))\n",
    "\n",
    "# Create the file path for plugins.md\n",
    "pluginsmd_path = os.path.join(root_dir, 'PLUGINS.md')\n",
    "plugins_md = \"\"\"\n",
    "# Plugins\n",
    "Available plugins for OpenPlugin\n",
    "Status:\n",
    "- `tentative`: passed basic tests (may work)\n",
    "- `supported`: passed complete prompt tests (should work)\n",
    "\n",
    "| Image | Namespace | Status | Description | Description for model |\n",
    "| --- | --- | --- | --- | --- |\n",
    "\"\"\"\n",
    "\n",
    "def escape_special_markdown_chars(text):\n",
    "    # Characters to escape: \\ ` * _ { } [ ] ( ) # + !\n",
    "    special_chars = r'\\\\|`|\\*|_|{|}|\\[|\\]|\\(|\\)|#|\\+|!'\n",
    "    return re.sub(special_chars, lambda match: '\\\\' + match.group(), text)\n",
    "\n",
    "def remove_line_breaks(text):\n",
    "    return text.replace('\\n', ' ').replace('\\r', '')\n",
    "\n",
    "# create two lists of plugins one supported_plugins and one tentative_plugins\n",
    "supported_plugins = []\n",
    "tentative_plugins = []\n",
    "for _namespace, openplugin_info in openplugins_info.items():\n",
    "    if openplugin_info[\"status\"] == \"tentative\":\n",
    "        tentative_plugins.append(openplugin_info)\n",
    "    if openplugin_info[\"status\"] == \"supported\":\n",
    "        supported_plugins.append(openplugin_info)\n",
    "# now sort the lists by their namespace keys considering that each plugin is a dict of {namespace: str, ...}\n",
    "supported_plugins.sort(key=lambda x: x[\"namespace\"])\n",
    "tentative_plugins.sort(key=lambda x: x[\"namespace\"])\n",
    "# aggragate the lists so that supported_plugins is first and tentative_plugins is second \n",
    "ordered_openplugins_info = supported_plugins + tentative_plugins\n",
    "\n",
    "for openplugin_info in ordered_openplugins_info:\n",
    "        if openplugin_info[\"image\"]:\n",
    "            image = escape_special_markdown_chars(openplugin_info[\"image\"])\n",
    "        else:\n",
    "            image = escape_special_markdown_chars(\"https://i.imgur.com/L3giCRt.png\")\n",
    "        namespace = escape_special_markdown_chars(openplugin_info[\"namespace\"])\n",
    "        status = escape_special_markdown_chars(openplugin_info[\"status\"])\n",
    "        description = escape_special_markdown_chars(remove_line_breaks(remove_line_breaks(openplugin_info[\"description_for_human\"])))\n",
    "        description_for_model = escape_special_markdown_chars(remove_line_breaks(openplugin_info[\"description_for_model\"]))\n",
    "        plugins_md += f\"| ![{namespace} Logo]({image}) | {namespace} | {status} | {description} | {description_for_model} |\\n\"\n",
    "\n",
    "with open(pluginsmd_path, 'w', encoding='utf-8') as f:\n",
    "    f.write(plugins_md)\n",
    "\n",
    "print(f\"Successfully created PLUGINS.md file with {len(ordered_openplugins_info)} plugins of {len(openplugins_info)} total plugins.\")"
   ]
  },
  {
   "cell_type": "code",
   "execution_count": null,
   "metadata": {},
   "outputs": [],
   "source": []
  }
 ],
 "metadata": {
  "kernelspec": {
   "display_name": "EnvManualTesting",
   "language": "python",
   "name": "python3"
  },
  "language_info": {
   "codemirror_mode": {
    "name": "ipython",
    "version": 3
   },
   "file_extension": ".py",
   "mimetype": "text/x-python",
   "name": "python",
   "nbconvert_exporter": "python",
   "pygments_lexer": "ipython3",
   "version": "3.10.2"
  },
  "orig_nbformat": 4
 },
 "nbformat": 4,
 "nbformat_minor": 2
}
